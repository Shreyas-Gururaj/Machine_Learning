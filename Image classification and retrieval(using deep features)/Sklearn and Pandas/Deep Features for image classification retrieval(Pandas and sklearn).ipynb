{
 "cells": [
  {
   "cell_type": "code",
   "execution_count": 1,
   "metadata": {},
   "outputs": [],
   "source": [
    "import pandas as pd\n",
    "import matplotlib.pyplot as plt\n",
    "%matplotlib inline\n",
    "import re\n",
    "import numpy as np"
   ]
  },
  {
   "cell_type": "code",
   "execution_count": 2,
   "metadata": {},
   "outputs": [],
   "source": [
    "image_train = pd.read_csv(r\"image_train_data.csv\")\n",
    "image_test = pd.read_csv(r\"image_test_data.csv\")"
   ]
  },
  {
   "cell_type": "code",
   "execution_count": 3,
   "metadata": {},
   "outputs": [
    {
     "data": {
      "text/plain": [
       "2005"
      ]
     },
     "execution_count": 3,
     "metadata": {},
     "output_type": "execute_result"
    }
   ],
   "source": [
    "len(image_train)"
   ]
  },
  {
   "cell_type": "code",
   "execution_count": 4,
   "metadata": {
    "scrolled": true
   },
   "outputs": [
    {
     "data": {
      "text/html": [
       "<div>\n",
       "<style scoped>\n",
       "    .dataframe tbody tr th:only-of-type {\n",
       "        vertical-align: middle;\n",
       "    }\n",
       "\n",
       "    .dataframe tbody tr th {\n",
       "        vertical-align: top;\n",
       "    }\n",
       "\n",
       "    .dataframe thead th {\n",
       "        text-align: right;\n",
       "    }\n",
       "</style>\n",
       "<table border=\"1\" class=\"dataframe\">\n",
       "  <thead>\n",
       "    <tr style=\"text-align: right;\">\n",
       "      <th></th>\n",
       "      <th>id</th>\n",
       "      <th>image</th>\n",
       "      <th>label</th>\n",
       "      <th>deep_features</th>\n",
       "      <th>image_array</th>\n",
       "    </tr>\n",
       "  </thead>\n",
       "  <tbody>\n",
       "    <tr>\n",
       "      <th>0</th>\n",
       "      <td>24</td>\n",
       "      <td>Height: 32 Width: 32</td>\n",
       "      <td>bird</td>\n",
       "      <td>[0.242872 1.09545 0 0.39363 0 0 11.8949 0 0 0 ...</td>\n",
       "      <td>[73 77 58 71 68 50 77 69 44 120 116 83 125 120...</td>\n",
       "    </tr>\n",
       "    <tr>\n",
       "      <th>1</th>\n",
       "      <td>33</td>\n",
       "      <td>Height: 32 Width: 32</td>\n",
       "      <td>cat</td>\n",
       "      <td>[0.525088 0 0 0 0 0 9.94829 0 0 0 0 0 1.01264 ...</td>\n",
       "      <td>[7 5 8 7 5 8 5 4 6 7 4 7 11 5 9 11 5 9 17 11 1...</td>\n",
       "    </tr>\n",
       "    <tr>\n",
       "      <th>2</th>\n",
       "      <td>36</td>\n",
       "      <td>Height: 32 Width: 32</td>\n",
       "      <td>cat</td>\n",
       "      <td>[0.566016 0 0 0 0 0 9.9972 0 0 0 1.38345 0 0.7...</td>\n",
       "      <td>[169 122 65 131 108 75 193 196 192 218 221 222...</td>\n",
       "    </tr>\n",
       "    <tr>\n",
       "      <th>3</th>\n",
       "      <td>70</td>\n",
       "      <td>Height: 32 Width: 32</td>\n",
       "      <td>dog</td>\n",
       "      <td>[1.1298 0 0 0.778194 0 0.758051 9.83053 0 0 0....</td>\n",
       "      <td>[154 179 152 159 183 157 165 189 162 174 199 1...</td>\n",
       "    </tr>\n",
       "    <tr>\n",
       "      <th>4</th>\n",
       "      <td>90</td>\n",
       "      <td>Height: 32 Width: 32</td>\n",
       "      <td>bird</td>\n",
       "      <td>[1.71787 0 0 0 0 0 9.33936 0 0 0 0 0 0.412137 ...</td>\n",
       "      <td>[216 195 180 201 178 160 210 184 164 212 188 1...</td>\n",
       "    </tr>\n",
       "  </tbody>\n",
       "</table>\n",
       "</div>"
      ],
      "text/plain": [
       "   id                 image label  \\\n",
       "0  24  Height: 32 Width: 32  bird   \n",
       "1  33  Height: 32 Width: 32   cat   \n",
       "2  36  Height: 32 Width: 32   cat   \n",
       "3  70  Height: 32 Width: 32   dog   \n",
       "4  90  Height: 32 Width: 32  bird   \n",
       "\n",
       "                                       deep_features  \\\n",
       "0  [0.242872 1.09545 0 0.39363 0 0 11.8949 0 0 0 ...   \n",
       "1  [0.525088 0 0 0 0 0 9.94829 0 0 0 0 0 1.01264 ...   \n",
       "2  [0.566016 0 0 0 0 0 9.9972 0 0 0 1.38345 0 0.7...   \n",
       "3  [1.1298 0 0 0.778194 0 0.758051 9.83053 0 0 0....   \n",
       "4  [1.71787 0 0 0 0 0 9.33936 0 0 0 0 0 0.412137 ...   \n",
       "\n",
       "                                         image_array  \n",
       "0  [73 77 58 71 68 50 77 69 44 120 116 83 125 120...  \n",
       "1  [7 5 8 7 5 8 5 4 6 7 4 7 11 5 9 11 5 9 17 11 1...  \n",
       "2  [169 122 65 131 108 75 193 196 192 218 221 222...  \n",
       "3  [154 179 152 159 183 157 165 189 162 174 199 1...  \n",
       "4  [216 195 180 201 178 160 210 184 164 212 188 1...  "
      ]
     },
     "execution_count": 4,
     "metadata": {},
     "output_type": "execute_result"
    }
   ],
   "source": [
    "image_train.head()"
   ]
  },
  {
   "cell_type": "code",
   "execution_count": 5,
   "metadata": {},
   "outputs": [
    {
     "data": {
      "text/plain": [
       "'[73 77 58 71 68 50 77 69 44 120 116 83 125 120 90 155 148 117 147 152 106 133 136 92 112 101 75 100 84 68 100 78 74 69 49 51 22 16 13 35 27 24 52 40 40 70 55 54 117 97 89 122 101 99 103 85 88 88 74 73 68 59 52 72 65 52 82 73 60 84 72 68 84 67 73 77 56 65 93 75 81 117 102 98 174 171 146 183 210 149 180 214 143 185 225 144 73 74 52 75 68 55 78 64 50 103 90 64 80 65 35 127 110 80 136 127 98 141 134 109 129 113 92 115 97 72 111 91 61 115 96 67 94 83 65 92 78 65 78 60 53 89 68 64 123 99 92 117 93 92 118 97 102 121 103 103 137 125 116 168 159 141 134 124 104 98 86 74 135 124 115 133 131 108 158 167 126 163 185 125 184 217 143 181 229 139 172 220 129 174 218 127 77 72 64 94 82 79 99 81 73 116 97 74 130 106 74 149 122 93 138 118 101 134 121 109 148 140 117 154 143 113 149 137 99 145 127 87 168 136 102 174 137 111 180 137 121 178 134 126 160 126 127 141 112 124 110 84 100 110 87 99 105 90 94 124 121 106 151 162 119 155 177 117 190 216 152 192 220 151 201 236 156 193 234 155 165 208 135 175 213 139 191 230 152 185 226 142 90 85 88 99 88 91 107 92 91 108 90 78 114 92 74 137 109 98 146 115 114 130 106 113 114 100 103 130 120 106 145 137 111 129 117 87 173 142 118 164 125 112 151 112 102 150 116 102 138 111 110 146 121 130 121 97 107 100 76 86 122 108 114 137 133 128 145 151 127 150 166 125 157 172 127 148 153 116 130 133 97 114 124 83 88 105 75 191 209 166 206 238 174 186 224 154 88 82 94 94 85 89 96 85 83 120 109 98 87 71 61 110 87 85 133 101 107 130 100 117 117 96 115 112 98 95 119 110 93 125 116 98 163 140 132 145 113 113 118 87 84 125 105 89 112 99 88 94 82 77 87 75 71 73 59 59 83 73 73 68 59 59 66 59 55 76 69 62 49 42 31 52 40 38 61 48 39 85 85 49 176 188 152 213 235 182 199 229 163 121 145 94 72 67 75 77 70 68 96 86 78 151 145 124 87 79 58 96 80 71 121 96 99 117 91 107 101 81 99 99 83 87 92 80 79 79 67 68 176 153 156 152 118 118 111 74 69 111 83 70 113 105 85 74 72 54 49 46 34 41 36 31 38 32 31 34 27 25 46 36 32 74 61 54 46 32 28 42 30 37 60 57 44 144 154 101 215 233 174 195 224 158 134 154 98 60 61 35 66 64 49 69 63 49 80 70 58 128 127 99 83 84 53 71 62 48 89 70 72 91 70 80 73 54 61 71 57 56 63 51 52 95 83 93 195 172 185 136 100 103 112 71 65 98 61 52 107 96 69 104 102 74 64 59 43 34 27 21 29 25 24 41 35 34 47 34 31 86 66 62 54 35 34 38 29 35 78 85 66 176 193 131 173 190 130 112 129 92 62 62 41 56 41 36 103 106 70 73 71 46 66 58 44 104 106 77 80 87 52 49 46 29 53 43 41 52 37 41 50 35 36 58 43 44 52 36 44 142 124 144 188 161 187 128 86 89 110 65 54 89 57 44 119 108 79 128 126 92 93 89 69 65 60 45 39 32 20 38 30 25 42 29 26 86 62 60 74 43 41 103 83 82 126 128 112 134 144 105 82 84 55 52 47 46 56 40 46 63 41 46 58 62 34 61 60 38 67 62 47 134 139 111 129 139 107 51 54 35 38 35 29 25 18 19 30 21 26 38 25 37 70 52 72 160 139 163 134 110 126 131 104 104 155 133 117 132 119 98 120 116 92 136 138 103 112 114 90 87 88 61 81 72 44 58 44 34 56 41 39 100 72 72 145 103 101 155 119 116 110 99 91 87 82 76 76 62 61 65 51 48 64 51 45 58 43 34 9 9 5 27 24 16 59 53 42 152 154 130 182 188 161 58 61 42 43 44 33 17 16 13 18 16 20 50 43 55 89 78 99 102 87 105 106 96 98 115 131 146 172 195 207 222 229 224 142 146 140 123 126 101 138 137 112 107 109 85 98 91 65 82 63 53 79 55 55 110 77 78 148 109 109 125 94 92 76 60 54 76 65 59 81 67 58 90 85 57 93 91 57 84 85 47 9 8 13 15 11 10 36 30 26 106 104 88 186 187 165 73 76 58 51 56 40 64 67 55 92 89 83 84 77 79 74 62 72 99 84 98 120 118 136 83 109 145 145 180 210 205 226 242 149 163 185 129 135 120 136 132 104 105 107 87 112 113 90 86 72 61 92 66 67 94 66 66 70 43 41 68 42 43 74 53 51 76 59 52 57 43 31 74 64 41 86 82 54 91 95 61 32 28 26 44 37 37 45 34 33 84 75 65 176 174 155 95 98 78 53 60 40 83 86 66 131 123 109 100 87 80 116 97 99 93 74 83 50 47 64 52 63 81 164 189 201 175 210 230 107 134 166 106 113 102 115 107 80 110 106 91 103 110 85 88 86 66 67 50 43 75 59 50 71 58 52 52 33 34 77 56 51 91 73 61 60 45 34 68 48 49 56 42 36 38 34 17 72 53 46 68 47 48 84 64 60 97 80 72 170 165 148 117 122 96 57 63 39 80 80 61 77 72 56 95 83 79 101 80 86 88 62 74 63 42 56 29 30 39 104 132 154 110 154 201 69 104 131 73 78 64 118 97 83 128 110 100 118 118 89 102 104 70 82 79 50 112 106 78 100 93 78 52 40 38 87 69 57 91 74 59 64 51 43 69 54 54 59 52 35 94 100 57 66 48 39 75 56 52 83 65 59 85 73 64 155 155 136 131 138 115 58 61 48 71 69 57 56 54 36 60 50 42 79 61 68 118 92 112 115 88 109 95 86 109 80 93 136 58 85 153 74 92 137 67 62 58 123 105 89 120 115 100 111 115 90 114 115 87 88 86 57 90 85 54 111 103 75 93 78 58 106 86 68 82 65 53 60 49 40 77 72 49 131 138 100 142 167 109 81 68 55 70 57 46 79 64 59 55 50 42 125 133 112 132 144 116 66 69 48 62 61 44 62 64 42 49 45 27 95 80 86 174 151 179 117 97 124 88 78 117 67 70 131 58 69 151 74 81 147 57 48 56 113 97 80 104 104 87 99 106 80 108 109 81 106 103 77 82 76 53 115 108 78 165 155 122 122 107 88 63 55 42 63 67 49 144 152 126 158 172 143 126 151 117 99 88 72 70 60 42 48 37 31 35 35 28 104 117 94 128 144 105 95 104 60 71 75 40 67 74 45 110 111 86 138 128 130 94 77 103 37 29 51 42 39 85 60 63 138 77 85 178 69 76 157 52 44 59 104 82 64 93 85 70 96 102 71 105 107 74 106 103 84 82 74 69 104 97 96 105 98 105 89 80 101 82 83 102 110 124 131 133 148 145 104 116 120 84 94 105 98 94 62 107 106 66 67 76 43 82 98 63 102 119 79 110 128 83 96 114 58 101 122 59 101 122 70 173 185 156 125 130 112 72 76 53 57 62 50 47 49 100 71 74 176 101 108 225 76 74 167 67 53 64 116 80 70 103 82 83 85 86 73 81 80 74 78 77 87 79 78 103 82 83 114 81 84 116 98 98 137 106 105 148 106 109 148 84 97 122 82 90 122 80 82 119 91 97 56 126 139 75 128 153 87 143 173 105 124 149 87 113 130 79 102 115 63 131 147 94 136 157 116 150 165 140 127 141 111 83 97 55 45 58 45 71 81 140 110 122 232 109 123 240 79 75 154 71 61 70 77 62 71 75 63 84 72 69 83 85 83 106 97 97 126 88 89 124 84 89 124 84 89 122 92 94 130 100 97 138 91 89 129 80 88 117 76 82 118 81 84 122 58 66 45 112 133 80 90 115 57 148 177 108 115 141 73 101 116 66 102 106 64 137 142 107 118 131 106 120 134 108 137 154 118 62 81 40 20 40 33 67 82 144 119 137 240 109 131 240 70 65 141 53 29 46 38 34 49 41 44 73 59 57 85 63 67 100 81 83 116 85 87 120 82 85 118 88 93 126 91 94 127 86 85 119 61 59 91 67 71 97 69 74 107 64 70 103 74 77 56 140 158 110 96 112 64 128 142 90 103 117 66 86 95 57 69 76 39 114 122 86 98 109 76 88 104 65 92 112 70 57 80 35 65 83 62 78 90 143 112 126 231 111 130 248 103 89 194 148 81 110 72 39 33 22 28 42 41 48 68 47 59 82 68 75 103 80 81 115 75 77 113 68 74 108 64 67 98 60 59 87 46 44 68 45 46 70 57 60 91 47 56 85 69 61 41 118 122 84 97 105 55 74 85 34 66 72 33 64 63 39 52 50 30 104 106 78 136 144 105 98 116 70 99 121 80 107 127 87 87 109 74 82 100 143 96 115 220 96 124 246 121 116 239 192 103 167 78 40 46 36 43 54 80 78 105 79 90 117 74 79 108 66 65 98 64 62 92 38 39 61 36 36 58 42 40 63 41 38 60 42 42 63 60 62 91 54 61 89 64 59 52 70 72 49 78 88 39 94 109 52 113 120 80 77 71 51 57 52 37 82 81 58 145 152 117 151 169 126 138 156 120 104 118 85 78 100 67 64 84 117 77 97 190 74 102 213 80 103 200 149 124 193 70 57 107 37 49 80 56 60 89 56 61 94 47 50 79 38 37 65 34 31 56 30 26 49 30 26 48 36 33 54 39 36 56 46 45 65 55 56 83 50 54 81 98 107 103 86 93 74 111 120 76 140 152 99 147 154 115 92 91 66 66 69 44 76 83 53 135 143 110 119 134 96 106 117 86 89 94 71 52 64 40 39 51 67 71 82 143 73 85 169 39 58 119 102 121 172 122 105 183 54 48 98 34 44 63 33 32 56 31 31 52 25 26 43 22 21 41 26 22 45 29 26 47 34 31 49 41 38 56 54 50 73 48 45 73 41 43 66 75 88 83 83 86 77 106 101 79 127 131 90 133 139 99 112 115 84 84 96 60 91 105 69 100 108 78 109 121 86 61 64 38 77 71 58 74 75 62 30 34 33 67 70 99 85 83 141 40 39 82 63 65 100 93 83 140 60 49 88 37 32 47 25 19 35 25 24 36 19 22 30 25 28 31 24 24 26 23 22 30 35 33 47 38 34 53 53 45 70 52 46 73 40 40 58 62 68 57 86 77 72 87 73 63 95 94 64 128 134 100 89 92 66 70 80 47 94 105 72 73 82 52 117 128 91 85 90 60 81 79 61 63 67 47 25 25 12 66 53 66 74 64 99 30 28 54 44 40 57 43 51 70 33 39 55 29 22 35 23 19 32 19 19 27 26 29 32 96 103 88 109 118 80 59 66 36 39 41 35 43 41 60 46 42 72 53 50 73 48 46 57 78 74 64 73 57 47 92 78 62 95 95 66 114 120 92 83 86 66 95 98 75 112 116 93 77 83 59 92 99 65 106 113 79 59 63 37 46 51 29 35 30 20 92 57 71 91 65 85 21 19 32 23 24 35 32 34 45 30 32 43 21 22 34 19 21 31 17 19 25 22 24 28 100 109 91 172 191 135 156 177 108 108 124 74 46 57 44 35 44 60 45 48 69 48 44 66 72 64 59 78 67 51 96 86 58 129 129 91 101 107 73 91 97 73 109 118 94 126 131 112 95 92 83 67 65 49 126 125 102 71 68 48 58 54 50 56 43 46 116 67 84 120 72 90 21 11 21 11 11 19 21 20 28 25 25 33 23 22 30 16 16 24 13 13 20 18 18 24 39 45 46 135 151 129 175 199 144 163 192 123 122 150 89 61 82 44 34 43 45 37 36 60 83 88 64 87 96 61 98 102 60 140 143 95 103 109 67 96 107 78 94 111 84 127 140 114 113 114 96 54 54 43 111 111 97 98 96 80 70 69 61 63 55 51 127 75 86 149 85 102 35 18 26 5 5 10 15 12 17 19 16 21 21 18 23 19 17 22 15 12 20 16 13 23 21 19 33 41 46 51 129 144 123 183 207 169 178 206 159 154 181 124 76 96 59 27 35 25 92 112 62 84 109 57 110 127 76 136 147 93 102 112 69 109 123 97 112 133 109 99 119 84 130 141 104 83 91 70 73 80 64 117 123 102 66 80 49 73 80 57 131 89 91 158 92 106 70 46 52 10 5 7 12 7 10 13 7 11 16 11 14 19 14 18 23 18 26 23 18 30 27 22 34 29 25 34 39 42 47 141 151 158 181 196 203 174 195 176 156 177 138 59 71 48 84 106 56 86 105 58 118 133 84 119 138 88 90 109 78 126 142 131 149 167 153 79 95 68 117 128 95 130 139 108 69 76 47 121 131 97 102 121 77 79 80 56 143 100 102 169 93 108 116 71 78 44 28 29 13 9 10 14 8 15 16 10 16 16 13 18 14 14 19 19 22 26 18 21 24 21 24 22 28 35 27 32 42 38 54 67 68 79 95 78 159 177 137 117 133 94 76 96 60 81 98 56 103 116 73 110 125 82 99 114 84 94 107 91 82 96 76 77 85 59 98 97 69 137 137 108 103 104 76 122 127 94 141 148 108 86 71 52 138 84 90 183 104 119 133 86 91 68 47 49 29 20 25 9 6 17 11 10 18 16 18 21 13 19 21 14 23 24 44 54 56 123 134 127 106 126 88 87 115 51 72 101 36 56 80 36 69 90 40 104 120 69 102 120 92 91 109 62 95 110 62 103 114 75 88 96 65 72 81 52 85 94 64 80 83 53 94 89 62 120 119 91 135 139 110 90 102 68 136 157 117 128 132 104 112 98 73 147 127 97 110 95 74 74 57 49 64 47 49 20 9 20 12 7 15 11 10 14 12 14 18 14 19 22 49 57 55 129 143 122 119 141 87 107 138 53 104 139 46 100 134 55 72 97 38 48 59 29]'"
      ]
     },
     "execution_count": 5,
     "metadata": {},
     "output_type": "execute_result"
    }
   ],
   "source": [
    "image_train['image_array'][0]"
   ]
  },
  {
   "cell_type": "code",
   "execution_count": 6,
   "metadata": {},
   "outputs": [
    {
     "data": {
      "text/plain": [
       "str"
      ]
     },
     "execution_count": 6,
     "metadata": {},
     "output_type": "execute_result"
    }
   ],
   "source": [
    "type(image_train['image_array'][0])"
   ]
  },
  {
   "cell_type": "code",
   "execution_count": 7,
   "metadata": {},
   "outputs": [
    {
     "name": "stdout",
     "output_type": "stream",
     "text": [
      "[\n",
      "7\n",
      "3\n",
      " \n"
     ]
    }
   ],
   "source": [
    "check = image_train['image_array'][0]\n",
    "print(check[0])      #First element of the string is a paranthesis\n",
    "print(check[1])      #Second element of the string is the first digit of the first number\n",
    "print(check[2])      #Third element of the string is the second digit of the first number\n",
    "print(check[3])      #Fourth element of the string is a space"
   ]
  },
  {
   "cell_type": "markdown",
   "metadata": {},
   "source": [
    "# Function for converting the input data of strings into list of floats."
   ]
  },
  {
   "cell_type": "code",
   "execution_count": 8,
   "metadata": {},
   "outputs": [],
   "source": [
    "def extract_features(x):\n",
    "    raw = re.search(r\"\\[(.*)\\]\", x).group(1)\n",
    "    raw = list(raw.split())\n",
    "    raw = list(map(float, raw))\n",
    "    raw = (np.array(raw)).reshape(1,-1)\n",
    "    return raw"
   ]
  },
  {
   "cell_type": "markdown",
   "metadata": {},
   "source": [
    "# Fixing the train data set"
   ]
  },
  {
   "cell_type": "markdown",
   "metadata": {},
   "source": [
    "## Converting 'image_array' column to a meaningful feature"
   ]
  },
  {
   "cell_type": "code",
   "execution_count": 9,
   "metadata": {},
   "outputs": [],
   "source": [
    "image_train.image_array = image_train.image_array.apply(lambda x: extract_features(x))"
   ]
  },
  {
   "cell_type": "markdown",
   "metadata": {},
   "source": [
    "## Converting 'deep_features' column to a meaningful feature"
   ]
  },
  {
   "cell_type": "code",
   "execution_count": 10,
   "metadata": {},
   "outputs": [],
   "source": [
    "image_train.deep_features = image_train.deep_features.apply(lambda x: extract_features(x))"
   ]
  },
  {
   "cell_type": "markdown",
   "metadata": {},
   "source": [
    "# Fixing the train data set"
   ]
  },
  {
   "cell_type": "markdown",
   "metadata": {},
   "source": [
    "## Converting 'image_array' column to a meaningful feature"
   ]
  },
  {
   "cell_type": "code",
   "execution_count": 11,
   "metadata": {},
   "outputs": [],
   "source": [
    "image_test.image_array = image_test.image_array.apply(lambda x: extract_features(x))"
   ]
  },
  {
   "cell_type": "markdown",
   "metadata": {},
   "source": [
    "## Converting 'deep_features' column to a meaningful feature"
   ]
  },
  {
   "cell_type": "code",
   "execution_count": 12,
   "metadata": {},
   "outputs": [],
   "source": [
    "image_test.deep_features = image_test.deep_features.apply(lambda x: extract_features(x))"
   ]
  },
  {
   "cell_type": "markdown",
   "metadata": {},
   "source": [
    "# Train an image classifier on raw image pixels('image_array' column)"
   ]
  },
  {
   "cell_type": "code",
   "execution_count": 13,
   "metadata": {},
   "outputs": [
    {
     "data": {
      "text/plain": [
       "KNeighborsClassifier(algorithm='auto', leaf_size=30, metric='minkowski',\n",
       "                     metric_params=None, n_jobs=None, n_neighbors=5, p=2,\n",
       "                     weights='uniform')"
      ]
     },
     "execution_count": 13,
     "metadata": {},
     "output_type": "execute_result"
    }
   ],
   "source": [
    "from sklearn.neighbors import KNeighborsClassifier\n",
    "\n",
    "x = np.concatenate(image_train['image_array'].values)\n",
    "y = image_train['label']\n",
    "\n",
    "raw_pixel_model = KNeighborsClassifier(n_neighbors=5)\n",
    "raw_pixel_model.fit(x, y)"
   ]
  },
  {
   "cell_type": "code",
   "execution_count": 14,
   "metadata": {},
   "outputs": [
    {
     "data": {
      "text/plain": [
       "0           cat\n",
       "1    automobile\n",
       "2           cat\n",
       "Name: label, dtype: object"
      ]
     },
     "execution_count": 14,
     "metadata": {},
     "output_type": "execute_result"
    }
   ],
   "source": [
    "image_test[0:3]['label']"
   ]
  },
  {
   "cell_type": "code",
   "execution_count": 15,
   "metadata": {},
   "outputs": [
    {
     "data": {
      "text/html": [
       "<div>\n",
       "<style scoped>\n",
       "    .dataframe tbody tr th:only-of-type {\n",
       "        vertical-align: middle;\n",
       "    }\n",
       "\n",
       "    .dataframe tbody tr th {\n",
       "        vertical-align: top;\n",
       "    }\n",
       "\n",
       "    .dataframe thead th {\n",
       "        text-align: right;\n",
       "    }\n",
       "</style>\n",
       "<table border=\"1\" class=\"dataframe\">\n",
       "  <thead>\n",
       "    <tr style=\"text-align: right;\">\n",
       "      <th></th>\n",
       "      <th>label</th>\n",
       "    </tr>\n",
       "  </thead>\n",
       "  <tbody>\n",
       "    <tr>\n",
       "      <th>1391</th>\n",
       "      <td>bird</td>\n",
       "    </tr>\n",
       "  </tbody>\n",
       "</table>\n",
       "</div>"
      ],
      "text/plain": [
       "     label\n",
       "1391  bird"
      ]
     },
     "execution_count": 15,
     "metadata": {},
     "output_type": "execute_result"
    }
   ],
   "source": [
    "distance, indices = raw_pixel_model.kneighbors(np.concatenate(image_test['image_array'][0:1]), return_distance=True, n_neighbors = 1)\n",
    "image_train.iloc[indices[0], [2]]"
   ]
  },
  {
   "cell_type": "code",
   "execution_count": 16,
   "metadata": {},
   "outputs": [
    {
     "data": {
      "text/plain": [
       "(array([[2712.45866328, 2731.67018507, 2765.02206139, 2815.69440813,\n",
       "         2825.84624493]]),\n",
       " array([[1391, 1672, 1087, 1610,  156]], dtype=int64))"
      ]
     },
     "execution_count": 16,
     "metadata": {},
     "output_type": "execute_result"
    }
   ],
   "source": [
    "raw_pixel_model.kneighbors(np.concatenate(image_test['image_array'][0:1]), return_distance=True, n_neighbors = 5)"
   ]
  },
  {
   "cell_type": "markdown",
   "metadata": {},
   "source": [
    "# Function to get the 5 nearest neighbours"
   ]
  },
  {
   "cell_type": "code",
   "execution_count": 17,
   "metadata": {},
   "outputs": [],
   "source": [
    "def five_neighbours(idx):\n",
    "    distance, indices = raw_pixel_model.kneighbors(np.concatenate(image_test['image_array'][idx]), n_neighbors = 5)\n",
    "    index_distance_df = image_train.iloc[indices[0], [2]]\n",
    "    index_distance_df['distance'] = distance[0]\n",
    "    return index_distance_df"
   ]
  },
  {
   "cell_type": "markdown",
   "metadata": {},
   "source": [
    "# Applying the raw_pixel_model to predict the nearest neighbours of 1st row of the test data with the train data"
   ]
  },
  {
   "cell_type": "code",
   "execution_count": 18,
   "metadata": {},
   "outputs": [
    {
     "data": {
      "text/plain": [
       "0    cat\n",
       "Name: label, dtype: object"
      ]
     },
     "execution_count": 18,
     "metadata": {},
     "output_type": "execute_result"
    }
   ],
   "source": [
    "image_test[0:1]['label']"
   ]
  },
  {
   "cell_type": "code",
   "execution_count": 19,
   "metadata": {},
   "outputs": [],
   "source": [
    "cat_test = image_test.iloc[0:1, 2].index.values.astype(int)"
   ]
  },
  {
   "cell_type": "code",
   "execution_count": 20,
   "metadata": {},
   "outputs": [
    {
     "data": {
      "text/html": [
       "<div>\n",
       "<style scoped>\n",
       "    .dataframe tbody tr th:only-of-type {\n",
       "        vertical-align: middle;\n",
       "    }\n",
       "\n",
       "    .dataframe tbody tr th {\n",
       "        vertical-align: top;\n",
       "    }\n",
       "\n",
       "    .dataframe thead th {\n",
       "        text-align: right;\n",
       "    }\n",
       "</style>\n",
       "<table border=\"1\" class=\"dataframe\">\n",
       "  <thead>\n",
       "    <tr style=\"text-align: right;\">\n",
       "      <th></th>\n",
       "      <th>label</th>\n",
       "      <th>distance</th>\n",
       "    </tr>\n",
       "  </thead>\n",
       "  <tbody>\n",
       "    <tr>\n",
       "      <th>1391</th>\n",
       "      <td>bird</td>\n",
       "      <td>2712.458663</td>\n",
       "    </tr>\n",
       "    <tr>\n",
       "      <th>1672</th>\n",
       "      <td>bird</td>\n",
       "      <td>2731.670185</td>\n",
       "    </tr>\n",
       "    <tr>\n",
       "      <th>1087</th>\n",
       "      <td>bird</td>\n",
       "      <td>2765.022061</td>\n",
       "    </tr>\n",
       "    <tr>\n",
       "      <th>1610</th>\n",
       "      <td>bird</td>\n",
       "      <td>2815.694408</td>\n",
       "    </tr>\n",
       "    <tr>\n",
       "      <th>156</th>\n",
       "      <td>dog</td>\n",
       "      <td>2825.846245</td>\n",
       "    </tr>\n",
       "  </tbody>\n",
       "</table>\n",
       "</div>"
      ],
      "text/plain": [
       "     label     distance\n",
       "1391  bird  2712.458663\n",
       "1672  bird  2731.670185\n",
       "1087  bird  2765.022061\n",
       "1610  bird  2815.694408\n",
       "156    dog  2825.846245"
      ]
     },
     "execution_count": 20,
     "metadata": {},
     "output_type": "execute_result"
    }
   ],
   "source": [
    "five_neighbours(cat_test)"
   ]
  },
  {
   "cell_type": "markdown",
   "metadata": {},
   "source": [
    "# Train image classifier using deep features (Transfer learning using imagenet learned features)"
   ]
  },
  {
   "cell_type": "code",
   "execution_count": 21,
   "metadata": {},
   "outputs": [
    {
     "data": {
      "text/plain": [
       "KNeighborsClassifier(algorithm='auto', leaf_size=30, metric='minkowski',\n",
       "                     metric_params=None, n_jobs=None, n_neighbors=5, p=2,\n",
       "                     weights='uniform')"
      ]
     },
     "execution_count": 21,
     "metadata": {},
     "output_type": "execute_result"
    }
   ],
   "source": [
    "x_d = np.concatenate(image_train['deep_features'].values)\n",
    "y_d = image_train['label']\n",
    "\n",
    "deep_features_model = KNeighborsClassifier(n_neighbors=5)\n",
    "deep_features_model.fit(x_d, y_d)"
   ]
  },
  {
   "cell_type": "markdown",
   "metadata": {},
   "source": [
    "# Function to get the 5 nearest neighbours"
   ]
  },
  {
   "cell_type": "code",
   "execution_count": 22,
   "metadata": {},
   "outputs": [],
   "source": [
    "def five_neighbours_deep(idx):\n",
    "    distance, indices = deep_features_model.kneighbors(np.concatenate(image_test['deep_features'][idx]), n_neighbors = 5)\n",
    "    index_distance_df = image_train.iloc[indices[0], [2]]\n",
    "    index_distance_df['distance'] = distance[0]\n",
    "    return index_distance_df"
   ]
  },
  {
   "cell_type": "markdown",
   "metadata": {},
   "source": [
    "# Applying the deep_features_model to predict the nearest neighbours of 1st row of the test data with the train data"
   ]
  },
  {
   "cell_type": "code",
   "execution_count": 23,
   "metadata": {},
   "outputs": [
    {
     "data": {
      "text/html": [
       "<div>\n",
       "<style scoped>\n",
       "    .dataframe tbody tr th:only-of-type {\n",
       "        vertical-align: middle;\n",
       "    }\n",
       "\n",
       "    .dataframe tbody tr th {\n",
       "        vertical-align: top;\n",
       "    }\n",
       "\n",
       "    .dataframe thead th {\n",
       "        text-align: right;\n",
       "    }\n",
       "</style>\n",
       "<table border=\"1\" class=\"dataframe\">\n",
       "  <thead>\n",
       "    <tr style=\"text-align: right;\">\n",
       "      <th></th>\n",
       "      <th>label</th>\n",
       "      <th>distance</th>\n",
       "    </tr>\n",
       "  </thead>\n",
       "  <tbody>\n",
       "    <tr>\n",
       "      <th>669</th>\n",
       "      <td>cat</td>\n",
       "      <td>34.623722</td>\n",
       "    </tr>\n",
       "    <tr>\n",
       "      <th>1815</th>\n",
       "      <td>cat</td>\n",
       "      <td>36.006880</td>\n",
       "    </tr>\n",
       "    <tr>\n",
       "      <th>1299</th>\n",
       "      <td>cat</td>\n",
       "      <td>36.520081</td>\n",
       "    </tr>\n",
       "    <tr>\n",
       "      <th>1064</th>\n",
       "      <td>cat</td>\n",
       "      <td>36.754848</td>\n",
       "    </tr>\n",
       "    <tr>\n",
       "      <th>15</th>\n",
       "      <td>cat</td>\n",
       "      <td>36.873115</td>\n",
       "    </tr>\n",
       "  </tbody>\n",
       "</table>\n",
       "</div>"
      ],
      "text/plain": [
       "     label   distance\n",
       "669    cat  34.623722\n",
       "1815   cat  36.006880\n",
       "1299   cat  36.520081\n",
       "1064   cat  36.754848\n",
       "15     cat  36.873115"
      ]
     },
     "execution_count": 23,
     "metadata": {},
     "output_type": "execute_result"
    }
   ],
   "source": [
    "five_neighbours_deep(cat_test)"
   ]
  },
  {
   "cell_type": "code",
   "execution_count": 24,
   "metadata": {},
   "outputs": [],
   "source": [
    "x_test_deep_feature = np.concatenate(image_test['deep_features'].values)\n",
    "x_test_raw_pixel = np.concatenate(image_test['image_array'].values)\n",
    "y_test = image_test['label']"
   ]
  },
  {
   "cell_type": "code",
   "execution_count": 25,
   "metadata": {},
   "outputs": [],
   "source": [
    "y_pred_raw_pixel = raw_pixel_model.predict(x_test_raw_pixel)\n",
    "y_pred_deep_feature = deep_features_model.predict(x_test_deep_feature)"
   ]
  },
  {
   "cell_type": "code",
   "execution_count": 26,
   "metadata": {},
   "outputs": [
    {
     "name": "stdout",
     "output_type": "stream",
     "text": [
      "The accuracy in predicting the test data label for raw pixel model is :  0.391\n",
      "The accuracy in predicting the test data label for deep feature model is :  0.74475\n"
     ]
    }
   ],
   "source": [
    "from sklearn import metrics\n",
    "\n",
    "print(\"The accuracy in predicting the test data label for raw pixel model is : \", metrics.accuracy_score(y_test, y_pred_raw_pixel))\n",
    "print(\"The accuracy in predicting the test data label for deep feature model is : \", metrics.accuracy_score(y_test, y_pred_deep_feature))"
   ]
  },
  {
   "cell_type": "markdown",
   "metadata": {},
   "source": [
    "# Check individual count of unique labels in train and test sets"
   ]
  },
  {
   "cell_type": "code",
   "execution_count": 27,
   "metadata": {},
   "outputs": [
    {
     "data": {
      "text/html": [
       "<div>\n",
       "<style scoped>\n",
       "    .dataframe tbody tr th:only-of-type {\n",
       "        vertical-align: middle;\n",
       "    }\n",
       "\n",
       "    .dataframe tbody tr th {\n",
       "        vertical-align: top;\n",
       "    }\n",
       "\n",
       "    .dataframe thead th {\n",
       "        text-align: right;\n",
       "    }\n",
       "</style>\n",
       "<table border=\"1\" class=\"dataframe\">\n",
       "  <thead>\n",
       "    <tr style=\"text-align: right;\">\n",
       "      <th></th>\n",
       "      <th>label</th>\n",
       "      <th>counts</th>\n",
       "    </tr>\n",
       "  </thead>\n",
       "  <tbody>\n",
       "    <tr>\n",
       "      <th>0</th>\n",
       "      <td>automobile</td>\n",
       "      <td>509</td>\n",
       "    </tr>\n",
       "    <tr>\n",
       "      <th>1</th>\n",
       "      <td>bird</td>\n",
       "      <td>478</td>\n",
       "    </tr>\n",
       "    <tr>\n",
       "      <th>2</th>\n",
       "      <td>cat</td>\n",
       "      <td>509</td>\n",
       "    </tr>\n",
       "    <tr>\n",
       "      <th>3</th>\n",
       "      <td>dog</td>\n",
       "      <td>509</td>\n",
       "    </tr>\n",
       "  </tbody>\n",
       "</table>\n",
       "</div>"
      ],
      "text/plain": [
       "        label  counts\n",
       "0  automobile     509\n",
       "1        bird     478\n",
       "2         cat     509\n",
       "3         dog     509"
      ]
     },
     "execution_count": 27,
     "metadata": {},
     "output_type": "execute_result"
    }
   ],
   "source": [
    "image_train.groupby(['label']).size().reset_index(name='counts')"
   ]
  },
  {
   "cell_type": "code",
   "execution_count": 28,
   "metadata": {},
   "outputs": [
    {
     "data": {
      "text/html": [
       "<div>\n",
       "<style scoped>\n",
       "    .dataframe tbody tr th:only-of-type {\n",
       "        vertical-align: middle;\n",
       "    }\n",
       "\n",
       "    .dataframe tbody tr th {\n",
       "        vertical-align: top;\n",
       "    }\n",
       "\n",
       "    .dataframe thead th {\n",
       "        text-align: right;\n",
       "    }\n",
       "</style>\n",
       "<table border=\"1\" class=\"dataframe\">\n",
       "  <thead>\n",
       "    <tr style=\"text-align: right;\">\n",
       "      <th></th>\n",
       "      <th>label</th>\n",
       "      <th>counts</th>\n",
       "    </tr>\n",
       "  </thead>\n",
       "  <tbody>\n",
       "    <tr>\n",
       "      <th>0</th>\n",
       "      <td>automobile</td>\n",
       "      <td>1000</td>\n",
       "    </tr>\n",
       "    <tr>\n",
       "      <th>1</th>\n",
       "      <td>bird</td>\n",
       "      <td>1000</td>\n",
       "    </tr>\n",
       "    <tr>\n",
       "      <th>2</th>\n",
       "      <td>cat</td>\n",
       "      <td>1000</td>\n",
       "    </tr>\n",
       "    <tr>\n",
       "      <th>3</th>\n",
       "      <td>dog</td>\n",
       "      <td>1000</td>\n",
       "    </tr>\n",
       "  </tbody>\n",
       "</table>\n",
       "</div>"
      ],
      "text/plain": [
       "        label  counts\n",
       "0  automobile    1000\n",
       "1        bird    1000\n",
       "2         cat    1000\n",
       "3         dog    1000"
      ]
     },
     "execution_count": 28,
     "metadata": {},
     "output_type": "execute_result"
    }
   ],
   "source": [
    "image_test.groupby(['label']).size().reset_index(name='counts')"
   ]
  },
  {
   "cell_type": "markdown",
   "metadata": {},
   "source": [
    "# Train seperate models for unique labels using train images"
   ]
  },
  {
   "cell_type": "code",
   "execution_count": 29,
   "metadata": {},
   "outputs": [],
   "source": [
    "cat_train = image_train[image_train['label'] == 'cat']\n",
    "dog_train = image_train[image_train['label'] == 'dog']\n",
    "automobile_train = image_train[image_train['label'] == 'automobile']\n",
    "bird_train = image_train[image_train['label'] == 'bird']"
   ]
  },
  {
   "cell_type": "markdown",
   "metadata": {},
   "source": [
    "# Create a nearest neighbor model using deep features for each of the four labels (Only deep_features used)"
   ]
  },
  {
   "cell_type": "code",
   "execution_count": 30,
   "metadata": {},
   "outputs": [
    {
     "data": {
      "text/plain": [
       "KNeighborsClassifier(algorithm='auto', leaf_size=30, metric='minkowski',\n",
       "                     metric_params=None, n_jobs=None, n_neighbors=5, p=2,\n",
       "                     weights='uniform')"
      ]
     },
     "execution_count": 30,
     "metadata": {},
     "output_type": "execute_result"
    }
   ],
   "source": [
    "x_cat = np.concatenate(cat_train['deep_features'].values)\n",
    "y_cat = cat_train['label']\n",
    "\n",
    "cat_model = KNeighborsClassifier(n_neighbors=5)\n",
    "cat_model.fit(x_cat, y_cat)"
   ]
  },
  {
   "cell_type": "code",
   "execution_count": 31,
   "metadata": {},
   "outputs": [
    {
     "data": {
      "text/plain": [
       "KNeighborsClassifier(algorithm='auto', leaf_size=30, metric='minkowski',\n",
       "                     metric_params=None, n_jobs=None, n_neighbors=5, p=2,\n",
       "                     weights='uniform')"
      ]
     },
     "execution_count": 31,
     "metadata": {},
     "output_type": "execute_result"
    }
   ],
   "source": [
    "x_dog = np.concatenate(dog_train['deep_features'].values)\n",
    "y_dog = dog_train['label']\n",
    "\n",
    "dog_model = KNeighborsClassifier(n_neighbors=5)\n",
    "dog_model.fit(x_dog, y_dog)"
   ]
  },
  {
   "cell_type": "code",
   "execution_count": 32,
   "metadata": {},
   "outputs": [
    {
     "data": {
      "text/plain": [
       "KNeighborsClassifier(algorithm='auto', leaf_size=30, metric='minkowski',\n",
       "                     metric_params=None, n_jobs=None, n_neighbors=5, p=2,\n",
       "                     weights='uniform')"
      ]
     },
     "execution_count": 32,
     "metadata": {},
     "output_type": "execute_result"
    }
   ],
   "source": [
    "x_automobile = np.concatenate(automobile_train['deep_features'].values)\n",
    "y_automobile = automobile_train['label']\n",
    "\n",
    "automobile_model = KNeighborsClassifier(n_neighbors=5)\n",
    "automobile_model.fit(x_automobile, y_automobile)"
   ]
  },
  {
   "cell_type": "code",
   "execution_count": 33,
   "metadata": {},
   "outputs": [
    {
     "data": {
      "text/plain": [
       "KNeighborsClassifier(algorithm='auto', leaf_size=30, metric='minkowski',\n",
       "                     metric_params=None, n_jobs=None, n_neighbors=5, p=2,\n",
       "                     weights='uniform')"
      ]
     },
     "execution_count": 33,
     "metadata": {},
     "output_type": "execute_result"
    }
   ],
   "source": [
    "x_bird = np.concatenate(bird_train['deep_features'].values)\n",
    "y_bird = bird_train['label']\n",
    "\n",
    "bird_model = KNeighborsClassifier(n_neighbors=5)\n",
    "bird_model.fit(x_bird, y_bird)"
   ]
  },
  {
   "cell_type": "markdown",
   "metadata": {},
   "source": [
    "# Function to get the 5 nearest neighbours from different models when input feature is given as a query"
   ]
  },
  {
   "cell_type": "code",
   "execution_count": 34,
   "metadata": {},
   "outputs": [
    {
     "data": {
      "text/plain": [
       "1"
      ]
     },
     "execution_count": 34,
     "metadata": {},
     "output_type": "execute_result"
    }
   ],
   "source": [
    "cat_test_1 = cat_train.iloc[0:1, 2].index.values.astype(int)\n",
    "cat_test_1[0]"
   ]
  },
  {
   "cell_type": "code",
   "execution_count": 35,
   "metadata": {},
   "outputs": [],
   "source": [
    "def five_neighbours_cat(idx):\n",
    "    distance, indices = cat_model.kneighbors(np.concatenate(cat_train['deep_features'][idx[0]:idx[0]+1].values), n_neighbors = 5)\n",
    "    index_distance_df = cat_train.iloc[indices[0], [2]]\n",
    "    index_distance_df['distance'] = distance[0]\n",
    "    return index_distance_df"
   ]
  },
  {
   "cell_type": "code",
   "execution_count": 36,
   "metadata": {},
   "outputs": [
    {
     "data": {
      "text/html": [
       "<div>\n",
       "<style scoped>\n",
       "    .dataframe tbody tr th:only-of-type {\n",
       "        vertical-align: middle;\n",
       "    }\n",
       "\n",
       "    .dataframe tbody tr th {\n",
       "        vertical-align: top;\n",
       "    }\n",
       "\n",
       "    .dataframe thead th {\n",
       "        text-align: right;\n",
       "    }\n",
       "</style>\n",
       "<table border=\"1\" class=\"dataframe\">\n",
       "  <thead>\n",
       "    <tr style=\"text-align: right;\">\n",
       "      <th></th>\n",
       "      <th>label</th>\n",
       "      <th>distance</th>\n",
       "    </tr>\n",
       "  </thead>\n",
       "  <tbody>\n",
       "    <tr>\n",
       "      <th>2</th>\n",
       "      <td>cat</td>\n",
       "      <td>0.000000</td>\n",
       "    </tr>\n",
       "    <tr>\n",
       "      <th>1639</th>\n",
       "      <td>cat</td>\n",
       "      <td>30.736229</td>\n",
       "    </tr>\n",
       "    <tr>\n",
       "      <th>1552</th>\n",
       "      <td>cat</td>\n",
       "      <td>31.087095</td>\n",
       "    </tr>\n",
       "    <tr>\n",
       "      <th>448</th>\n",
       "      <td>cat</td>\n",
       "      <td>31.446784</td>\n",
       "    </tr>\n",
       "    <tr>\n",
       "      <th>773</th>\n",
       "      <td>cat</td>\n",
       "      <td>31.885011</td>\n",
       "    </tr>\n",
       "  </tbody>\n",
       "</table>\n",
       "</div>"
      ],
      "text/plain": [
       "     label   distance\n",
       "2      cat   0.000000\n",
       "1639   cat  30.736229\n",
       "1552   cat  31.087095\n",
       "448    cat  31.446784\n",
       "773    cat  31.885011"
      ]
     },
     "execution_count": 36,
     "metadata": {},
     "output_type": "execute_result"
    }
   ],
   "source": [
    "five_neighbours_cat(cat_test_1)"
   ]
  },
  {
   "cell_type": "code",
   "execution_count": 37,
   "metadata": {},
   "outputs": [
    {
     "name": "stdout",
     "output_type": "stream",
     "text": [
      "The mean distance between the cat in test data with the 5 nearest neighbours in the cat_train is :  27.877732467312462\n"
     ]
    }
   ],
   "source": [
    "print(\"The mean distance between the cat in test data with the 5 nearest neighbours in the cat_train is : \",five_neighbours_cat(cat_test)['distance'].mean())"
   ]
  },
  {
   "cell_type": "code",
   "execution_count": 38,
   "metadata": {},
   "outputs": [],
   "source": [
    "def five_neighbours_dog(idx):\n",
    "    distance, indices = dog_model.kneighbors(np.concatenate(cat_train['deep_features'][idx[0]:idx[0]+1].values), n_neighbors = 5)\n",
    "    index_distance_df = dog_train.iloc[indices[0], [2]]\n",
    "    index_distance_df['distance'] = distance[0]\n",
    "    return index_distance_df"
   ]
  },
  {
   "cell_type": "code",
   "execution_count": 39,
   "metadata": {},
   "outputs": [
    {
     "data": {
      "text/html": [
       "<div>\n",
       "<style scoped>\n",
       "    .dataframe tbody tr th:only-of-type {\n",
       "        vertical-align: middle;\n",
       "    }\n",
       "\n",
       "    .dataframe tbody tr th {\n",
       "        vertical-align: top;\n",
       "    }\n",
       "\n",
       "    .dataframe thead th {\n",
       "        text-align: right;\n",
       "    }\n",
       "</style>\n",
       "<table border=\"1\" class=\"dataframe\">\n",
       "  <thead>\n",
       "    <tr style=\"text-align: right;\">\n",
       "      <th></th>\n",
       "      <th>label</th>\n",
       "      <th>distance</th>\n",
       "    </tr>\n",
       "  </thead>\n",
       "  <tbody>\n",
       "    <tr>\n",
       "      <th>1689</th>\n",
       "      <td>dog</td>\n",
       "      <td>33.557857</td>\n",
       "    </tr>\n",
       "    <tr>\n",
       "      <th>678</th>\n",
       "      <td>dog</td>\n",
       "      <td>34.315702</td>\n",
       "    </tr>\n",
       "    <tr>\n",
       "      <th>1212</th>\n",
       "      <td>dog</td>\n",
       "      <td>35.493708</td>\n",
       "    </tr>\n",
       "    <tr>\n",
       "      <th>1270</th>\n",
       "      <td>dog</td>\n",
       "      <td>35.779065</td>\n",
       "    </tr>\n",
       "    <tr>\n",
       "      <th>683</th>\n",
       "      <td>dog</td>\n",
       "      <td>36.160117</td>\n",
       "    </tr>\n",
       "  </tbody>\n",
       "</table>\n",
       "</div>"
      ],
      "text/plain": [
       "     label   distance\n",
       "1689   dog  33.557857\n",
       "678    dog  34.315702\n",
       "1212   dog  35.493708\n",
       "1270   dog  35.779065\n",
       "683    dog  36.160117"
      ]
     },
     "execution_count": 39,
     "metadata": {},
     "output_type": "execute_result"
    }
   ],
   "source": [
    "five_neighbours_dog(cat_test_1)"
   ]
  },
  {
   "cell_type": "code",
   "execution_count": 40,
   "metadata": {},
   "outputs": [
    {
     "name": "stdout",
     "output_type": "stream",
     "text": [
      "The mean distance between the cat in test data with the 5 nearest neighbours in the dog_train is :  32.77346949525377\n"
     ]
    }
   ],
   "source": [
    "print(\"The mean distance between the cat in test data with the 5 nearest neighbours in the dog_train is : \",five_neighbours_dog(cat_test)['distance'].mean())"
   ]
  },
  {
   "cell_type": "code",
   "execution_count": 41,
   "metadata": {},
   "outputs": [
    {
     "data": {
      "text/plain": [
       "array([array([[0.566016, 0.      , 0.      , ..., 0.      , 0.      , 0.      ]]),\n",
       "       array([[0.      , 0.      , 0.      , ..., 0.481036, 0.      , 0.      ]]),\n",
       "       array([[0.      , 0.      , 0.510964, ..., 0.      , 0.      , 0.      ]])],\n",
       "      dtype=object)"
      ]
     },
     "execution_count": 41,
     "metadata": {},
     "output_type": "execute_result"
    }
   ],
   "source": [
    "cat_train['deep_features'][1:4].values"
   ]
  },
  {
   "cell_type": "markdown",
   "metadata": {},
   "source": [
    "# Query the whole test set instead of one single row and test for 1 nearest neighbour for the whole test data against different models"
   ]
  },
  {
   "cell_type": "code",
   "execution_count": 42,
   "metadata": {},
   "outputs": [],
   "source": [
    "cat_test = image_test[image_test['label'] == 'cat']"
   ]
  },
  {
   "cell_type": "code",
   "execution_count": 43,
   "metadata": {},
   "outputs": [],
   "source": [
    "dog_test = image_test[image_test['label'] == 'dog']"
   ]
  },
  {
   "cell_type": "code",
   "execution_count": 44,
   "metadata": {},
   "outputs": [],
   "source": [
    "automobile_test = image_test[image_test['label'] == 'automobile']"
   ]
  },
  {
   "cell_type": "code",
   "execution_count": 45,
   "metadata": {},
   "outputs": [],
   "source": [
    "bird_test = image_test[image_test['label'] == 'bird']"
   ]
  },
  {
   "cell_type": "markdown",
   "metadata": {},
   "source": [
    "# Functions to get nearest dog-\"x\" pairs using dog_test as the input query and getting 1 nearest neighbour for each dog label against all the 4 different models"
   ]
  },
  {
   "cell_type": "markdown",
   "metadata": {},
   "source": [
    "# Find the nearest neighbor for each dog in dog_test data with cat_train using cat model"
   ]
  },
  {
   "cell_type": "code",
   "execution_count": 176,
   "metadata": {},
   "outputs": [],
   "source": [
    "label_dog_cat = []\n",
    "distance_dog_cat = []\n",
    "\n",
    "def dog_cat_neighbours(x):\n",
    "    distance, indices = cat_model.kneighbors(x, n_neighbors = 1)\n",
    "    label_dog_cat.append(indices)\n",
    "    distance_dog_cat.append(distance)\n",
    "    return 0"
   ]
  },
  {
   "cell_type": "code",
   "execution_count": 177,
   "metadata": {},
   "outputs": [],
   "source": [
    "return_1 = dog_test['deep_features'].apply(lambda x: dog_cat_neighbours(x))"
   ]
  },
  {
   "cell_type": "code",
   "execution_count": 178,
   "metadata": {},
   "outputs": [
    {
     "data": {
      "text/html": [
       "<div>\n",
       "<style scoped>\n",
       "    .dataframe tbody tr th:only-of-type {\n",
       "        vertical-align: middle;\n",
       "    }\n",
       "\n",
       "    .dataframe tbody tr th {\n",
       "        vertical-align: top;\n",
       "    }\n",
       "\n",
       "    .dataframe thead th {\n",
       "        text-align: right;\n",
       "    }\n",
       "</style>\n",
       "<table border=\"1\" class=\"dataframe\">\n",
       "  <thead>\n",
       "    <tr style=\"text-align: right;\">\n",
       "      <th></th>\n",
       "      <th>distance</th>\n",
       "      <th>label</th>\n",
       "    </tr>\n",
       "  </thead>\n",
       "  <tbody>\n",
       "    <tr>\n",
       "      <th>0</th>\n",
       "      <td>[[36.41960343224118]]</td>\n",
       "      <td>[[0]]</td>\n",
       "    </tr>\n",
       "    <tr>\n",
       "      <th>1</th>\n",
       "      <td>[[38.83532565622547]]</td>\n",
       "      <td>[[308]]</td>\n",
       "    </tr>\n",
       "    <tr>\n",
       "      <th>2</th>\n",
       "      <td>[[36.97633927904312]]</td>\n",
       "      <td>[[58]]</td>\n",
       "    </tr>\n",
       "    <tr>\n",
       "      <th>3</th>\n",
       "      <td>[[34.575005304480044]]</td>\n",
       "      <td>[[224]]</td>\n",
       "    </tr>\n",
       "    <tr>\n",
       "      <th>4</th>\n",
       "      <td>[[34.77882715084174]]</td>\n",
       "      <td>[[84]]</td>\n",
       "    </tr>\n",
       "    <tr>\n",
       "      <th>...</th>\n",
       "      <td>...</td>\n",
       "      <td>...</td>\n",
       "    </tr>\n",
       "    <tr>\n",
       "      <th>995</th>\n",
       "      <td>[[43.477972886076124]]</td>\n",
       "      <td>[[224]]</td>\n",
       "    </tr>\n",
       "    <tr>\n",
       "      <th>996</th>\n",
       "      <td>[[34.326576839006336]]</td>\n",
       "      <td>[[396]]</td>\n",
       "    </tr>\n",
       "    <tr>\n",
       "      <th>997</th>\n",
       "      <td>[[35.98349831913211]]</td>\n",
       "      <td>[[340]]</td>\n",
       "    </tr>\n",
       "    <tr>\n",
       "      <th>998</th>\n",
       "      <td>[[30.517842455591797]]</td>\n",
       "      <td>[[32]]</td>\n",
       "    </tr>\n",
       "    <tr>\n",
       "      <th>999</th>\n",
       "      <td>[[31.80228583658827]]</td>\n",
       "      <td>[[319]]</td>\n",
       "    </tr>\n",
       "  </tbody>\n",
       "</table>\n",
       "<p>1000 rows × 2 columns</p>\n",
       "</div>"
      ],
      "text/plain": [
       "                   distance    label\n",
       "0     [[36.41960343224118]]    [[0]]\n",
       "1     [[38.83532565622547]]  [[308]]\n",
       "2     [[36.97633927904312]]   [[58]]\n",
       "3    [[34.575005304480044]]  [[224]]\n",
       "4     [[34.77882715084174]]   [[84]]\n",
       "..                      ...      ...\n",
       "995  [[43.477972886076124]]  [[224]]\n",
       "996  [[34.326576839006336]]  [[396]]\n",
       "997   [[35.98349831913211]]  [[340]]\n",
       "998  [[30.517842455591797]]   [[32]]\n",
       "999   [[31.80228583658827]]  [[319]]\n",
       "\n",
       "[1000 rows x 2 columns]"
      ]
     },
     "execution_count": 178,
     "metadata": {},
     "output_type": "execute_result"
    }
   ],
   "source": [
    "df_dog_cat = pd.DataFrame({'distance' : distance_dog_cat, 'label' : label_dog_cat})\n",
    "df_dog_cat"
   ]
  },
  {
   "cell_type": "code",
   "execution_count": 179,
   "metadata": {},
   "outputs": [],
   "source": [
    "def convert_array(y):\n",
    "    return np.sum(y)"
   ]
  },
  {
   "cell_type": "code",
   "execution_count": 180,
   "metadata": {},
   "outputs": [],
   "source": [
    "df_dog_cat['distance'] = df_dog_cat['distance'].apply(lambda y: convert_array(y))\n",
    "df_dog_cat['label'] = df_dog_cat['label'].apply(lambda y: convert_array(y))"
   ]
  },
  {
   "cell_type": "code",
   "execution_count": 181,
   "metadata": {},
   "outputs": [
    {
     "data": {
      "text/html": [
       "<div>\n",
       "<style scoped>\n",
       "    .dataframe tbody tr th:only-of-type {\n",
       "        vertical-align: middle;\n",
       "    }\n",
       "\n",
       "    .dataframe tbody tr th {\n",
       "        vertical-align: top;\n",
       "    }\n",
       "\n",
       "    .dataframe thead th {\n",
       "        text-align: right;\n",
       "    }\n",
       "</style>\n",
       "<table border=\"1\" class=\"dataframe\">\n",
       "  <thead>\n",
       "    <tr style=\"text-align: right;\">\n",
       "      <th></th>\n",
       "      <th>distance</th>\n",
       "      <th>label</th>\n",
       "    </tr>\n",
       "  </thead>\n",
       "  <tbody>\n",
       "    <tr>\n",
       "      <th>0</th>\n",
       "      <td>36.419603</td>\n",
       "      <td>0</td>\n",
       "    </tr>\n",
       "    <tr>\n",
       "      <th>1</th>\n",
       "      <td>38.835326</td>\n",
       "      <td>308</td>\n",
       "    </tr>\n",
       "    <tr>\n",
       "      <th>2</th>\n",
       "      <td>36.976339</td>\n",
       "      <td>58</td>\n",
       "    </tr>\n",
       "    <tr>\n",
       "      <th>3</th>\n",
       "      <td>34.575005</td>\n",
       "      <td>224</td>\n",
       "    </tr>\n",
       "    <tr>\n",
       "      <th>4</th>\n",
       "      <td>34.778827</td>\n",
       "      <td>84</td>\n",
       "    </tr>\n",
       "    <tr>\n",
       "      <th>...</th>\n",
       "      <td>...</td>\n",
       "      <td>...</td>\n",
       "    </tr>\n",
       "    <tr>\n",
       "      <th>995</th>\n",
       "      <td>43.477973</td>\n",
       "      <td>224</td>\n",
       "    </tr>\n",
       "    <tr>\n",
       "      <th>996</th>\n",
       "      <td>34.326577</td>\n",
       "      <td>396</td>\n",
       "    </tr>\n",
       "    <tr>\n",
       "      <th>997</th>\n",
       "      <td>35.983498</td>\n",
       "      <td>340</td>\n",
       "    </tr>\n",
       "    <tr>\n",
       "      <th>998</th>\n",
       "      <td>30.517842</td>\n",
       "      <td>32</td>\n",
       "    </tr>\n",
       "    <tr>\n",
       "      <th>999</th>\n",
       "      <td>31.802286</td>\n",
       "      <td>319</td>\n",
       "    </tr>\n",
       "  </tbody>\n",
       "</table>\n",
       "<p>1000 rows × 2 columns</p>\n",
       "</div>"
      ],
      "text/plain": [
       "      distance  label\n",
       "0    36.419603      0\n",
       "1    38.835326    308\n",
       "2    36.976339     58\n",
       "3    34.575005    224\n",
       "4    34.778827     84\n",
       "..         ...    ...\n",
       "995  43.477973    224\n",
       "996  34.326577    396\n",
       "997  35.983498    340\n",
       "998  30.517842     32\n",
       "999  31.802286    319\n",
       "\n",
       "[1000 rows x 2 columns]"
      ]
     },
     "execution_count": 181,
     "metadata": {},
     "output_type": "execute_result"
    }
   ],
   "source": [
    "df_dog_cat"
   ]
  },
  {
   "cell_type": "markdown",
   "metadata": {},
   "source": [
    "# Find the nearest neighbor for each dog in dog_test data with dog_train using dog model"
   ]
  },
  {
   "cell_type": "code",
   "execution_count": 154,
   "metadata": {},
   "outputs": [],
   "source": [
    "label_dog_dog = []\n",
    "distance_dog_dog = []\n",
    "\n",
    "def dog_dog_neighbours(x):\n",
    "    distance, indices = dog_model.kneighbors(x, n_neighbors = 1)\n",
    "    label_dog_dog.append(indices)\n",
    "    distance_dog_dog.append(distance)\n",
    "    return 0"
   ]
  },
  {
   "cell_type": "code",
   "execution_count": 155,
   "metadata": {},
   "outputs": [],
   "source": [
    "return_2 = dog_test['deep_features'].apply(lambda x: dog_dog_neighbours(x))"
   ]
  },
  {
   "cell_type": "code",
   "execution_count": 156,
   "metadata": {},
   "outputs": [],
   "source": [
    "df_dog_dog = pd.DataFrame({'distance' : distance_dog_dog, 'label' : label_dog_dog})"
   ]
  },
  {
   "cell_type": "code",
   "execution_count": 157,
   "metadata": {},
   "outputs": [],
   "source": [
    "df_dog_dog['distance'] = df_dog_dog['distance'].apply(lambda y: convert_array(y))\n",
    "df_dog_dog['label'] = df_dog_dog['label'].apply(lambda y: convert_array(y))"
   ]
  },
  {
   "cell_type": "code",
   "execution_count": 158,
   "metadata": {},
   "outputs": [
    {
     "data": {
      "text/html": [
       "<div>\n",
       "<style scoped>\n",
       "    .dataframe tbody tr th:only-of-type {\n",
       "        vertical-align: middle;\n",
       "    }\n",
       "\n",
       "    .dataframe tbody tr th {\n",
       "        vertical-align: top;\n",
       "    }\n",
       "\n",
       "    .dataframe thead th {\n",
       "        text-align: right;\n",
       "    }\n",
       "</style>\n",
       "<table border=\"1\" class=\"dataframe\">\n",
       "  <thead>\n",
       "    <tr style=\"text-align: right;\">\n",
       "      <th></th>\n",
       "      <th>distance</th>\n",
       "      <th>label</th>\n",
       "    </tr>\n",
       "  </thead>\n",
       "  <tbody>\n",
       "    <tr>\n",
       "      <th>0</th>\n",
       "      <td>33.477354</td>\n",
       "      <td>506</td>\n",
       "    </tr>\n",
       "    <tr>\n",
       "      <th>1</th>\n",
       "      <td>32.845849</td>\n",
       "      <td>62</td>\n",
       "    </tr>\n",
       "    <tr>\n",
       "      <th>2</th>\n",
       "      <td>35.039707</td>\n",
       "      <td>203</td>\n",
       "    </tr>\n",
       "    <tr>\n",
       "      <th>3</th>\n",
       "      <td>33.901032</td>\n",
       "      <td>129</td>\n",
       "    </tr>\n",
       "    <tr>\n",
       "      <th>4</th>\n",
       "      <td>37.484928</td>\n",
       "      <td>120</td>\n",
       "    </tr>\n",
       "    <tr>\n",
       "      <th>...</th>\n",
       "      <td>...</td>\n",
       "      <td>...</td>\n",
       "    </tr>\n",
       "    <tr>\n",
       "      <th>995</th>\n",
       "      <td>38.874712</td>\n",
       "      <td>54</td>\n",
       "    </tr>\n",
       "    <tr>\n",
       "      <th>996</th>\n",
       "      <td>35.653573</td>\n",
       "      <td>139</td>\n",
       "    </tr>\n",
       "    <tr>\n",
       "      <th>997</th>\n",
       "      <td>36.515231</td>\n",
       "      <td>22</td>\n",
       "    </tr>\n",
       "    <tr>\n",
       "      <th>998</th>\n",
       "      <td>32.528297</td>\n",
       "      <td>293</td>\n",
       "    </tr>\n",
       "    <tr>\n",
       "      <th>999</th>\n",
       "      <td>29.847321</td>\n",
       "      <td>181</td>\n",
       "    </tr>\n",
       "  </tbody>\n",
       "</table>\n",
       "<p>1000 rows × 2 columns</p>\n",
       "</div>"
      ],
      "text/plain": [
       "      distance  label\n",
       "0    33.477354    506\n",
       "1    32.845849     62\n",
       "2    35.039707    203\n",
       "3    33.901032    129\n",
       "4    37.484928    120\n",
       "..         ...    ...\n",
       "995  38.874712     54\n",
       "996  35.653573    139\n",
       "997  36.515231     22\n",
       "998  32.528297    293\n",
       "999  29.847321    181\n",
       "\n",
       "[1000 rows x 2 columns]"
      ]
     },
     "execution_count": 158,
     "metadata": {},
     "output_type": "execute_result"
    }
   ],
   "source": [
    "df_dog_dog"
   ]
  },
  {
   "cell_type": "markdown",
   "metadata": {},
   "source": [
    "# Find the nearest neighbor for each dog in dog_test data with automobile_train using automobile model"
   ]
  },
  {
   "cell_type": "code",
   "execution_count": 159,
   "metadata": {},
   "outputs": [],
   "source": [
    "label_dog_automobile = []\n",
    "distance_dog_automobile = []\n",
    "\n",
    "def dog_automobile_neighbours(x):\n",
    "    distance, indices = automobile_model.kneighbors(x, n_neighbors = 1)\n",
    "    label_dog_automobile.append(indices)\n",
    "    distance_dog_automobile.append(distance)\n",
    "    return 0"
   ]
  },
  {
   "cell_type": "code",
   "execution_count": 161,
   "metadata": {},
   "outputs": [],
   "source": [
    "return_3 = dog_test['deep_features'].apply(lambda x: dog_automobile_neighbours(x))"
   ]
  },
  {
   "cell_type": "code",
   "execution_count": 162,
   "metadata": {},
   "outputs": [],
   "source": [
    "df_dog_automobile = pd.DataFrame({'distance' : distance_dog_automobile, 'label' : label_dog_automobile})"
   ]
  },
  {
   "cell_type": "code",
   "execution_count": 163,
   "metadata": {},
   "outputs": [],
   "source": [
    "df_dog_automobile['distance'] = df_dog_automobile['distance'].apply(lambda y: convert_array(y))\n",
    "df_dog_automobile['label'] = df_dog_automobile['label'].apply(lambda y: convert_array(y))"
   ]
  },
  {
   "cell_type": "code",
   "execution_count": 164,
   "metadata": {},
   "outputs": [
    {
     "data": {
      "text/html": [
       "<div>\n",
       "<style scoped>\n",
       "    .dataframe tbody tr th:only-of-type {\n",
       "        vertical-align: middle;\n",
       "    }\n",
       "\n",
       "    .dataframe tbody tr th {\n",
       "        vertical-align: top;\n",
       "    }\n",
       "\n",
       "    .dataframe thead th {\n",
       "        text-align: right;\n",
       "    }\n",
       "</style>\n",
       "<table border=\"1\" class=\"dataframe\">\n",
       "  <thead>\n",
       "    <tr style=\"text-align: right;\">\n",
       "      <th></th>\n",
       "      <th>distance</th>\n",
       "      <th>label</th>\n",
       "    </tr>\n",
       "  </thead>\n",
       "  <tbody>\n",
       "    <tr>\n",
       "      <th>0</th>\n",
       "      <td>41.957982</td>\n",
       "      <td>350</td>\n",
       "    </tr>\n",
       "    <tr>\n",
       "      <th>1</th>\n",
       "      <td>46.002135</td>\n",
       "      <td>17</td>\n",
       "    </tr>\n",
       "    <tr>\n",
       "      <th>2</th>\n",
       "      <td>42.946231</td>\n",
       "      <td>191</td>\n",
       "    </tr>\n",
       "    <tr>\n",
       "      <th>3</th>\n",
       "      <td>41.686604</td>\n",
       "      <td>108</td>\n",
       "    </tr>\n",
       "    <tr>\n",
       "      <th>4</th>\n",
       "      <td>39.226973</td>\n",
       "      <td>191</td>\n",
       "    </tr>\n",
       "    <tr>\n",
       "      <th>...</th>\n",
       "      <td>...</td>\n",
       "      <td>...</td>\n",
       "    </tr>\n",
       "    <tr>\n",
       "      <th>995</th>\n",
       "      <td>44.309540</td>\n",
       "      <td>401</td>\n",
       "    </tr>\n",
       "    <tr>\n",
       "      <th>996</th>\n",
       "      <td>44.519197</td>\n",
       "      <td>205</td>\n",
       "    </tr>\n",
       "    <tr>\n",
       "      <th>997</th>\n",
       "      <td>42.326395</td>\n",
       "      <td>371</td>\n",
       "    </tr>\n",
       "    <tr>\n",
       "      <th>998</th>\n",
       "      <td>39.457429</td>\n",
       "      <td>191</td>\n",
       "    </tr>\n",
       "    <tr>\n",
       "      <th>999</th>\n",
       "      <td>40.188160</td>\n",
       "      <td>2</td>\n",
       "    </tr>\n",
       "  </tbody>\n",
       "</table>\n",
       "<p>1000 rows × 2 columns</p>\n",
       "</div>"
      ],
      "text/plain": [
       "      distance  label\n",
       "0    41.957982    350\n",
       "1    46.002135     17\n",
       "2    42.946231    191\n",
       "3    41.686604    108\n",
       "4    39.226973    191\n",
       "..         ...    ...\n",
       "995  44.309540    401\n",
       "996  44.519197    205\n",
       "997  42.326395    371\n",
       "998  39.457429    191\n",
       "999  40.188160      2\n",
       "\n",
       "[1000 rows x 2 columns]"
      ]
     },
     "execution_count": 164,
     "metadata": {},
     "output_type": "execute_result"
    }
   ],
   "source": [
    "df_dog_automobile"
   ]
  },
  {
   "cell_type": "markdown",
   "metadata": {},
   "source": [
    "# Find the nearest neighbor for each dog in dog_test data with bird_train using bird model"
   ]
  },
  {
   "cell_type": "code",
   "execution_count": 165,
   "metadata": {},
   "outputs": [],
   "source": [
    "label_dog_bird = []\n",
    "distance_dog_bird = []\n",
    "\n",
    "def dog_bird_neighbours(x):\n",
    "    distance, indices = bird_model.kneighbors(x, n_neighbors = 1)\n",
    "    label_dog_bird.append(indices)\n",
    "    distance_dog_bird.append(distance)\n",
    "    return 0"
   ]
  },
  {
   "cell_type": "code",
   "execution_count": 166,
   "metadata": {},
   "outputs": [],
   "source": [
    "return_4 = dog_test['deep_features'].apply(lambda x: dog_bird_neighbours(x))"
   ]
  },
  {
   "cell_type": "code",
   "execution_count": 167,
   "metadata": {},
   "outputs": [],
   "source": [
    "df_dog_bird = pd.DataFrame({'distance' : distance_dog_bird, 'label' : label_dog_bird})"
   ]
  },
  {
   "cell_type": "code",
   "execution_count": 168,
   "metadata": {},
   "outputs": [],
   "source": [
    "df_dog_bird['distance'] = df_dog_bird['distance'].apply(lambda y: convert_array(y))\n",
    "df_dog_bird['label'] = df_dog_bird['label'].apply(lambda y: convert_array(y))"
   ]
  },
  {
   "cell_type": "code",
   "execution_count": 169,
   "metadata": {},
   "outputs": [
    {
     "data": {
      "text/html": [
       "<div>\n",
       "<style scoped>\n",
       "    .dataframe tbody tr th:only-of-type {\n",
       "        vertical-align: middle;\n",
       "    }\n",
       "\n",
       "    .dataframe tbody tr th {\n",
       "        vertical-align: top;\n",
       "    }\n",
       "\n",
       "    .dataframe thead th {\n",
       "        text-align: right;\n",
       "    }\n",
       "</style>\n",
       "<table border=\"1\" class=\"dataframe\">\n",
       "  <thead>\n",
       "    <tr style=\"text-align: right;\">\n",
       "      <th></th>\n",
       "      <th>distance</th>\n",
       "      <th>label</th>\n",
       "    </tr>\n",
       "  </thead>\n",
       "  <tbody>\n",
       "    <tr>\n",
       "      <th>0</th>\n",
       "      <td>41.753863</td>\n",
       "      <td>420</td>\n",
       "    </tr>\n",
       "    <tr>\n",
       "      <th>1</th>\n",
       "      <td>41.338292</td>\n",
       "      <td>94</td>\n",
       "    </tr>\n",
       "    <tr>\n",
       "      <th>2</th>\n",
       "      <td>38.615761</td>\n",
       "      <td>353</td>\n",
       "    </tr>\n",
       "    <tr>\n",
       "      <th>3</th>\n",
       "      <td>37.089222</td>\n",
       "      <td>132</td>\n",
       "    </tr>\n",
       "    <tr>\n",
       "      <th>4</th>\n",
       "      <td>38.272291</td>\n",
       "      <td>347</td>\n",
       "    </tr>\n",
       "    <tr>\n",
       "      <th>...</th>\n",
       "      <td>...</td>\n",
       "      <td>...</td>\n",
       "    </tr>\n",
       "    <tr>\n",
       "      <th>995</th>\n",
       "      <td>40.397742</td>\n",
       "      <td>211</td>\n",
       "    </tr>\n",
       "    <tr>\n",
       "      <th>996</th>\n",
       "      <td>38.816914</td>\n",
       "      <td>71</td>\n",
       "    </tr>\n",
       "    <tr>\n",
       "      <th>997</th>\n",
       "      <td>37.722023</td>\n",
       "      <td>347</td>\n",
       "    </tr>\n",
       "    <tr>\n",
       "      <th>998</th>\n",
       "      <td>37.264525</td>\n",
       "      <td>40</td>\n",
       "    </tr>\n",
       "    <tr>\n",
       "      <th>999</th>\n",
       "      <td>35.904993</td>\n",
       "      <td>204</td>\n",
       "    </tr>\n",
       "  </tbody>\n",
       "</table>\n",
       "<p>1000 rows × 2 columns</p>\n",
       "</div>"
      ],
      "text/plain": [
       "      distance  label\n",
       "0    41.753863    420\n",
       "1    41.338292     94\n",
       "2    38.615761    353\n",
       "3    37.089222    132\n",
       "4    38.272291    347\n",
       "..         ...    ...\n",
       "995  40.397742    211\n",
       "996  38.816914     71\n",
       "997  37.722023    347\n",
       "998  37.264525     40\n",
       "999  35.904993    204\n",
       "\n",
       "[1000 rows x 2 columns]"
      ]
     },
     "execution_count": 169,
     "metadata": {},
     "output_type": "execute_result"
    }
   ],
   "source": [
    "df_dog_bird"
   ]
  },
  {
   "cell_type": "markdown",
   "metadata": {},
   "source": [
    "# Check for the total number of rows where the distance of dog_dog is less than other distances"
   ]
  },
  {
   "cell_type": "code",
   "execution_count": 182,
   "metadata": {},
   "outputs": [],
   "source": [
    "dog_distances = pd.DataFrame({'dog-dog': df_dog_dog['distance'],'dog-cat': df_dog_cat['distance'], 'dog-automobile': df_dog_automobile['distance'], 'dog-bird': df_dog_bird['distance']})"
   ]
  },
  {
   "cell_type": "code",
   "execution_count": 184,
   "metadata": {},
   "outputs": [],
   "source": [
    "dog_distances['row_minimum'] = dog_distances.min(axis=1)"
   ]
  },
  {
   "cell_type": "code",
   "execution_count": 185,
   "metadata": {},
   "outputs": [
    {
     "data": {
      "text/html": [
       "<div>\n",
       "<style scoped>\n",
       "    .dataframe tbody tr th:only-of-type {\n",
       "        vertical-align: middle;\n",
       "    }\n",
       "\n",
       "    .dataframe tbody tr th {\n",
       "        vertical-align: top;\n",
       "    }\n",
       "\n",
       "    .dataframe thead th {\n",
       "        text-align: right;\n",
       "    }\n",
       "</style>\n",
       "<table border=\"1\" class=\"dataframe\">\n",
       "  <thead>\n",
       "    <tr style=\"text-align: right;\">\n",
       "      <th></th>\n",
       "      <th>dog-dog</th>\n",
       "      <th>dog-cat</th>\n",
       "      <th>dog-automobile</th>\n",
       "      <th>dog-bird</th>\n",
       "      <th>row_minimum</th>\n",
       "    </tr>\n",
       "  </thead>\n",
       "  <tbody>\n",
       "    <tr>\n",
       "      <th>0</th>\n",
       "      <td>33.477354</td>\n",
       "      <td>36.419603</td>\n",
       "      <td>41.957982</td>\n",
       "      <td>41.753863</td>\n",
       "      <td>33.477354</td>\n",
       "    </tr>\n",
       "    <tr>\n",
       "      <th>1</th>\n",
       "      <td>32.845849</td>\n",
       "      <td>38.835326</td>\n",
       "      <td>46.002135</td>\n",
       "      <td>41.338292</td>\n",
       "      <td>32.845849</td>\n",
       "    </tr>\n",
       "    <tr>\n",
       "      <th>2</th>\n",
       "      <td>35.039707</td>\n",
       "      <td>36.976339</td>\n",
       "      <td>42.946231</td>\n",
       "      <td>38.615761</td>\n",
       "      <td>35.039707</td>\n",
       "    </tr>\n",
       "    <tr>\n",
       "      <th>3</th>\n",
       "      <td>33.901032</td>\n",
       "      <td>34.575005</td>\n",
       "      <td>41.686604</td>\n",
       "      <td>37.089222</td>\n",
       "      <td>33.901032</td>\n",
       "    </tr>\n",
       "    <tr>\n",
       "      <th>4</th>\n",
       "      <td>37.484928</td>\n",
       "      <td>34.778827</td>\n",
       "      <td>39.226973</td>\n",
       "      <td>38.272291</td>\n",
       "      <td>34.778827</td>\n",
       "    </tr>\n",
       "    <tr>\n",
       "      <th>...</th>\n",
       "      <td>...</td>\n",
       "      <td>...</td>\n",
       "      <td>...</td>\n",
       "      <td>...</td>\n",
       "      <td>...</td>\n",
       "    </tr>\n",
       "    <tr>\n",
       "      <th>995</th>\n",
       "      <td>38.874712</td>\n",
       "      <td>43.477973</td>\n",
       "      <td>44.309540</td>\n",
       "      <td>40.397742</td>\n",
       "      <td>38.874712</td>\n",
       "    </tr>\n",
       "    <tr>\n",
       "      <th>996</th>\n",
       "      <td>35.653573</td>\n",
       "      <td>34.326577</td>\n",
       "      <td>44.519197</td>\n",
       "      <td>38.816914</td>\n",
       "      <td>34.326577</td>\n",
       "    </tr>\n",
       "    <tr>\n",
       "      <th>997</th>\n",
       "      <td>36.515231</td>\n",
       "      <td>35.983498</td>\n",
       "      <td>42.326395</td>\n",
       "      <td>37.722023</td>\n",
       "      <td>35.983498</td>\n",
       "    </tr>\n",
       "    <tr>\n",
       "      <th>998</th>\n",
       "      <td>32.528297</td>\n",
       "      <td>30.517842</td>\n",
       "      <td>39.457429</td>\n",
       "      <td>37.264525</td>\n",
       "      <td>30.517842</td>\n",
       "    </tr>\n",
       "    <tr>\n",
       "      <th>999</th>\n",
       "      <td>29.847321</td>\n",
       "      <td>31.802286</td>\n",
       "      <td>40.188160</td>\n",
       "      <td>35.904993</td>\n",
       "      <td>29.847321</td>\n",
       "    </tr>\n",
       "  </tbody>\n",
       "</table>\n",
       "<p>1000 rows × 5 columns</p>\n",
       "</div>"
      ],
      "text/plain": [
       "       dog-dog    dog-cat  dog-automobile   dog-bird  row_minimum\n",
       "0    33.477354  36.419603       41.957982  41.753863    33.477354\n",
       "1    32.845849  38.835326       46.002135  41.338292    32.845849\n",
       "2    35.039707  36.976339       42.946231  38.615761    35.039707\n",
       "3    33.901032  34.575005       41.686604  37.089222    33.901032\n",
       "4    37.484928  34.778827       39.226973  38.272291    34.778827\n",
       "..         ...        ...             ...        ...          ...\n",
       "995  38.874712  43.477973       44.309540  40.397742    38.874712\n",
       "996  35.653573  34.326577       44.519197  38.816914    34.326577\n",
       "997  36.515231  35.983498       42.326395  37.722023    35.983498\n",
       "998  32.528297  30.517842       39.457429  37.264525    30.517842\n",
       "999  29.847321  31.802286       40.188160  35.904993    29.847321\n",
       "\n",
       "[1000 rows x 5 columns]"
      ]
     },
     "execution_count": 185,
     "metadata": {},
     "output_type": "execute_result"
    }
   ],
   "source": [
    "dog_distances"
   ]
  },
  {
   "cell_type": "code",
   "execution_count": 186,
   "metadata": {},
   "outputs": [],
   "source": [
    "def is_dog_correct(row):\n",
    "    if row['dog-dog'] <= row['row_minimum']:\n",
    "        return 1\n",
    "    return 0"
   ]
  },
  {
   "cell_type": "code",
   "execution_count": 188,
   "metadata": {},
   "outputs": [
    {
     "data": {
      "text/plain": [
       "678"
      ]
     },
     "execution_count": 188,
     "metadata": {},
     "output_type": "execute_result"
    }
   ],
   "source": [
    "total_correct_dog_predictions = dog_distances.apply(is_dog_correct, axis=1).sum()\n",
    "total_correct_dog_predictions"
   ]
  },
  {
   "cell_type": "code",
   "execution_count": 189,
   "metadata": {},
   "outputs": [
    {
     "data": {
      "text/plain": [
       "0.678"
      ]
     },
     "execution_count": 189,
     "metadata": {},
     "output_type": "execute_result"
    }
   ],
   "source": [
    "accuracy_dog_predictions = total_correct_dog_predictions/len(dog_distances)\n",
    "accuracy_dog_predictions"
   ]
  },
  {
   "cell_type": "code",
   "execution_count": null,
   "metadata": {},
   "outputs": [],
   "source": []
  }
 ],
 "metadata": {
  "kernelspec": {
   "display_name": "Python 3",
   "language": "python",
   "name": "python3"
  },
  "language_info": {
   "codemirror_mode": {
    "name": "ipython",
    "version": 3
   },
   "file_extension": ".py",
   "mimetype": "text/x-python",
   "name": "python",
   "nbconvert_exporter": "python",
   "pygments_lexer": "ipython3",
   "version": "3.7.9"
  }
 },
 "nbformat": 4,
 "nbformat_minor": 2
}
