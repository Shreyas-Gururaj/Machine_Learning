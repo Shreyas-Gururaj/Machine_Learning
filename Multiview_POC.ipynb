{
  "nbformat": 4,
  "nbformat_minor": 0,
  "metadata": {
    "colab": {
      "name": "Untitled2.ipynb",
      "provenance": [],
      "authorship_tag": "ABX9TyMSTS3jNspCNZf6oGzRJl/A",
      "include_colab_link": true
    },
    "kernelspec": {
      "name": "python3",
      "display_name": "Python 3"
    },
    "language_info": {
      "name": "python"
    }
  },
  "cells": [
    {
      "cell_type": "markdown",
      "metadata": {
        "id": "view-in-github",
        "colab_type": "text"
      },
      "source": [
        "<a href=\"https://colab.research.google.com/github/Shreyas-Gururaj/Machine_Learning/blob/master/Multiview_POC.ipynb\" target=\"_parent\"><img src=\"https://colab.research.google.com/assets/colab-badge.svg\" alt=\"Open In Colab\"/></a>"
      ]
    },
    {
      "cell_type": "code",
      "metadata": {
        "id": "oZiDSJwQA4tE"
      },
      "source": [
        "!pip install transformers"
      ],
      "execution_count": null,
      "outputs": []
    },
    {
      "cell_type": "code",
      "metadata": {
        "id": "A16EyLqiQxmt"
      },
      "source": [
        "from sklearn.metrics.pairwise import cosine_similarity"
      ],
      "execution_count": 32,
      "outputs": []
    },
    {
      "cell_type": "code",
      "metadata": {
        "id": "KuTm5cYoAeOS"
      },
      "source": [
        "import numpy as np\n",
        "import pandas as pd\n",
        "from transformers import ViTModel, ViTConfig"
      ],
      "execution_count": 7,
      "outputs": []
    },
    {
      "cell_type": "code",
      "metadata": {
        "id": "JWpiW55LICpA"
      },
      "source": [
        "from transformers import ViTFeatureExtractor, ViTModel"
      ],
      "execution_count": 9,
      "outputs": []
    },
    {
      "cell_type": "code",
      "metadata": {
        "id": "1_Ckkv01I_Df"
      },
      "source": [
        "from PIL import Image"
      ],
      "execution_count": 11,
      "outputs": []
    },
    {
      "cell_type": "code",
      "metadata": {
        "id": "KYpxT4mYBABj"
      },
      "source": [
        "configuration = ViTConfig()"
      ],
      "execution_count": 8,
      "outputs": []
    },
    {
      "cell_type": "code",
      "metadata": {
        "id": "b3mn7RzIHDdf"
      },
      "source": [
        "feature_extractor = ViTFeatureExtractor.from_pretrained('google/vit-base-patch16-224-in21k')\n",
        "model = ViTModel.from_pretrained('google/vit-base-patch16-224-in21k')\n",
        "\n",
        "image = Image.open('/content/render1.jpg')\n",
        "\n",
        "inputs = feature_extractor(images=image, return_tensors=\"pt\")\n",
        "outputs = model(**inputs)\n",
        "last_hidden_states = outputs.pooler_output \n",
        "res1 = last_hidden_states.detach().cpu().numpy()\n",
        "print(res1)"
      ],
      "execution_count": null,
      "outputs": []
    },
    {
      "cell_type": "code",
      "metadata": {
        "id": "jD5aHihgIvHW"
      },
      "source": [
        "def extract(path):\n",
        "  image = Image.open(path)\n",
        "\n",
        "  inputs = feature_extractor(images=image, return_tensors=\"pt\")\n",
        "  outputs = model(**inputs)\n",
        "  last_hidden_states = outputs.pooler_output \n",
        "  res1 = last_hidden_states.detach().cpu().numpy()\n",
        "  return res1"
      ],
      "execution_count": 58,
      "outputs": []
    },
    {
      "cell_type": "code",
      "metadata": {
        "id": "3ZvsquKMP_1u"
      },
      "source": [
        "# Image1\n",
        "ans1 = extract('/content/render1.jpg')"
      ],
      "execution_count": 59,
      "outputs": []
    },
    {
      "cell_type": "code",
      "metadata": {
        "id": "2aRupB04QBgp"
      },
      "source": [
        "# Image 2\n",
        "ans2 = extract('/content/render1_1.jpg')"
      ],
      "execution_count": 60,
      "outputs": []
    },
    {
      "cell_type": "code",
      "metadata": {
        "id": "qf7Yg4f7Qe3u"
      },
      "source": [
        "# Image 3\n",
        "ans3 = extract('/content/render1_3.jpg')"
      ],
      "execution_count": 61,
      "outputs": []
    },
    {
      "cell_type": "code",
      "metadata": {
        "id": "29pES13iQkmR"
      },
      "source": [
        "def pairwise_cosine_similarity(feature_vector_1, feature_vector_2):\n",
        "        cos_sim = cosine_similarity(feature_vector_1, feature_vector_2, \n",
        "                                    dense_output = True)\n",
        "\n",
        "        return cos_sim"
      ],
      "execution_count": 62,
      "outputs": []
    },
    {
      "cell_type": "code",
      "metadata": {
        "colab": {
          "base_uri": "https://localhost:8080/"
        },
        "id": "Iqr6Z5zwRBMH",
        "outputId": "0123720d-12ea-4735-bd25-2075084982b3"
      },
      "source": [
        "ans2 = ans2.reshape(1, -1)\n",
        "cos1 = pairwise_cosine_similarity(ans1, ans2)\n",
        "print(cos1)"
      ],
      "execution_count": 63,
      "outputs": [
        {
          "output_type": "stream",
          "name": "stdout",
          "text": [
            "[[0.743414]]\n"
          ]
        }
      ]
    },
    {
      "cell_type": "code",
      "metadata": {
        "colab": {
          "base_uri": "https://localhost:8080/"
        },
        "id": "VfS4Qbg8RH9B",
        "outputId": "1aa9c493-3360-4334-b4b4-bd6a9e130d11"
      },
      "source": [
        "ans3 = ans3.reshape(1, -1)\n",
        "cos2 = pairwise_cosine_similarity(ans2, ans3)\n",
        "print(cos2)"
      ],
      "execution_count": 64,
      "outputs": [
        {
          "output_type": "stream",
          "name": "stdout",
          "text": [
            "[[0.45371127]]\n"
          ]
        }
      ]
    }
  ]
}