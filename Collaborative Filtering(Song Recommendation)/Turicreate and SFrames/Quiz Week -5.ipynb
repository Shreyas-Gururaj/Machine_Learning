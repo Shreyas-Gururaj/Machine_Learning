{
 "cells": [
  {
   "cell_type": "code",
   "execution_count": 1,
   "id": "72ffdcf1",
   "metadata": {},
   "outputs": [],
   "source": [
    "import turicreate as tc"
   ]
  },
  {
   "cell_type": "code",
   "execution_count": 2,
   "id": "c746bf1e",
   "metadata": {},
   "outputs": [],
   "source": [
    "song_data = tc.SFrame('song_data')"
   ]
  },
  {
   "cell_type": "code",
   "execution_count": 3,
   "id": "83b22618",
   "metadata": {},
   "outputs": [
    {
     "data": {
      "text/html": [
       "<div style=\"max-height:1000px;max-width:1500px;overflow:auto;\"><table frame=\"box\" rules=\"cols\">\n",
       "    <tr>\n",
       "        <th style=\"padding-left: 1em; padding-right: 1em; text-align: center\">user_id</th>\n",
       "        <th style=\"padding-left: 1em; padding-right: 1em; text-align: center\">song_id</th>\n",
       "        <th style=\"padding-left: 1em; padding-right: 1em; text-align: center\">listen_count</th>\n",
       "        <th style=\"padding-left: 1em; padding-right: 1em; text-align: center\">title</th>\n",
       "        <th style=\"padding-left: 1em; padding-right: 1em; text-align: center\">artist</th>\n",
       "    </tr>\n",
       "    <tr>\n",
       "        <td style=\"padding-left: 1em; padding-right: 1em; text-align: center; vertical-align: top\">b80344d063b5ccb3212f76538<br>f3d9e43d87dca9e ...</td>\n",
       "        <td style=\"padding-left: 1em; padding-right: 1em; text-align: center; vertical-align: top\">SOAKIMP12A8C130995</td>\n",
       "        <td style=\"padding-left: 1em; padding-right: 1em; text-align: center; vertical-align: top\">1</td>\n",
       "        <td style=\"padding-left: 1em; padding-right: 1em; text-align: center; vertical-align: top\">The Cove</td>\n",
       "        <td style=\"padding-left: 1em; padding-right: 1em; text-align: center; vertical-align: top\">Jack Johnson</td>\n",
       "    </tr>\n",
       "    <tr>\n",
       "        <td style=\"padding-left: 1em; padding-right: 1em; text-align: center; vertical-align: top\">b80344d063b5ccb3212f76538<br>f3d9e43d87dca9e ...</td>\n",
       "        <td style=\"padding-left: 1em; padding-right: 1em; text-align: center; vertical-align: top\">SOBBMDR12A8C13253B</td>\n",
       "        <td style=\"padding-left: 1em; padding-right: 1em; text-align: center; vertical-align: top\">2</td>\n",
       "        <td style=\"padding-left: 1em; padding-right: 1em; text-align: center; vertical-align: top\">Entre Dos Aguas</td>\n",
       "        <td style=\"padding-left: 1em; padding-right: 1em; text-align: center; vertical-align: top\">Paco De Lucia</td>\n",
       "    </tr>\n",
       "    <tr>\n",
       "        <td style=\"padding-left: 1em; padding-right: 1em; text-align: center; vertical-align: top\">b80344d063b5ccb3212f76538<br>f3d9e43d87dca9e ...</td>\n",
       "        <td style=\"padding-left: 1em; padding-right: 1em; text-align: center; vertical-align: top\">SOBXHDL12A81C204C0</td>\n",
       "        <td style=\"padding-left: 1em; padding-right: 1em; text-align: center; vertical-align: top\">1</td>\n",
       "        <td style=\"padding-left: 1em; padding-right: 1em; text-align: center; vertical-align: top\">Stronger</td>\n",
       "        <td style=\"padding-left: 1em; padding-right: 1em; text-align: center; vertical-align: top\">Kanye West</td>\n",
       "    </tr>\n",
       "    <tr>\n",
       "        <td style=\"padding-left: 1em; padding-right: 1em; text-align: center; vertical-align: top\">b80344d063b5ccb3212f76538<br>f3d9e43d87dca9e ...</td>\n",
       "        <td style=\"padding-left: 1em; padding-right: 1em; text-align: center; vertical-align: top\">SOBYHAJ12A6701BF1D</td>\n",
       "        <td style=\"padding-left: 1em; padding-right: 1em; text-align: center; vertical-align: top\">1</td>\n",
       "        <td style=\"padding-left: 1em; padding-right: 1em; text-align: center; vertical-align: top\">Constellations</td>\n",
       "        <td style=\"padding-left: 1em; padding-right: 1em; text-align: center; vertical-align: top\">Jack Johnson</td>\n",
       "    </tr>\n",
       "    <tr>\n",
       "        <td style=\"padding-left: 1em; padding-right: 1em; text-align: center; vertical-align: top\">b80344d063b5ccb3212f76538<br>f3d9e43d87dca9e ...</td>\n",
       "        <td style=\"padding-left: 1em; padding-right: 1em; text-align: center; vertical-align: top\">SODACBL12A8C13C273</td>\n",
       "        <td style=\"padding-left: 1em; padding-right: 1em; text-align: center; vertical-align: top\">1</td>\n",
       "        <td style=\"padding-left: 1em; padding-right: 1em; text-align: center; vertical-align: top\">Learn To Fly</td>\n",
       "        <td style=\"padding-left: 1em; padding-right: 1em; text-align: center; vertical-align: top\">Foo Fighters</td>\n",
       "    </tr>\n",
       "    <tr>\n",
       "        <td style=\"padding-left: 1em; padding-right: 1em; text-align: center; vertical-align: top\">b80344d063b5ccb3212f76538<br>f3d9e43d87dca9e ...</td>\n",
       "        <td style=\"padding-left: 1em; padding-right: 1em; text-align: center; vertical-align: top\">SODDNQT12A6D4F5F7E</td>\n",
       "        <td style=\"padding-left: 1em; padding-right: 1em; text-align: center; vertical-align: top\">5</td>\n",
       "        <td style=\"padding-left: 1em; padding-right: 1em; text-align: center; vertical-align: top\">Apuesta Por El Rock &#x27;N&#x27;<br>Roll ...</td>\n",
       "        <td style=\"padding-left: 1em; padding-right: 1em; text-align: center; vertical-align: top\">Héroes del Silencio</td>\n",
       "    </tr>\n",
       "    <tr>\n",
       "        <td style=\"padding-left: 1em; padding-right: 1em; text-align: center; vertical-align: top\">b80344d063b5ccb3212f76538<br>f3d9e43d87dca9e ...</td>\n",
       "        <td style=\"padding-left: 1em; padding-right: 1em; text-align: center; vertical-align: top\">SODXRTY12AB0180F3B</td>\n",
       "        <td style=\"padding-left: 1em; padding-right: 1em; text-align: center; vertical-align: top\">1</td>\n",
       "        <td style=\"padding-left: 1em; padding-right: 1em; text-align: center; vertical-align: top\">Paper Gangsta</td>\n",
       "        <td style=\"padding-left: 1em; padding-right: 1em; text-align: center; vertical-align: top\">Lady GaGa</td>\n",
       "    </tr>\n",
       "    <tr>\n",
       "        <td style=\"padding-left: 1em; padding-right: 1em; text-align: center; vertical-align: top\">b80344d063b5ccb3212f76538<br>f3d9e43d87dca9e ...</td>\n",
       "        <td style=\"padding-left: 1em; padding-right: 1em; text-align: center; vertical-align: top\">SOFGUAY12AB017B0A8</td>\n",
       "        <td style=\"padding-left: 1em; padding-right: 1em; text-align: center; vertical-align: top\">1</td>\n",
       "        <td style=\"padding-left: 1em; padding-right: 1em; text-align: center; vertical-align: top\">Stacked Actors</td>\n",
       "        <td style=\"padding-left: 1em; padding-right: 1em; text-align: center; vertical-align: top\">Foo Fighters</td>\n",
       "    </tr>\n",
       "    <tr>\n",
       "        <td style=\"padding-left: 1em; padding-right: 1em; text-align: center; vertical-align: top\">b80344d063b5ccb3212f76538<br>f3d9e43d87dca9e ...</td>\n",
       "        <td style=\"padding-left: 1em; padding-right: 1em; text-align: center; vertical-align: top\">SOFRQTD12A81C233C0</td>\n",
       "        <td style=\"padding-left: 1em; padding-right: 1em; text-align: center; vertical-align: top\">1</td>\n",
       "        <td style=\"padding-left: 1em; padding-right: 1em; text-align: center; vertical-align: top\">Sehr kosmisch</td>\n",
       "        <td style=\"padding-left: 1em; padding-right: 1em; text-align: center; vertical-align: top\">Harmonia</td>\n",
       "    </tr>\n",
       "    <tr>\n",
       "        <td style=\"padding-left: 1em; padding-right: 1em; text-align: center; vertical-align: top\">b80344d063b5ccb3212f76538<br>f3d9e43d87dca9e ...</td>\n",
       "        <td style=\"padding-left: 1em; padding-right: 1em; text-align: center; vertical-align: top\">SOHQWYZ12A6D4FA701</td>\n",
       "        <td style=\"padding-left: 1em; padding-right: 1em; text-align: center; vertical-align: top\">1</td>\n",
       "        <td style=\"padding-left: 1em; padding-right: 1em; text-align: center; vertical-align: top\">Heaven&#x27;s gonna burn your<br>eyes ...</td>\n",
       "        <td style=\"padding-left: 1em; padding-right: 1em; text-align: center; vertical-align: top\">Thievery Corporation<br>feat. Emiliana Torrini ...</td>\n",
       "    </tr>\n",
       "</table>\n",
       "<table frame=\"box\" rules=\"cols\">\n",
       "    <tr>\n",
       "        <th style=\"padding-left: 1em; padding-right: 1em; text-align: center\">song</th>\n",
       "    </tr>\n",
       "    <tr>\n",
       "        <td style=\"padding-left: 1em; padding-right: 1em; text-align: center; vertical-align: top\">The Cove - Jack Johnson</td>\n",
       "    </tr>\n",
       "    <tr>\n",
       "        <td style=\"padding-left: 1em; padding-right: 1em; text-align: center; vertical-align: top\">Entre Dos Aguas - Paco De<br>Lucia ...</td>\n",
       "    </tr>\n",
       "    <tr>\n",
       "        <td style=\"padding-left: 1em; padding-right: 1em; text-align: center; vertical-align: top\">Stronger - Kanye West</td>\n",
       "    </tr>\n",
       "    <tr>\n",
       "        <td style=\"padding-left: 1em; padding-right: 1em; text-align: center; vertical-align: top\">Constellations - Jack<br>Johnson ...</td>\n",
       "    </tr>\n",
       "    <tr>\n",
       "        <td style=\"padding-left: 1em; padding-right: 1em; text-align: center; vertical-align: top\">Learn To Fly - Foo<br>Fighters ...</td>\n",
       "    </tr>\n",
       "    <tr>\n",
       "        <td style=\"padding-left: 1em; padding-right: 1em; text-align: center; vertical-align: top\">Apuesta Por El Rock &#x27;N&#x27;<br>Roll - Héroes del ...</td>\n",
       "    </tr>\n",
       "    <tr>\n",
       "        <td style=\"padding-left: 1em; padding-right: 1em; text-align: center; vertical-align: top\">Paper Gangsta - Lady GaGa</td>\n",
       "    </tr>\n",
       "    <tr>\n",
       "        <td style=\"padding-left: 1em; padding-right: 1em; text-align: center; vertical-align: top\">Stacked Actors - Foo<br>Fighters ...</td>\n",
       "    </tr>\n",
       "    <tr>\n",
       "        <td style=\"padding-left: 1em; padding-right: 1em; text-align: center; vertical-align: top\">Sehr kosmisch - Harmonia</td>\n",
       "    </tr>\n",
       "    <tr>\n",
       "        <td style=\"padding-left: 1em; padding-right: 1em; text-align: center; vertical-align: top\">Heaven&#x27;s gonna burn your<br>eyes - Thievery ...</td>\n",
       "    </tr>\n",
       "</table>\n",
       "[10 rows x 6 columns]<br/>\n",
       "</div>"
      ],
      "text/plain": [
       "Columns:\n",
       "\tuser_id\tstr\n",
       "\tsong_id\tstr\n",
       "\tlisten_count\tint\n",
       "\ttitle\tstr\n",
       "\tartist\tstr\n",
       "\tsong\tstr\n",
       "\n",
       "Rows: 10\n",
       "\n",
       "Data:\n",
       "+-------------------------------+--------------------+--------------+\n",
       "|            user_id            |      song_id       | listen_count |\n",
       "+-------------------------------+--------------------+--------------+\n",
       "| b80344d063b5ccb3212f76538f... | SOAKIMP12A8C130995 |      1       |\n",
       "| b80344d063b5ccb3212f76538f... | SOBBMDR12A8C13253B |      2       |\n",
       "| b80344d063b5ccb3212f76538f... | SOBXHDL12A81C204C0 |      1       |\n",
       "| b80344d063b5ccb3212f76538f... | SOBYHAJ12A6701BF1D |      1       |\n",
       "| b80344d063b5ccb3212f76538f... | SODACBL12A8C13C273 |      1       |\n",
       "| b80344d063b5ccb3212f76538f... | SODDNQT12A6D4F5F7E |      5       |\n",
       "| b80344d063b5ccb3212f76538f... | SODXRTY12AB0180F3B |      1       |\n",
       "| b80344d063b5ccb3212f76538f... | SOFGUAY12AB017B0A8 |      1       |\n",
       "| b80344d063b5ccb3212f76538f... | SOFRQTD12A81C233C0 |      1       |\n",
       "| b80344d063b5ccb3212f76538f... | SOHQWYZ12A6D4FA701 |      1       |\n",
       "+-------------------------------+--------------------+--------------+\n",
       "+-------------------------------+-------------------------------+\n",
       "|             title             |             artist            |\n",
       "+-------------------------------+-------------------------------+\n",
       "|            The Cove           |          Jack Johnson         |\n",
       "|        Entre Dos Aguas        |         Paco De Lucia         |\n",
       "|            Stronger           |           Kanye West          |\n",
       "|         Constellations        |          Jack Johnson         |\n",
       "|          Learn To Fly         |          Foo Fighters         |\n",
       "|  Apuesta Por El Rock 'N' Roll |      Héroes del Silencio      |\n",
       "|         Paper Gangsta         |           Lady GaGa           |\n",
       "|         Stacked Actors        |          Foo Fighters         |\n",
       "|         Sehr kosmisch         |            Harmonia           |\n",
       "| Heaven's gonna burn your eyes | Thievery Corporation feat.... |\n",
       "+-------------------------------+-------------------------------+\n",
       "+-------------------------------+\n",
       "|              song             |\n",
       "+-------------------------------+\n",
       "|    The Cove - Jack Johnson    |\n",
       "| Entre Dos Aguas - Paco De ... |\n",
       "|     Stronger - Kanye West     |\n",
       "| Constellations - Jack Johnson |\n",
       "|  Learn To Fly - Foo Fighters  |\n",
       "| Apuesta Por El Rock 'N' Ro... |\n",
       "|   Paper Gangsta - Lady GaGa   |\n",
       "| Stacked Actors - Foo Fighters |\n",
       "|    Sehr kosmisch - Harmonia   |\n",
       "| Heaven's gonna burn your e... |\n",
       "+-------------------------------+\n",
       "[10 rows x 6 columns]"
      ]
     },
     "execution_count": 3,
     "metadata": {},
     "output_type": "execute_result"
    }
   ],
   "source": [
    "song_data.head()"
   ]
  },
  {
   "cell_type": "markdown",
   "id": "0f08fafa",
   "metadata": {},
   "source": [
    "# Question -1"
   ]
  },
  {
   "cell_type": "code",
   "execution_count": 4,
   "id": "d53c895a",
   "metadata": {},
   "outputs": [],
   "source": [
    "kanye = song_data[song_data['artist'] == 'Kanye West']"
   ]
  },
  {
   "cell_type": "code",
   "execution_count": 7,
   "id": "88a442b5",
   "metadata": {},
   "outputs": [
    {
     "data": {
      "text/plain": [
       "dtype: str\n",
       "Rows: 2522\n",
       "['18325842a941bc58449ee71d659a08d1c1bd2383', '82c458f2e9bc30f87890b408e5b965114989edf4', '37b97745b5649ca367aab9e4999528b470ecc692', '99d724639a1e51f53770236f24c87e2ca9126ec6', '58fcc1ee8eb4bff5a9bedff6e7510f0167367c1a', 'f34ffb77d1ca071bfa40fcf51fa5b716cd8f4219', 'f1a5555ab79f8a31c8d79112f7be7a84349bf92f', '536b99fac3204bc6667991d6efc1b8e9cbf4680e', '705449d46b99784af9bca24a0fa4abf91695e47e', '32b05b10e8a25ebccb561adaa7033d3eefa8900e', '932ad377a3bb70d0d32969f4941f0268d560afc9', '871d004a886a45317e425b5516ba3391b50e2443', '417862529ebc6866ea0baa9f4a066d7cbfbb4adb', 'd81a9f0631a5ffd890bbd8a742c83cef12b7ba27', '544a657785b1653359163efff5f7cafafc759d2d', '58ea7b11bae17385192c890b35904fd7102acd7e', 'ce8f4d7d26ab3014750755a27515672dd3ac0f9c', '3f98392c44c273e5ddef3d9bec72df795fed51b3', 'b1fac841c888bd4ef39620b3a9076dbf624e7550', '2c7e4e1d5e580b8401e0fe68ce271e8274b8b377', 'ac70e33cd4bd1956efdd0ad01160e167a35496dc', 'ca4bbea93819e5f73acd37aafbfcd64f2c5b11a7', '25c85accee5b305d4738948c1c75d132e664f8a4', 'd248654cf48a863c80e837f731a72575dfb652fd', '988ecea45f23f55364729902fd62ba1b236e92e6', '255e26f11a3dbbb674bcebf4552c92ecf1c3160c', 'e9902857d9dde3ec866cc971efcb6d254a8a583e', '2ced571d35465863720b32e5d9d986a4cd8f9d49', 'a65c6b7d5d32aa485dd891532a758bb07f73ae89', 'ac7abbf813a388764f6c18521bc73b4a36543d86', '0325c6f37767763065c82987e556e5ff61184149', 'c03d329b0f3c9392c22d8bea39974b57367918f6', '593863fbd75a32d68126747119506020dd37c6f0', 'e2ee9eec3e8cbee96ca75a8c25eb3eb515e4f783', '044c0d9b2e0624eb5b6b13580566530795d24dc2', 'ca850d36932421b9be0d7cf79ce7d8e9965e778f', 'eed8f0b29dbca9be740ee29d596fedfaa093965d', '95401edd9d93a7b8f30489d5164bb3b6f5040c84', '71cf23cabbc2360acf1aa8c3d3583853ea6db151', 'c5f40b021c8c4c3964c042880c1c4304a1a6e2d1', '24add0b309fc9bbb777c9ab2a7ed762554d3f3e0', 'd3e6566ad87618782975e067593d9a829f5475e0', '682512a5f1d70ffc5af720a6ce9d9d3054cadccd', 'aac7c62a6f9ac82b1cbda612f945b187b60b04b4', '66f66b3a20ca6c18c3920de8b1baedd54e4585cf', 'f3f3c750dd178ef1add801d9efc0982f95c9b00e', 'a911caa54c7d63bca7f09b79b2194c82840ece1e', 'b0b954ba27d555ea0ecbe4262dd3527aac4faaed', 'f8abf548d0f04ba5d6fd348ebf76dc5f42bfe577', 'b20a2294064f68392a2ba8c97ef850335d24dd6f', 'd7f7f1b743b9d74786e3ba5b24ba6791b4ce50f6', '259ed24ab6cf18ceb666f222e24df9c4f8db702b', 'a1182eb481059ac55856af5914f5971810d28691', 'ed5c0535937b4ceaeedd4c4973eeef4bd62d29a2', '0c319c23dac0b1fe31c8bb6ea1a05acf8b499e6d', 'b7acc1df56abab956565ae68cc0970bfb486229e', '1d207920b69e5f95d970c12f9d54ed464cec7b87', 'd42b15f49ddc72c297eb2db41dc945dee59538f1', '0b74c1daa1160be496b0cbc6a36a6bace8133646', 'a31474338e4cc30ff49f868a244ddd33932d06d1', 'cb695ff6ac8af1e253e16703aa6c4cf1f5e8acb4', 'd251cd245a1374c733a1fde2608ef86932fec1b4', 'd5cb585003017040ec0ee651e663c7818eb7e692', '716821eb0a86cc125afbc378701faa0409f04721', '8419452f36b8ac39fc374438c199e73e76a56a7b', '48bb1c75fdf87220288b1b9845787f5df3784c80', '87fc40a10ae2e397086bd5ba69fca8e6e6575d85', '8e2d6bda02f4fec360b15ffaf65c79f0736ec621', '17cdf8b0e191a7bcf09d0f64eeaba32ff344d1ed', '57795923151c96160baebdcfc47fada863ac389e', '2d77c4905728d7b3f7acde3d01ee138cbe45f829', '827d5838988478586a5a0c1fec9a6a78b3e4088b', '9bcaa6ea7d9b597ac3b75400e23d74208addcda2', 'e591b009233c2d2068e8964bad61f80ba94fbff7', '53c663a9b3f849c54fbce07d57cacacd28c741dc', '62d75235e870b6850b96bb92efc5c3699469d83f', '3bf62e1c0d497948661f375cbd1c07f136776e93', 'c14d4ee9798872ea3a249b52e96759809d51e31b', '679e07b20180c1cf2d4ff2e8037fdb1d1968009d', '76b9b3815533f4651643553071ec5e3350a3e475', 'd17b5a6a9ddc5b0730350d1457fb89f359193f94', '40d9df628d3602d6b7dc6166ca1d8501e674910d', '1230819bb66bb94add4f5e3053ac00e660f5b294', 'c72da921939858a19bd657d470508152d83be39e', '98d37dccbdfd6eacb2509823b3069565c6b950c1', 'e5139db55a7b0195d64ad65fc60198a1085bf0b6', 'd6dafddfd316eff2ffe9726585218c2f45d7eb4d', 'ebe0f27604ae41e719f112a4994c44b87cc044d1', '6707a33b2ea9dd7665738a1f53cfb8173b129937', '6d3220078e86857a9ae616916ebfd869696a8e70', 'f7fa7a2a7d697775140e9736cee81bb1a852bab0', '90f48dd632d1121d937f9ee4a0b86f289affd5e5', '948c117d40818af2cb5e66a9f9b386cd6ba9ceee', '5806ce75f6d8340c11c320a2fed1ecf76fe5faf6', 'df4d821e6c437ee3481345c844150f03f89a52df', 'e171a119be0e249b062df776c4697125f2b7759b', '0c232fe8b29ba825b554bb590f4629e39472bb27', '6323261e8740fda49b116736c9792aa4a35567ea', '171332d14d39b7cb82aa797bddbea23053fd979e', '70ba23377d60d1af501e9e68908b1ba49f2a06ef', ... ]"
      ]
     },
     "execution_count": 7,
     "metadata": {},
     "output_type": "execute_result"
    }
   ],
   "source": [
    "kanye['user_id'].unique()"
   ]
  },
  {
   "cell_type": "code",
   "execution_count": 8,
   "id": "b5755780",
   "metadata": {},
   "outputs": [],
   "source": [
    "Foo = song_data[song_data['artist'] == 'Foo Fighters']"
   ]
  },
  {
   "cell_type": "code",
   "execution_count": 9,
   "id": "43663a28",
   "metadata": {},
   "outputs": [
    {
     "data": {
      "text/plain": [
       "dtype: str\n",
       "Rows: 2055\n",
       "['4a3a1ae2748f12f7ab921a47d6d79abf82e3e325', 'e4f9cfac3c236a5f3680dba4beb094b2c277b6ac', 'd6eb3834db466dad7885fcb7068ba3e2da7ebb60', '81f5e4f9d86d4df88750dbf81bc17addc6ef3c4e', '763db23a8347f8103a8c99905b34fe24f85704ca', '932ad377a3bb70d0d32969f4941f0268d560afc9', '46e4998584dc59acb5be224f3c9c481ec6c6283e', '3cf1ee1f976f7a6e2908387c1b2ba48b1227c439', '0a50c4dcfdf8bc0a6b1bb01339a4f481385139a9', 'b3624da347cbe301bcd336b94e748a4932a1daac', 'cd606e09822bbb00a867db3739bc7e00bc0ca3fc', '2bde993131f6e845a00ccee7320cd2d6083038c5', '25c85accee5b305d4738948c1c75d132e664f8a4', '410bae5a457a88407f07370b65e2ee1c2614003d', '574c16866909a1bd77d52ee93835e157f10eaaae', '251873fe109daa232376e1f5f41fafc1ddd730d6', 'e6d2a452ae9ad5844e90af3c12622e15a9902f36', 'a61506e490781b9d12c46404e5b7cc7987168776', '0a30797785588bbf76b08340c4ea033870da099c', '0325c6f37767763065c82987e556e5ff61184149', '9d5d976251a616230670f51df5ed95451e6eec53', '5fa0e2c964dc57f8ff5fea88e7ec5f90a2973d8a', 'e9c89483094fdaba9fcbd11c7f3d46189840ea93', '054ef3fdf6c5bf88cd760c4c38d17480b338eee8', '0eecc0826501db429bc2a88f70159473bae08799', '967d7c87d01145cf1a09a12cc666c144ab456fb7', '6a65851bf8ef01591a49dad322d88060d4755ac1', '6cd1883ee5a6454c0e68209aafe07f1527d32536', '1421de1fcccf07c33e3a2200094f24d726430f56', '851d86c64ffb5e8a3ece3978b447d007c33f7c80', 'b39631a1f9650a925884bcc48e3e118b7e1cbf6e', 'b8c990f0c8a9682a5c53ee404aca9656ca0c2777', '833425388a976b44edabacf1946ae6ba3de3a516', '0554bed0fe36043f07b71846acb07f3a8e199e82', '45cfaa48e5ace609c56d91c94181737bed3940db', '0e73f0084eda36fa56e3de1232bf5d119c588c04', '7bb4a0f728f139426ab1986f015726ffe41e56f1', 'aac7c62a6f9ac82b1cbda612f945b187b60b04b4', 'db46a131a1019e838770c43f9df457c8f393d820', '785ed8561a68a5f732c7768e8a9d0964a8ba10f8', '3e15cbdb0870c6764579770dc0d1d22f1354a03a', '57e561c783a411b338b510bd7b4222d72c5ebfa2', 'df078fb18c7ac995bc116e9808fd28111666b9a7', 'bda99861c4863507cb5d01536b5cddc1d7f7c10e', '5a46e43fa2d32e58b58b192cbd53979d904cadbf', '18de721602c0fbecf0980c870c7e23aa13382f61', '74b23283d92e4baef58b4c5f2953b110004e87a4', '2ffeb512064786b6fed74ae3fa4cdf5c1fa9716a', 'd7f7f1b743b9d74786e3ba5b24ba6791b4ce50f6', 'c04a7eca1ad7fb74bd93d3477f4e9590182cb39a', '5be45f2fc840fe49e47503598446fa55b130caf0', '0d8faa41ff260fc2883147523ff38611df8b4445', '142d33d0ec3630a5e4e0e38036c171335370005c', 'ee91bcebe413129a147dbddbea6ca1bf18938f85', '35df47010c63a852fda79701ca41e7e4963f8c93', '0b42e35b2faedb2f23468f2053a3ee0027c10131', '52d96ff9c61235e23df7c8426ef4c7bb0061136c', 'e4bd1fe1f4af2f4dbb0242fe6c11e3b0fb20b7ac', 'ea6095e8cc0346eeae90b3c26ace52055b76aec5', '4dea875c32b6d90800ac0f764d2b3bc1b2983793', 'a24373b6de50ee2968f352ec0ac362a8d4409a6e', 'adbeac69706f72a48445fce307c7ca447ba3bbda', '7fc39629f5accc478a19c5289592e3642cf6d8d7', 'daf17866b81b941f15dd47fe9a9037705f8b789e', '2d994bdb4a28e4d7fcf3d8e5d1f0a269bc9a4de5', '89f25e0b43a44e2ee186464b114550939c8b4c96', '816cc2f9fc193db7b2910c10cd97ccacba49f1b7', '1d817d92aacd9dcf91cdd5027f0d295159596fcb', 'b86aef948193db6de1632712444d4519b310c8a2', '7e148d6908664948a1593e247680d22d0b06ae7a', '37a2576efb1d12b4d3fae70d3286038aa2d36669', 'f5a5687bc59488273708a5a951ce00aefcfd4c19', 'cea5d4345acd83e823e7e02839521455045c29b6', 'aa142b457428d65ab618542c15039b73017ce390', 'f6ee166f91e9bcaf4ef63148764843f2648a766c', 'af367e6215ba04f1487fb18b9dcba4a2aad33d64', '49f63f24743ba2c251fe7a3bd3a2a8a501e34cec', 'e7f5dccf1a3c69e82e442eca5e2f72f3ca624984', '40c1f577f9cd9d71d3d7f8998f229624f2da06a5', '6b36e7d41f7f1d146b499671f1918332760ca348', '792e4383ab05a5a773e8f5e9b83b477323126296', '8508f9ffa04fd2647cf4ed2636a2a3240f6a8daf', 'd02df37da565529115b3c519b10ab9e43810a684', 'cebb9b00eceaa17141515fe5e9b32fc70c3e546d', 'b30b98256090d709a11cbe6fa1e14eee6269dda3', '62bf0a18d20aeedeba1ea7c237405926548fb580', '687b79cffcbc13475de4ba0415bd81cb13e807c9', 'f4f925add608d3f12fe5f1f5400de45c49c079ef', '80c4b5d40a58d860855d7da4e6f718582f1ad3d4', 'a49644bcc05b0f5e7d48b4b00cd61910d3d0a6c4', '65633f25c118d923afda579babb5468ac09eb233', 'b11e6a84c54160e61efdb9cb5a572b419aa33ae9', '6f7bda2f8d13f712c6f61d932df6e4dd1315c8cb', '5f3376a3def1c268f21b83716ee9b8725aac1975', 'b06689f950a27432762735e241d1eab6516de649', '989f68647c627c59de6a54d41ee43be027254b8f', '97aa254a456c35c351e414a526b8cf5e85a41805', 'eac355b50aca9824ea8b698833711ee517d8d954', '8045c7f273639fdb515a1abbe5403aa64edce58e', '8db5f290147996f190a9c94485a0f37ba8f81c99', ... ]"
      ]
     },
     "execution_count": 9,
     "metadata": {},
     "output_type": "execute_result"
    }
   ],
   "source": [
    "Foo['user_id'].unique()"
   ]
  },
  {
   "cell_type": "code",
   "execution_count": 10,
   "id": "72ad9eb3",
   "metadata": {},
   "outputs": [],
   "source": [
    "Taylor = song_data[song_data['artist'] == 'Taylor Swift']"
   ]
  },
  {
   "cell_type": "code",
   "execution_count": 11,
   "id": "2f277cd5",
   "metadata": {},
   "outputs": [
    {
     "data": {
      "text/plain": [
       "dtype: str\n",
       "Rows: 3246\n",
       "['62c4bf887b7b1e5cf6ab62723481099c7f98377e', '92337c69d4ff1c13f5c9ad4e9c62a0654be9d230', 'e8813fe73c90d69b4f744251c68fce896ec2aede', '9232eeaa942af2ff3f3e2b90f996d3ad003e4b31', '56df8017a3210df0806714dd7ca43755b33b27a1', '1d78cca2d2fa9c19bc9f73e721136fbebb2d8ed5', '9e02b9e44467fbe8fdca3c5724cba7cb34d55a1b', '9a660cd0e498aeb08cd6d8b62cddcc6762c541c6', '523dbe38910336a4d523f58a408d43f3576bd7e9', 'b8a378e53e8510ca8bde97a68ce3874417505e7d', '210f3a581078971a7b4ae481ab8411a4f7837cee', '2510038527855bd611844cce31164f71c42ce3ad', 'ced33ee66eac5185e552941a0d987142f8ea8485', '461aca64a5aa057a68b6ca6421180b7b6a8a8638', 'e4f0bcd8e3c158d4e57b5921bb1bf3dd4c6d8474', '871d004a886a45317e425b5516ba3391b50e2443', '81dc734820377becec3d1dfddb29e17e5bc21be4', 'fd6b1d8a5bbc14051ec16746ca758ac45438e77d', 'b7317918075a3ae4d13d6979480ad31ecfea8d3e', '1857a65f676b708a693fdf795508e7e3aee5ba5f', '423388b045af540a89b3eff1e1e6050a870ffc6f', 'bf2e572ca9d5e8fa1cf4e7b37fca61b26775c42c', '68b88145be590317386fd49bb20fad0f2205c81b', '1bbf10a2dd17ea484ff2e6e06b8be4ac86bec84e', 'd8657c58b0b1d901e4f480428a7a008b17ec4d49', '976dcc5e615b0b3a9a9efb1e44c26281ee1363c3', 'b17e086192c540907480c4140a3ada8036a33d1d', 'd0c3cccd0d33a4f1363532f1f92fac73672f5e38', 'c4e80d31c8368746717f9467a1c2b2edb59bdc1d', '89d4bb93024199ce661f25258a8f6653338abc3b', 'a3c46c746a77fa94296048fe97ae16f95925b933', '48fca5e60731517e9b1d8022835c24df196f52a9', '2a1deb9dff80739175fbd8120275747690ea7aa2', 'c23149dd540ec769543c4ab914c274d4fbe1ed4a', '11ec76b4b688e591ea3c90580d072833a7437496', '83a101603c2df35126d4c9d6ee273a075f9e6de9', 'f52bc501e1996190fcb93361ee3ebfb0174fa6bd', 'e6d2a452ae9ad5844e90af3c12622e15a9902f36', 'aa1be33fa05780d9b548226309cf67075148295c', '65576abc03c18937157fa246ecef62e83e3e31d6', '593863fbd75a32d68126747119506020dd37c6f0', '1a631466b7f1f1d056ce0855d3399eb422386cd9', '9698a7f0e7445fe2c64ce4a4d346fb40dd2f8539', 'b3058faed42e95204ed00674a08e8f549ca7876f', 'e0234bd2dd0749784e1bb3a042be2bc6f8c19e62', '7f99cb185a4713a38b5dedea752874a9f7273b2e', 'ca128eaa0ca58cbe2c987ab9ab6b74572e37b3b9', 'df82cea1e90665e2fd731ba83bb7813e79338c93', '3a36fdd12134feab53d620b7117bcec14642efb2', '118374302f3fe864ca8cd30fa786481d338b9b77', '898028336f7ae9e3570226b9e2853eb60870116f', 'bbfb3dfd51bff4821607d15c1ccb037c223b1679', 'cf271d0dfa82e201413c616f51c2fe8654dc6041', '5a5ceff5f3a87a798062daaeb18fd81a0d9dd861', '21b8741c036d2a88e0e6c3c8d028a65416754ed7', 'b6b73a21c54b82662f1f1f10bb2b2387cf00bd5f', '57ee47c22bc5d3133c7d489b6c377fb66fdf198f', '944a07e25ee13e9f1e6ce748d65ba1b97af67bfd', '8a65d379f3bcc09dff57c8a3232751a670e06e78', '6d814a535476a85a1111bc7ab90d610b59ca2515', '7520f963725769b36259eeadcb96ce7a1492d825', '75461d4d60023bc0f01ca93437c679713addad93', 'c5ef0323b1ea6260769adb46cbfe00344715c1b9', '9651938b9863fc575ab60d37f5ca26179adf9fb4', '0f952539908a265f72fcbbf759c82af1bbfc24ba', '1e988757336001e8b051bad23c04387dfc728fee', '3b17ec726f180e35a1af178de070ac6dce651706', '49ca4adb00dcc36f4475a16255f7b597a0ef9ece', '0eb6a726b7d85ed957be80e50c0e36980e4ebd85', '9a4d900b109e81b318aa7dad10ba71ac03882d17', 'b16d10d92830893fc20213080f9436f6e835ca20', '19827977ff82657f57e1d44ee71ec02270467f7d', '57e561c783a411b338b510bd7b4222d72c5ebfa2', 'db6d4d3d53f98ca5f622c47fd4ae1d4c4bced781', 'b2325a67c4b1990426eb90aebcdd733c0e6fba61', '6ce9789dff517d19de73d3e8c646b7f035699e1d', 'a2619be2ba936545dc9c61cdd9e9434e8c087b5a', '0b8a66f97e1429c91e079bf66d30298b6b0a5a94', '966d444aa9884f80ac561897760ab409c89d20c3', 'eb5a98eb9cfa1bc480ed4bcc7d82287fedd54918', '34098db7ff895788407dddffd3d157db06af147f', 'a484527ac9821b0a959b1004de3e6b93dabd02c4', '06b70e5f183a6d157c5b470801a2fc2183b33487', 'a2e4d2a315a9307c4b71b14186a426c45563aead', 'fef890875641366a47080f0b6f833bc21e90955e', 'ca9f2ef248a8b0a3613e70537ed0b2784754c84c', '721291683bc1a0186ea38175ee59ab8a5fda55b7', 'defa03d1ce6065a3b729df7897e77205a52a2401', '4cb034cb46aa7c6f802f5f31dfa8196a15018551', '861f70054ce11426a00b843a7bd40e9c26b27da1', '25e3046d23b46c9e2a5e815169e7ddc35d1b0ad8', '886e6601b4a0f192d401a9b65e63885fea29f6f5', '35df47010c63a852fda79701ca41e7e4963f8c93', 'ec550ea6d6ccdb9dc2ac5d347e80888315c257ef', '26fbe5f2339f224430ec2c41e1622f41a7527552', '6314e8dc6efcbf0b73879cef75e5d8eb9380092d', 'c68d59ba24af0df3f2c0332c9b8927fb68149b77', 'f8ac015dfe7d9fb141d4d729102b203f11a1b22c', '1bee8c2cfe7a704205472d3de5da60fd364ac481', '4cee126465d1bb6ef2fb4a5d0cc0287881215294', ... ]"
      ]
     },
     "execution_count": 11,
     "metadata": {},
     "output_type": "execute_result"
    }
   ],
   "source": [
    "Taylor['user_id'].unique()"
   ]
  },
  {
   "cell_type": "code",
   "execution_count": 12,
   "id": "ed7c7ed8",
   "metadata": {},
   "outputs": [],
   "source": [
    "Gaga = song_data[song_data['artist'] == 'Lady GaGa']"
   ]
  },
  {
   "cell_type": "code",
   "execution_count": 13,
   "id": "03816f32",
   "metadata": {},
   "outputs": [
    {
     "data": {
      "text/plain": [
       "dtype: str\n",
       "Rows: 2928\n",
       "['fe85b96ba1983219b296f6b4869dd29eb2b72ff9', 'e8813fe73c90d69b4f744251c68fce896ec2aede', '3a829c9fa2a7b69f4067260200d35cc1af84020d', '9232eeaa942af2ff3f3e2b90f996d3ad003e4b31', '1a8e700876bdab8669019bee20d193103f76ab92', '85fa923067c8c77b348323ef0e83ce74ec0c0cc3', '423388b045af540a89b3eff1e1e6050a870ffc6f', 'a0001680c2487cf92ac9345bd707f414fd96a3a1', '58ea7b11bae17385192c890b35904fd7102acd7e', 'ad9507f8752c3e4f6845748e83caffdfa4330c6c', '18aa240058a94b66d15a35722577e4081cb33e87', 'bf756e7786ae17147fb2acc684f6ad13de8112df', 'adb3f4541b3c13ba99629c0bcf7d15c76c6d8739', '17d74167069086652181dbfc8e79a77da55b48d0', '74d9c0d397f89393af6c3a2eff986d335bbd5588', '587acb83a3fd81273dfcba4dcdb57bf2d0676cdf', '923cbd741c13c71fe4cf501eb23ee37fe2289f8f', 'a3c46c746a77fa94296048fe97ae16f95925b933', '97c2010569ebd85d41f071572a50f7af0789f8ab', 'c6efa2a74985604be7138b20e0a4df51fb7f96bf', 'd7a47b0b8d5e18e7d39893988a7369ec0e9a659c', '0325c6f37767763065c82987e556e5ff61184149', '7eb042bc442096bd65e4642b8e458463dec74bc9', '51ecaaa7a2de04460f877ee77840bf5818cdf7b4', 'e64cf25bf64967a5735040dc3bf34866bb6aabf9', '9a4204b03508ae14f78b8f25bfc9133c0295e586', '9f34827289820bb4c47d2beea21aac6b552d49d1', '4ea23275f47fc0ecd0516dce06d33900ff8c864e', '8ee7abf91d97f15ef5d9f4dafab9d54d02f4907b', 'df82cea1e90665e2fd731ba83bb7813e79338c93', '6a65851bf8ef01591a49dad322d88060d4755ac1', 'bbfb3dfd51bff4821607d15c1ccb037c223b1679', '40e1c7170f652bc5b29dac49137bc7dab7396758', '17edb47f4bdd3fe7a8012084d7e1323b5ab7c03f', '5f7510b4d94a9ad8ef71903388b3ff63a1439040', '1d9b2d1b89421218d0ddebba3f1ff9cd2972620f', 'a74df8876e89ad769e49189c1542036a2726c0dd', '5ff35c949c294ff9370a80130f8fe04e2b104eee', '851d86c64ffb5e8a3ece3978b447d007c33f7c80', '8d364ebc05bc0f0ff1c5487937db656681a9f873', 'cef05dbc5e3b212b08458feabe6d4f35988b35db', 'c5f40b021c8c4c3964c042880c1c4304a1a6e2d1', '0f952539908a265f72fcbbf759c82af1bbfc24ba', '682512a5f1d70ffc5af720a6ce9d9d3054cadccd', '3a8b6f69747be7801e9e96657810fc42a5745386', 'b16d10d92830893fc20213080f9436f6e835ca20', 'e93e3bd6f150fd86f237b599e041888984277818', '787774f06f28eab30c20162e767d29a417604a62', '9f0cef3b9b49e608b207702884a09b9c14eda853', 'c9e4a53d3232e55aaea81da6ec44c68557d8599d', 'eb5a98eb9cfa1bc480ed4bcc7d82287fedd54918', 'a484527ac9821b0a959b1004de3e6b93dabd02c4', 'd9c75d9fc8ee5e7e5f117d53728b4b5fdd9d7f15', '4b68dc4744ed1d69a3dd8ac322e7b035c8636141', '8677a9fcdca75ed5bb307e23394ec2959c3c4dd9', 'ffe2a7e7b6689071f8c699d944b52ce590ae4636', '4364b4dace27e9f2e921c90268bae1efe4a74303', '9e82819f62c07de996987261002669ca59bf72eb', '949f40dda0e474c59b790ac2f54b41f30ed20797', '59aab2d8211ea6e17ad51e36504d5e5d62b83105', '2a3edd5b0a6cd4acd3f558adbad7febf1812c611', 'bd4aad16e341dfa23fc3b9f960e84d003bb0e686', '26fbe5f2339f224430ec2c41e1622f41a7527552', '6314e8dc6efcbf0b73879cef75e5d8eb9380092d', 'cb695ff6ac8af1e253e16703aa6c4cf1f5e8acb4', '7e00026e737cbc7b244df6aec633406965ecaef6', 'd3ee1554167b5d7d1b6e05088693eb158f00a386', '6b601de39b5b0570847e1af4d3206cbe3330aacc', 'd2411f55cd8efa8c898cd0d84f6b56de7f05e5ea', '8e2d6bda02f4fec360b15ffaf65c79f0736ec621', 'c2deb10bb791a67c430a62fc5007d9e67c0b492a', '056778d1c83b951ec0b0b5fbffb36376b295d9b8', '62d75235e870b6850b96bb92efc5c3699469d83f', '4c01724dcc0c9158502e9ae462f473cfc353a5ee', 'bd3e7adf66a9611b4ab539d3411859560de3f97c', '8a9d7e772c371f11fa5fea0e6a52ba4c87af4860', '897d2f0d5adeea030ea688083f9e498c5fbee577', 'bfa8ecd05a13d649c22c96baa0f47c2b73841e98', '1c10d9a357cebc5757df67e50aade79456126756', 'c9652563d5bf048ea108f1e597c42b08aa3e96bf', '9e74bb095e56b67a044805cd7f4359c6bf3ba826', '8223a05803a087967c100a10c03088410dc36e3a', '37a2576efb1d12b4d3fae70d3286038aa2d36669', '21cd71ffebf571e8501ff2509aa46319b15a80a6', '2e85104774968aa5c4a37e60a86dcded30549115', 'c189aea1a1451a98831e1e37b2689c07eaf2ec26', 'd6dafddfd316eff2ffe9726585218c2f45d7eb4d', 'aa142b457428d65ab618542c15039b73017ce390', '0471ca2641936cd534e1f40b8b73e1e386a3762a', '66f9b472ffdb9698fdfa0a8a7d06639bd6bc1487', 'eac0b7cace5be71a7ae59da79a588f6998992a58', 'fac9f4db063a09f75e52eddfe50a0e0982383d72', '272ad1869a1b17a23501392ec81724b477de5bfa', '81c2565d2376d23436a9ad336658052446a2223a', '0099579e582ba2274999dcc4a08ec0f83e38a275', 'a3dddf38098749475055f787b52ca5e653414aa8', '7031423ce747cd7f17fc3b887b41dc75e8535170', 'fad2c73184c69f2c5ca04895949e5658efe4a231', '4ed9ec433a10d35a1fdb617dd74f44db37761b4a', '4fa0d1398ce858a9575a6ddcaf2b8d4f6be51a41', ... ]"
      ]
     },
     "execution_count": 13,
     "metadata": {},
     "output_type": "execute_result"
    }
   ],
   "source": [
    "Gaga['user_id'].unique()"
   ]
  },
  {
   "cell_type": "markdown",
   "id": "a815a239",
   "metadata": {},
   "source": [
    "# Question -2"
   ]
  },
  {
   "cell_type": "code",
   "execution_count": 19,
   "id": "0aa204c3",
   "metadata": {},
   "outputs": [],
   "source": [
    "song_artist_listen_count = song_data.groupby('artist', operations={'total_count': tc.aggregate.SUM('listen_count')})"
   ]
  },
  {
   "cell_type": "code",
   "execution_count": 22,
   "id": "504bfd7c",
   "metadata": {},
   "outputs": [
    {
     "data": {
      "text/html": [
       "<div style=\"max-height:1000px;max-width:1500px;overflow:auto;\"><table frame=\"box\" rules=\"cols\">\n",
       "    <tr>\n",
       "        <th style=\"padding-left: 1em; padding-right: 1em; text-align: center\">artist</th>\n",
       "        <th style=\"padding-left: 1em; padding-right: 1em; text-align: center\">total_count</th>\n",
       "    </tr>\n",
       "    <tr>\n",
       "        <td style=\"padding-left: 1em; padding-right: 1em; text-align: center; vertical-align: top\">Kings Of Leon</td>\n",
       "        <td style=\"padding-left: 1em; padding-right: 1em; text-align: center; vertical-align: top\">43218</td>\n",
       "    </tr>\n",
       "    <tr>\n",
       "        <td style=\"padding-left: 1em; padding-right: 1em; text-align: center; vertical-align: top\">Dwight Yoakam</td>\n",
       "        <td style=\"padding-left: 1em; padding-right: 1em; text-align: center; vertical-align: top\">40619</td>\n",
       "    </tr>\n",
       "    <tr>\n",
       "        <td style=\"padding-left: 1em; padding-right: 1em; text-align: center; vertical-align: top\">Björk</td>\n",
       "        <td style=\"padding-left: 1em; padding-right: 1em; text-align: center; vertical-align: top\">38889</td>\n",
       "    </tr>\n",
       "    <tr>\n",
       "        <td style=\"padding-left: 1em; padding-right: 1em; text-align: center; vertical-align: top\">Coldplay</td>\n",
       "        <td style=\"padding-left: 1em; padding-right: 1em; text-align: center; vertical-align: top\">35362</td>\n",
       "    </tr>\n",
       "    <tr>\n",
       "        <td style=\"padding-left: 1em; padding-right: 1em; text-align: center; vertical-align: top\">Florence + The Machine</td>\n",
       "        <td style=\"padding-left: 1em; padding-right: 1em; text-align: center; vertical-align: top\">33387</td>\n",
       "    </tr>\n",
       "    <tr>\n",
       "        <td style=\"padding-left: 1em; padding-right: 1em; text-align: center; vertical-align: top\">Justin Bieber</td>\n",
       "        <td style=\"padding-left: 1em; padding-right: 1em; text-align: center; vertical-align: top\">29715</td>\n",
       "    </tr>\n",
       "    <tr>\n",
       "        <td style=\"padding-left: 1em; padding-right: 1em; text-align: center; vertical-align: top\">Alliance Ethnik</td>\n",
       "        <td style=\"padding-left: 1em; padding-right: 1em; text-align: center; vertical-align: top\">26689</td>\n",
       "    </tr>\n",
       "    <tr>\n",
       "        <td style=\"padding-left: 1em; padding-right: 1em; text-align: center; vertical-align: top\">OneRepublic</td>\n",
       "        <td style=\"padding-left: 1em; padding-right: 1em; text-align: center; vertical-align: top\">25754</td>\n",
       "    </tr>\n",
       "    <tr>\n",
       "        <td style=\"padding-left: 1em; padding-right: 1em; text-align: center; vertical-align: top\">Train</td>\n",
       "        <td style=\"padding-left: 1em; padding-right: 1em; text-align: center; vertical-align: top\">25402</td>\n",
       "    </tr>\n",
       "    <tr>\n",
       "        <td style=\"padding-left: 1em; padding-right: 1em; text-align: center; vertical-align: top\">The Black Keys</td>\n",
       "        <td style=\"padding-left: 1em; padding-right: 1em; text-align: center; vertical-align: top\">22184</td>\n",
       "    </tr>\n",
       "</table>\n",
       "[3375 rows x 2 columns]<br/>Note: Only the head of the SFrame is printed.<br/>You can use print_rows(num_rows=m, num_columns=n) to print more rows and columns.\n",
       "</div>"
      ],
      "text/plain": [
       "Columns:\n",
       "\tartist\tstr\n",
       "\ttotal_count\tint\n",
       "\n",
       "Rows: 3375\n",
       "\n",
       "Data:\n",
       "+------------------------+-------------+\n",
       "|         artist         | total_count |\n",
       "+------------------------+-------------+\n",
       "|     Kings Of Leon      |    43218    |\n",
       "|     Dwight Yoakam      |    40619    |\n",
       "|         Björk          |    38889    |\n",
       "|        Coldplay        |    35362    |\n",
       "| Florence + The Machine |    33387    |\n",
       "|     Justin Bieber      |    29715    |\n",
       "|    Alliance Ethnik     |    26689    |\n",
       "|      OneRepublic       |    25754    |\n",
       "|         Train          |    25402    |\n",
       "|     The Black Keys     |    22184    |\n",
       "+------------------------+-------------+\n",
       "[3375 rows x 2 columns]\n",
       "Note: Only the head of the SFrame is printed.\n",
       "You can use print_rows(num_rows=m, num_columns=n) to print more rows and columns."
      ]
     },
     "execution_count": 22,
     "metadata": {},
     "output_type": "execute_result"
    }
   ],
   "source": [
    "song_artist_listen_count.sort('total_count', ascending=False)"
   ]
  },
  {
   "cell_type": "code",
   "execution_count": 23,
   "id": "3cafd248",
   "metadata": {},
   "outputs": [
    {
     "data": {
      "text/html": [
       "<div style=\"max-height:1000px;max-width:1500px;overflow:auto;\"><table frame=\"box\" rules=\"cols\">\n",
       "    <tr>\n",
       "        <th style=\"padding-left: 1em; padding-right: 1em; text-align: center\">artist</th>\n",
       "        <th style=\"padding-left: 1em; padding-right: 1em; text-align: center\">total_count</th>\n",
       "    </tr>\n",
       "    <tr>\n",
       "        <td style=\"padding-left: 1em; padding-right: 1em; text-align: center; vertical-align: top\">William Tabbert</td>\n",
       "        <td style=\"padding-left: 1em; padding-right: 1em; text-align: center; vertical-align: top\">14</td>\n",
       "    </tr>\n",
       "    <tr>\n",
       "        <td style=\"padding-left: 1em; padding-right: 1em; text-align: center; vertical-align: top\">Reel Feelings</td>\n",
       "        <td style=\"padding-left: 1em; padding-right: 1em; text-align: center; vertical-align: top\">24</td>\n",
       "    </tr>\n",
       "    <tr>\n",
       "        <td style=\"padding-left: 1em; padding-right: 1em; text-align: center; vertical-align: top\">Beyoncé feat. Bun B and<br>Slim Thug ...</td>\n",
       "        <td style=\"padding-left: 1em; padding-right: 1em; text-align: center; vertical-align: top\">26</td>\n",
       "    </tr>\n",
       "    <tr>\n",
       "        <td style=\"padding-left: 1em; padding-right: 1em; text-align: center; vertical-align: top\">Diplo</td>\n",
       "        <td style=\"padding-left: 1em; padding-right: 1em; text-align: center; vertical-align: top\">30</td>\n",
       "    </tr>\n",
       "    <tr>\n",
       "        <td style=\"padding-left: 1em; padding-right: 1em; text-align: center; vertical-align: top\">Boggle Karaoke</td>\n",
       "        <td style=\"padding-left: 1em; padding-right: 1em; text-align: center; vertical-align: top\">30</td>\n",
       "    </tr>\n",
       "    <tr>\n",
       "        <td style=\"padding-left: 1em; padding-right: 1em; text-align: center; vertical-align: top\">harvey summers</td>\n",
       "        <td style=\"padding-left: 1em; padding-right: 1em; text-align: center; vertical-align: top\">31</td>\n",
       "    </tr>\n",
       "    <tr>\n",
       "        <td style=\"padding-left: 1em; padding-right: 1em; text-align: center; vertical-align: top\">Nâdiya</td>\n",
       "        <td style=\"padding-left: 1em; padding-right: 1em; text-align: center; vertical-align: top\">36</td>\n",
       "    </tr>\n",
       "    <tr>\n",
       "        <td style=\"padding-left: 1em; padding-right: 1em; text-align: center; vertical-align: top\">Kanye West / Talib Kweli<br>/ Q-Tip / Common / ...</td>\n",
       "        <td style=\"padding-left: 1em; padding-right: 1em; text-align: center; vertical-align: top\">38</td>\n",
       "    </tr>\n",
       "    <tr>\n",
       "        <td style=\"padding-left: 1em; padding-right: 1em; text-align: center; vertical-align: top\">Jody Bernal</td>\n",
       "        <td style=\"padding-left: 1em; padding-right: 1em; text-align: center; vertical-align: top\">38</td>\n",
       "    </tr>\n",
       "    <tr>\n",
       "        <td style=\"padding-left: 1em; padding-right: 1em; text-align: center; vertical-align: top\">Aneta Langerova</td>\n",
       "        <td style=\"padding-left: 1em; padding-right: 1em; text-align: center; vertical-align: top\">38</td>\n",
       "    </tr>\n",
       "</table>\n",
       "[3375 rows x 2 columns]<br/>Note: Only the head of the SFrame is printed.<br/>You can use print_rows(num_rows=m, num_columns=n) to print more rows and columns.\n",
       "</div>"
      ],
      "text/plain": [
       "Columns:\n",
       "\tartist\tstr\n",
       "\ttotal_count\tint\n",
       "\n",
       "Rows: 3375\n",
       "\n",
       "Data:\n",
       "+-------------------------------+-------------+\n",
       "|             artist            | total_count |\n",
       "+-------------------------------+-------------+\n",
       "|        William Tabbert        |      14     |\n",
       "|         Reel Feelings         |      24     |\n",
       "| Beyoncé feat. Bun B and Sl... |      26     |\n",
       "|             Diplo             |      30     |\n",
       "|         Boggle Karaoke        |      30     |\n",
       "|         harvey summers        |      31     |\n",
       "|             Nâdiya            |      36     |\n",
       "| Kanye West / Talib Kweli /... |      38     |\n",
       "|          Jody Bernal          |      38     |\n",
       "|        Aneta Langerova        |      38     |\n",
       "+-------------------------------+-------------+\n",
       "[3375 rows x 2 columns]\n",
       "Note: Only the head of the SFrame is printed.\n",
       "You can use print_rows(num_rows=m, num_columns=n) to print more rows and columns."
      ]
     },
     "execution_count": 23,
     "metadata": {},
     "output_type": "execute_result"
    }
   ],
   "source": [
    "song_artist_listen_count.sort('total_count')"
   ]
  },
  {
   "cell_type": "markdown",
   "id": "dae66c4e",
   "metadata": {},
   "source": [
    "# Question -3"
   ]
  },
  {
   "cell_type": "code",
   "execution_count": null,
   "id": "2059facb",
   "metadata": {},
   "outputs": [],
   "source": []
  }
 ],
 "metadata": {
  "kernelspec": {
   "display_name": "Python 3",
   "language": "python",
   "name": "python3"
  },
  "language_info": {
   "codemirror_mode": {
    "name": "ipython",
    "version": 3
   },
   "file_extension": ".py",
   "mimetype": "text/x-python",
   "name": "python",
   "nbconvert_exporter": "python",
   "pygments_lexer": "ipython3",
   "version": "3.6.9"
  }
 },
 "nbformat": 4,
 "nbformat_minor": 5
}
