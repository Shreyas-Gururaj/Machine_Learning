{
 "cells": [
  {
   "cell_type": "code",
   "execution_count": 1,
   "metadata": {},
   "outputs": [
    {
     "name": "stderr",
     "output_type": "stream",
     "text": [
      "C:\\Users\\shrey\\Anaconda3\\lib\\site-packages\\statsmodels\\tools\\_testing.py:19: FutureWarning: pandas.util.testing is deprecated. Use the functions in the public API at pandas.testing instead.\n",
      "  import pandas.util.testing as tm\n"
     ]
    }
   ],
   "source": [
    "import pandas as pd\n",
    "import matplotlib.pyplot as plt\n",
    "%matplotlib inline\n",
    "import numpy as np\n",
    "import seaborn as sn"
   ]
  },
  {
   "cell_type": "code",
   "execution_count": 2,
   "metadata": {},
   "outputs": [
    {
     "name": "stdout",
     "output_type": "stream",
     "text": [
      "Requirement already satisfied: nltk in c:\\users\\shrey\\anaconda3\\lib\\site-packages (3.4.5)\n",
      "Requirement already satisfied: six in c:\\users\\shrey\\appdata\\roaming\\python\\python37\\site-packages (from nltk) (1.15.0)\n",
      "Requirement already satisfied: wordcloud in c:\\users\\shrey\\anaconda3\\lib\\site-packages (1.8.1)\n",
      "Requirement already satisfied: numpy>=1.6.1 in c:\\users\\shrey\\anaconda3\\lib\\site-packages (from wordcloud) (1.19.5)\n",
      "Requirement already satisfied: pillow in c:\\users\\shrey\\anaconda3\\lib\\site-packages (from wordcloud) (8.1.0)\n",
      "Requirement already satisfied: matplotlib in c:\\users\\shrey\\anaconda3\\lib\\site-packages (from wordcloud) (3.3.4)\n",
      "Requirement already satisfied: cycler>=0.10 in c:\\users\\shrey\\anaconda3\\lib\\site-packages (from matplotlib->wordcloud) (0.10.0)\n",
      "Requirement already satisfied: pyparsing!=2.0.4,!=2.1.2,!=2.1.6,>=2.0.3 in c:\\users\\shrey\\anaconda3\\lib\\site-packages (from matplotlib->wordcloud) (2.4.2)\n",
      "Requirement already satisfied: kiwisolver>=1.0.1 in c:\\users\\shrey\\anaconda3\\lib\\site-packages (from matplotlib->wordcloud) (1.1.0)\n",
      "Requirement already satisfied: python-dateutil>=2.1 in c:\\users\\shrey\\appdata\\roaming\\python\\python37\\site-packages (from matplotlib->wordcloud) (2.8.1)\n",
      "Requirement already satisfied: six in c:\\users\\shrey\\appdata\\roaming\\python\\python37\\site-packages (from cycler>=0.10->matplotlib->wordcloud) (1.15.0)\n",
      "Requirement already satisfied: setuptools in c:\\users\\shrey\\anaconda3\\lib\\site-packages (from kiwisolver>=1.0.1->matplotlib->wordcloud) (41.4.0)\n"
     ]
    }
   ],
   "source": [
    "! pip install nltk\n",
    "! pip install wordcloud"
   ]
  },
  {
   "cell_type": "code",
   "execution_count": 3,
   "metadata": {},
   "outputs": [],
   "source": [
    "# NLP packages\n",
    "import nltk\n",
    "from nltk import word_tokenize\n",
    "from sklearn.feature_extraction.text import CountVectorizer\n",
    "from sklearn.feature_extraction.text import TfidfVectorizer\n",
    "from collections import Counter\n",
    "from wordcloud import WordCloud"
   ]
  },
  {
   "cell_type": "code",
   "execution_count": 4,
   "metadata": {},
   "outputs": [],
   "source": [
    "# Modeling packages\n",
    "from sklearn.model_selection import train_test_split\n",
    "from sklearn.linear_model import LogisticRegression\n",
    "from sklearn import metrics\n",
    "from sklearn.metrics import accuracy_score\n",
    "from sklearn.metrics import f1_score"
   ]
  },
  {
   "cell_type": "code",
   "execution_count": 5,
   "metadata": {},
   "outputs": [],
   "source": [
    "from pylab import rcParams\n",
    "import warnings\n",
    "warnings.filterwarnings(\"ignore\")\n",
    "rcParams['figure.figsize'] = 14, 6\n",
    "plt.style.use('ggplot')"
   ]
  },
  {
   "cell_type": "markdown",
   "metadata": {},
   "source": [
    "# Read the amazon baby product review data"
   ]
  },
  {
   "cell_type": "code",
   "execution_count": 6,
   "metadata": {},
   "outputs": [],
   "source": [
    "products = pd.read_csv(r\"amazon_baby.csv\")"
   ]
  },
  {
   "cell_type": "code",
   "execution_count": 7,
   "metadata": {},
   "outputs": [
    {
     "data": {
      "text/html": [
       "<div>\n",
       "<style scoped>\n",
       "    .dataframe tbody tr th:only-of-type {\n",
       "        vertical-align: middle;\n",
       "    }\n",
       "\n",
       "    .dataframe tbody tr th {\n",
       "        vertical-align: top;\n",
       "    }\n",
       "\n",
       "    .dataframe thead th {\n",
       "        text-align: right;\n",
       "    }\n",
       "</style>\n",
       "<table border=\"1\" class=\"dataframe\">\n",
       "  <thead>\n",
       "    <tr style=\"text-align: right;\">\n",
       "      <th></th>\n",
       "      <th>name</th>\n",
       "      <th>review</th>\n",
       "      <th>rating</th>\n",
       "    </tr>\n",
       "  </thead>\n",
       "  <tbody>\n",
       "    <tr>\n",
       "      <th>0</th>\n",
       "      <td>Planetwise Flannel Wipes</td>\n",
       "      <td>These flannel wipes are OK, but in my opinion ...</td>\n",
       "      <td>3</td>\n",
       "    </tr>\n",
       "    <tr>\n",
       "      <th>1</th>\n",
       "      <td>Planetwise Wipe Pouch</td>\n",
       "      <td>it came early and was not disappointed. i love...</td>\n",
       "      <td>5</td>\n",
       "    </tr>\n",
       "    <tr>\n",
       "      <th>2</th>\n",
       "      <td>Annas Dream Full Quilt with 2 Shams</td>\n",
       "      <td>Very soft and comfortable and warmer than it l...</td>\n",
       "      <td>5</td>\n",
       "    </tr>\n",
       "    <tr>\n",
       "      <th>3</th>\n",
       "      <td>Stop Pacifier Sucking without tears with Thumb...</td>\n",
       "      <td>This is a product well worth the purchase.  I ...</td>\n",
       "      <td>5</td>\n",
       "    </tr>\n",
       "    <tr>\n",
       "      <th>4</th>\n",
       "      <td>Stop Pacifier Sucking without tears with Thumb...</td>\n",
       "      <td>All of my kids have cried non-stop when I trie...</td>\n",
       "      <td>5</td>\n",
       "    </tr>\n",
       "  </tbody>\n",
       "</table>\n",
       "</div>"
      ],
      "text/plain": [
       "                                                name  \\\n",
       "0                           Planetwise Flannel Wipes   \n",
       "1                              Planetwise Wipe Pouch   \n",
       "2                Annas Dream Full Quilt with 2 Shams   \n",
       "3  Stop Pacifier Sucking without tears with Thumb...   \n",
       "4  Stop Pacifier Sucking without tears with Thumb...   \n",
       "\n",
       "                                              review  rating  \n",
       "0  These flannel wipes are OK, but in my opinion ...       3  \n",
       "1  it came early and was not disappointed. i love...       5  \n",
       "2  Very soft and comfortable and warmer than it l...       5  \n",
       "3  This is a product well worth the purchase.  I ...       5  \n",
       "4  All of my kids have cried non-stop when I trie...       5  "
      ]
     },
     "execution_count": 7,
     "metadata": {},
     "output_type": "execute_result"
    }
   ],
   "source": [
    "products.head()"
   ]
  },
  {
   "cell_type": "markdown",
   "metadata": {},
   "source": [
    "# Data Exploration"
   ]
  },
  {
   "cell_type": "code",
   "execution_count": 8,
   "metadata": {},
   "outputs": [],
   "source": [
    "products['count'] = np.zeros(len(products))"
   ]
  },
  {
   "cell_type": "code",
   "execution_count": 9,
   "metadata": {},
   "outputs": [],
   "source": [
    "products_grp = products.groupby(['name']).count().sort_values(['count'], ascending = False)"
   ]
  },
  {
   "cell_type": "code",
   "execution_count": 10,
   "metadata": {},
   "outputs": [
    {
     "data": {
      "text/html": [
       "<div>\n",
       "<style scoped>\n",
       "    .dataframe tbody tr th:only-of-type {\n",
       "        vertical-align: middle;\n",
       "    }\n",
       "\n",
       "    .dataframe tbody tr th {\n",
       "        vertical-align: top;\n",
       "    }\n",
       "\n",
       "    .dataframe thead th {\n",
       "        text-align: right;\n",
       "    }\n",
       "</style>\n",
       "<table border=\"1\" class=\"dataframe\">\n",
       "  <thead>\n",
       "    <tr style=\"text-align: right;\">\n",
       "      <th></th>\n",
       "      <th>review</th>\n",
       "      <th>rating</th>\n",
       "      <th>count</th>\n",
       "    </tr>\n",
       "    <tr>\n",
       "      <th>name</th>\n",
       "      <th></th>\n",
       "      <th></th>\n",
       "      <th></th>\n",
       "    </tr>\n",
       "  </thead>\n",
       "  <tbody>\n",
       "    <tr>\n",
       "      <th>Vulli Sophie the Giraffe Teether</th>\n",
       "      <td>779</td>\n",
       "      <td>785</td>\n",
       "      <td>785</td>\n",
       "    </tr>\n",
       "    <tr>\n",
       "      <th>Simple Wishes Hands-Free Breastpump Bra, Pink, XS-L</th>\n",
       "      <td>560</td>\n",
       "      <td>562</td>\n",
       "      <td>562</td>\n",
       "    </tr>\n",
       "    <tr>\n",
       "      <th>Infant Optics DXR-5 2.4 GHz Digital Video Baby Monitor with Night Vision</th>\n",
       "      <td>558</td>\n",
       "      <td>561</td>\n",
       "      <td>561</td>\n",
       "    </tr>\n",
       "    <tr>\n",
       "      <th>Baby Einstein Take Along Tunes</th>\n",
       "      <td>545</td>\n",
       "      <td>547</td>\n",
       "      <td>547</td>\n",
       "    </tr>\n",
       "    <tr>\n",
       "      <th>Cloud b Twilight Constellation Night Light, Turtle</th>\n",
       "      <td>517</td>\n",
       "      <td>520</td>\n",
       "      <td>520</td>\n",
       "    </tr>\n",
       "  </tbody>\n",
       "</table>\n",
       "</div>"
      ],
      "text/plain": [
       "                                                    review  rating  count\n",
       "name                                                                     \n",
       "Vulli Sophie the Giraffe Teether                       779     785    785\n",
       "Simple Wishes Hands-Free Breastpump Bra, Pink, ...     560     562    562\n",
       "Infant Optics DXR-5 2.4 GHz Digital Video Baby ...     558     561    561\n",
       "Baby Einstein Take Along Tunes                         545     547    547\n",
       "Cloud b Twilight Constellation Night Light, Turtle     517     520    520"
      ]
     },
     "execution_count": 10,
     "metadata": {},
     "output_type": "execute_result"
    }
   ],
   "source": [
    "products_grp.head()"
   ]
  },
  {
   "cell_type": "code",
   "execution_count": 11,
   "metadata": {},
   "outputs": [],
   "source": [
    "products['review'] = products['review'].astype(str)"
   ]
  },
  {
   "cell_type": "code",
   "execution_count": 12,
   "metadata": {},
   "outputs": [
    {
     "data": {
      "image/png": "[encoded data removed]",
      "text/plain": [
       "<Figure size 1008x432 with 1 Axes>"
      ]
     },
     "metadata": {},
     "output_type": "display_data"
    }
   ],
   "source": [
    "## Getting the number of words by splitting them by a space\n",
    "words_per_review = products.review.apply(lambda x: len(x.split(\" \")))\n",
    "words_per_review.hist(bins = 100)\n",
    "plt.xlabel('Review Length (words)')\n",
    "plt.ylabel('Frequency')\n",
    "plt.show()"
   ]
  },
  {
   "cell_type": "code",
   "execution_count": 13,
   "metadata": {},
   "outputs": [
    {
     "name": "stdout",
     "output_type": "stream",
     "text": [
      "Average words: 83.13072450975585\n",
      "Skewness: 4.71961248681518\n"
     ]
    }
   ],
   "source": [
    "print('Average words:', words_per_review.mean())\n",
    "print('Skewness:', words_per_review.skew())"
   ]
  },
  {
   "cell_type": "code",
   "execution_count": 14,
   "metadata": {},
   "outputs": [
    {
     "data": {
      "text/plain": [
       "5    58.330200\n",
       "4    18.092311\n",
       "3     9.142325\n",
       "1     8.272717\n",
       "2     6.162447\n",
       "Name: rating, dtype: float64"
      ]
     },
     "execution_count": 14,
     "metadata": {},
     "output_type": "execute_result"
    }
   ],
   "source": [
    "percent_val = 100 * products['rating'].value_counts()/len(products)\n",
    "percent_val"
   ]
  },
  {
   "cell_type": "code",
   "execution_count": 15,
   "metadata": {},
   "outputs": [
    {
     "data": {
      "image/png": "[encoded data removed]",
      "text/plain": [
       "<Figure size 1008x432 with 1 Axes>"
      ]
     },
     "metadata": {},
     "output_type": "display_data"
    }
   ],
   "source": [
    "percent_val.plot.bar()\n",
    "plt.show()"
   ]
  },
  {
   "cell_type": "markdown",
   "metadata": {},
   "source": [
    "# Text visualization using word clouds (word clouds )"
   ]
  },
  {
   "cell_type": "code",
   "execution_count": 16,
   "metadata": {},
   "outputs": [
    {
     "data": {
      "image/png": "[encoded data removed]",
      "text/plain": [
       "<Figure size 1008x432 with 1 Axes>"
      ]
     },
     "metadata": {},
     "output_type": "display_data"
    }
   ],
   "source": [
    "word_cloud_text = ''.join(products['review'])\n",
    "\n",
    "wordcloud = WordCloud(max_font_size=100, # Maximum font size for the largest word\n",
    "                      max_words=100, # The maximum number of words\n",
    "                      background_color=\"white\", # Background color for the word cloud image\n",
    "                      scale = 10, # Scaling between computation and drawing\n",
    "                      width=800, # Width of the canvas\n",
    "                      height=400 # Height of the canvas\n",
    "                     ).generate(word_cloud_text)\n",
    "\n",
    "plt.figure()\n",
    "plt.imshow(wordcloud, \n",
    "           interpolation=\"bilinear\") # to make the displayed image appear more smoothly\n",
    "plt.axis(\"off\")\n",
    "plt.show()"
   ]
  },
  {
   "cell_type": "markdown",
   "metadata": {},
   "source": [
    "# Examine the reivews for the most-reviewed product"
   ]
  },
  {
   "cell_type": "code",
   "execution_count": 17,
   "metadata": {},
   "outputs": [],
   "source": [
    "giraffe_reviews = products[products['name']=='Vulli Sophie the Giraffe Teether']"
   ]
  },
  {
   "cell_type": "code",
   "execution_count": 18,
   "metadata": {},
   "outputs": [
    {
     "data": {
      "text/html": [
       "<div>\n",
       "<style scoped>\n",
       "    .dataframe tbody tr th:only-of-type {\n",
       "        vertical-align: middle;\n",
       "    }\n",
       "\n",
       "    .dataframe tbody tr th {\n",
       "        vertical-align: top;\n",
       "    }\n",
       "\n",
       "    .dataframe thead th {\n",
       "        text-align: right;\n",
       "    }\n",
       "</style>\n",
       "<table border=\"1\" class=\"dataframe\">\n",
       "  <thead>\n",
       "    <tr style=\"text-align: right;\">\n",
       "      <th></th>\n",
       "      <th>name</th>\n",
       "      <th>review</th>\n",
       "      <th>rating</th>\n",
       "      <th>count</th>\n",
       "    </tr>\n",
       "  </thead>\n",
       "  <tbody>\n",
       "    <tr>\n",
       "      <th>34313</th>\n",
       "      <td>Vulli Sophie the Giraffe Teether</td>\n",
       "      <td>He likes chewing on all the parts especially t...</td>\n",
       "      <td>5</td>\n",
       "      <td>0.0</td>\n",
       "    </tr>\n",
       "    <tr>\n",
       "      <th>34314</th>\n",
       "      <td>Vulli Sophie the Giraffe Teether</td>\n",
       "      <td>My son loves this toy and fits great in the di...</td>\n",
       "      <td>5</td>\n",
       "      <td>0.0</td>\n",
       "    </tr>\n",
       "    <tr>\n",
       "      <th>34315</th>\n",
       "      <td>Vulli Sophie the Giraffe Teether</td>\n",
       "      <td>There really should be a large warning on the ...</td>\n",
       "      <td>1</td>\n",
       "      <td>0.0</td>\n",
       "    </tr>\n",
       "    <tr>\n",
       "      <th>34316</th>\n",
       "      <td>Vulli Sophie the Giraffe Teether</td>\n",
       "      <td>All the moms in my moms\\' group got Sophie for...</td>\n",
       "      <td>5</td>\n",
       "      <td>0.0</td>\n",
       "    </tr>\n",
       "    <tr>\n",
       "      <th>34317</th>\n",
       "      <td>Vulli Sophie the Giraffe Teether</td>\n",
       "      <td>I was a little skeptical on whether Sophie was...</td>\n",
       "      <td>5</td>\n",
       "      <td>0.0</td>\n",
       "    </tr>\n",
       "    <tr>\n",
       "      <th>...</th>\n",
       "      <td>...</td>\n",
       "      <td>...</td>\n",
       "      <td>...</td>\n",
       "      <td>...</td>\n",
       "    </tr>\n",
       "    <tr>\n",
       "      <th>159649</th>\n",
       "      <td>Vulli Sophie the Giraffe Teether</td>\n",
       "      <td>My baby loves her Sophie Chew Toy. She can che...</td>\n",
       "      <td>5</td>\n",
       "      <td>0.0</td>\n",
       "    </tr>\n",
       "    <tr>\n",
       "      <th>159650</th>\n",
       "      <td>Vulli Sophie the Giraffe Teether</td>\n",
       "      <td>Sophie the Giraffe was a big hit at the baby s...</td>\n",
       "      <td>5</td>\n",
       "      <td>0.0</td>\n",
       "    </tr>\n",
       "    <tr>\n",
       "      <th>159651</th>\n",
       "      <td>Vulli Sophie the Giraffe Teether</td>\n",
       "      <td>quick shipping and perfect product. I would pu...</td>\n",
       "      <td>5</td>\n",
       "      <td>0.0</td>\n",
       "    </tr>\n",
       "    <tr>\n",
       "      <th>159652</th>\n",
       "      <td>Vulli Sophie the Giraffe Teether</td>\n",
       "      <td>My baby who is currently teething love his Sop...</td>\n",
       "      <td>5</td>\n",
       "      <td>0.0</td>\n",
       "    </tr>\n",
       "    <tr>\n",
       "      <th>159653</th>\n",
       "      <td>Vulli Sophie the Giraffe Teether</td>\n",
       "      <td>I know several baits that are enjoying the sof...</td>\n",
       "      <td>5</td>\n",
       "      <td>0.0</td>\n",
       "    </tr>\n",
       "  </tbody>\n",
       "</table>\n",
       "<p>785 rows × 4 columns</p>\n",
       "</div>"
      ],
      "text/plain": [
       "                                    name  \\\n",
       "34313   Vulli Sophie the Giraffe Teether   \n",
       "34314   Vulli Sophie the Giraffe Teether   \n",
       "34315   Vulli Sophie the Giraffe Teether   \n",
       "34316   Vulli Sophie the Giraffe Teether   \n",
       "34317   Vulli Sophie the Giraffe Teether   \n",
       "...                                  ...   \n",
       "159649  Vulli Sophie the Giraffe Teether   \n",
       "159650  Vulli Sophie the Giraffe Teether   \n",
       "159651  Vulli Sophie the Giraffe Teether   \n",
       "159652  Vulli Sophie the Giraffe Teether   \n",
       "159653  Vulli Sophie the Giraffe Teether   \n",
       "\n",
       "                                                   review  rating  count  \n",
       "34313   He likes chewing on all the parts especially t...       5    0.0  \n",
       "34314   My son loves this toy and fits great in the di...       5    0.0  \n",
       "34315   There really should be a large warning on the ...       1    0.0  \n",
       "34316   All the moms in my moms\\' group got Sophie for...       5    0.0  \n",
       "34317   I was a little skeptical on whether Sophie was...       5    0.0  \n",
       "...                                                   ...     ...    ...  \n",
       "159649  My baby loves her Sophie Chew Toy. She can che...       5    0.0  \n",
       "159650  Sophie the Giraffe was a big hit at the baby s...       5    0.0  \n",
       "159651  quick shipping and perfect product. I would pu...       5    0.0  \n",
       "159652  My baby who is currently teething love his Sop...       5    0.0  \n",
       "159653  I know several baits that are enjoying the sof...       5    0.0  \n",
       "\n",
       "[785 rows x 4 columns]"
      ]
     },
     "execution_count": 18,
     "metadata": {},
     "output_type": "execute_result"
    }
   ],
   "source": [
    "giraffe_reviews"
   ]
  },
  {
   "cell_type": "code",
   "execution_count": 19,
   "metadata": {},
   "outputs": [
    {
     "data": {
      "text/plain": [
       "<AxesSubplot:xlabel='count'>"
      ]
     },
     "execution_count": 19,
     "metadata": {},
     "output_type": "execute_result"
    },
    {
     "data": {
      "image/png": "[encoded data removed]",
      "text/plain": [
       "<Figure size 1008x432 with 1 Axes>"
      ]
     },
     "metadata": {},
     "output_type": "display_data"
    }
   ],
   "source": [
    "(giraffe_reviews.groupby('rating').count()).plot.bar(x = 'count', y = 'review')"
   ]
  },
  {
   "cell_type": "markdown",
   "metadata": {},
   "source": [
    "# Cleaning data (Reviews column)"
   ]
  },
  {
   "cell_type": "code",
   "execution_count": 20,
   "metadata": {},
   "outputs": [
    {
     "data": {
      "text/html": [
       "<div>\n",
       "<style scoped>\n",
       "    .dataframe tbody tr th:only-of-type {\n",
       "        vertical-align: middle;\n",
       "    }\n",
       "\n",
       "    .dataframe tbody tr th {\n",
       "        vertical-align: top;\n",
       "    }\n",
       "\n",
       "    .dataframe thead th {\n",
       "        text-align: right;\n",
       "    }\n",
       "</style>\n",
       "<table border=\"1\" class=\"dataframe\">\n",
       "  <thead>\n",
       "    <tr style=\"text-align: right;\">\n",
       "      <th></th>\n",
       "      <th>name</th>\n",
       "      <th>review</th>\n",
       "      <th>rating</th>\n",
       "      <th>count</th>\n",
       "      <th>review_lower</th>\n",
       "    </tr>\n",
       "  </thead>\n",
       "  <tbody>\n",
       "    <tr>\n",
       "      <th>0</th>\n",
       "      <td>Planetwise Flannel Wipes</td>\n",
       "      <td>These flannel wipes are OK, but in my opinion ...</td>\n",
       "      <td>3</td>\n",
       "      <td>0.0</td>\n",
       "      <td>these flannel wipes are ok, but in my opinion ...</td>\n",
       "    </tr>\n",
       "    <tr>\n",
       "      <th>1</th>\n",
       "      <td>Planetwise Wipe Pouch</td>\n",
       "      <td>it came early and was not disappointed. i love...</td>\n",
       "      <td>5</td>\n",
       "      <td>0.0</td>\n",
       "      <td>it came early and was not disappointed. i love...</td>\n",
       "    </tr>\n",
       "    <tr>\n",
       "      <th>2</th>\n",
       "      <td>Annas Dream Full Quilt with 2 Shams</td>\n",
       "      <td>Very soft and comfortable and warmer than it l...</td>\n",
       "      <td>5</td>\n",
       "      <td>0.0</td>\n",
       "      <td>very soft and comfortable and warmer than it l...</td>\n",
       "    </tr>\n",
       "    <tr>\n",
       "      <th>3</th>\n",
       "      <td>Stop Pacifier Sucking without tears with Thumb...</td>\n",
       "      <td>This is a product well worth the purchase.  I ...</td>\n",
       "      <td>5</td>\n",
       "      <td>0.0</td>\n",
       "      <td>this is a product well worth the purchase.  i ...</td>\n",
       "    </tr>\n",
       "    <tr>\n",
       "      <th>4</th>\n",
       "      <td>Stop Pacifier Sucking without tears with Thumb...</td>\n",
       "      <td>All of my kids have cried non-stop when I trie...</td>\n",
       "      <td>5</td>\n",
       "      <td>0.0</td>\n",
       "      <td>all of my kids have cried non-stop when i trie...</td>\n",
       "    </tr>\n",
       "  </tbody>\n",
       "</table>\n",
       "</div>"
      ],
      "text/plain": [
       "                                                name  \\\n",
       "0                           Planetwise Flannel Wipes   \n",
       "1                              Planetwise Wipe Pouch   \n",
       "2                Annas Dream Full Quilt with 2 Shams   \n",
       "3  Stop Pacifier Sucking without tears with Thumb...   \n",
       "4  Stop Pacifier Sucking without tears with Thumb...   \n",
       "\n",
       "                                              review  rating  count  \\\n",
       "0  These flannel wipes are OK, but in my opinion ...       3    0.0   \n",
       "1  it came early and was not disappointed. i love...       5    0.0   \n",
       "2  Very soft and comfortable and warmer than it l...       5    0.0   \n",
       "3  This is a product well worth the purchase.  I ...       5    0.0   \n",
       "4  All of my kids have cried non-stop when I trie...       5    0.0   \n",
       "\n",
       "                                        review_lower  \n",
       "0  these flannel wipes are ok, but in my opinion ...  \n",
       "1  it came early and was not disappointed. i love...  \n",
       "2  very soft and comfortable and warmer than it l...  \n",
       "3  this is a product well worth the purchase.  i ...  \n",
       "4  all of my kids have cried non-stop when i trie...  "
      ]
     },
     "execution_count": 20,
     "metadata": {},
     "output_type": "execute_result"
    }
   ],
   "source": [
    "products['review_lower'] = products['review'].str.lower()\n",
    "\n",
    "# Word tokenization example:\n",
    "word_tokenize(\"DPhi Bootcamp rules. It is awesome :D\")\n",
    "products.head()"
   ]
  },
  {
   "cell_type": "markdown",
   "metadata": {},
   "source": [
    "# Count the unique tokens using nltk word_tokenizer"
   ]
  },
  {
   "cell_type": "code",
   "execution_count": 21,
   "metadata": {},
   "outputs": [
    {
     "name": "stdout",
     "output_type": "stream",
     "text": [
      "Number of unique tokens then:  169230\n",
      "Number of unique tokens now:  147786\n"
     ]
    }
   ],
   "source": [
    "# For reviews not converted to lower case\n",
    "token_lists = [word_tokenize(each) for each in products['review']]\n",
    "tokens = [item for sublist in token_lists for item in sublist]\n",
    "print(\"Number of unique tokens then: \",len(set(tokens)))\n",
    "\n",
    "# For reviews converted to lower case\n",
    "token_lists_lower = [word_tokenize(each) for each in products['review_lower']]\n",
    "tokens_lower = [item for sublist in token_lists_lower for item in sublist]\n",
    "print(\"Number of unique tokens now: \",len(set(tokens_lower)))"
   ]
  },
  {
   "cell_type": "code",
   "execution_count": 22,
   "metadata": {},
   "outputs": [
    {
     "name": "stdout",
     "output_type": "stream",
     "text": [
      "Percentage reduction in the number of unique tokens is:  12.671512143237015\n"
     ]
    }
   ],
   "source": [
    "print(\"Percentage reduction in the number of unique tokens is: \", (len(set(tokens)) - len(set(tokens_lower))) / len(set(tokens)) * 100)"
   ]
  },
  {
   "cell_type": "code",
   "execution_count": 23,
   "metadata": {},
   "outputs": [
    {
     "data": {
      "text/plain": [
       "{'!',\n",
       " '\"',\n",
       " '#',\n",
       " '$',\n",
       " '%',\n",
       " '&',\n",
       " \"'\",\n",
       " '(',\n",
       " ')',\n",
       " '*',\n",
       " '+',\n",
       " ',',\n",
       " '-',\n",
       " '.',\n",
       " '/',\n",
       " ':',\n",
       " ';',\n",
       " '=',\n",
       " '>',\n",
       " '?',\n",
       " '@',\n",
       " '[',\n",
       " '\\\\',\n",
       " ']',\n",
       " '^',\n",
       " '_',\n",
       " '`',\n",
       " '{',\n",
       " '|',\n",
       " '}',\n",
       " '~'}"
      ]
     },
     "execution_count": 23,
     "metadata": {},
     "output_type": "execute_result"
    }
   ],
   "source": [
    "### Selecting non alpha numeric charactes that are not spaces\n",
    "spl_chars = products['review'].apply(lambda review: [char for char in list(review) if not char.isalnum() and char != ' '])\n",
    "\n",
    "## Getting list of list into a single list\n",
    "flat_list = [item for sublist in spl_chars for item in sublist]\n",
    "\n",
    "## Unique special characters\n",
    "set(flat_list)"
   ]
  },
  {
   "cell_type": "markdown",
   "metadata": {},
   "source": [
    "# Decomose using regular expression [^A-Za-z0-9 ]+:\n",
    "\n",
    "* [ ]: match any character inside the list defined by the square brackets, including the space character ' '\n",
    "* ^: start of the line\n",
    "* A-Z: accept english upper case characters from A to Z\n",
    "* a-z: accept english lower case characters from a to z\n",
    "* 0-9: accept single number characters from 0 to 9"
   ]
  },
  {
   "cell_type": "code",
   "execution_count": 24,
   "metadata": {},
   "outputs": [],
   "source": [
    "review_backup = products['review_lower'].copy()\n",
    "products['review_lower'] = products['review_lower'].str.replace(r'[^A-Za-z0-9 ]+', ' ')"
   ]
  },
  {
   "cell_type": "code",
   "execution_count": 25,
   "metadata": {},
   "outputs": [
    {
     "name": "stdout",
     "output_type": "stream",
     "text": [
      "Number of unique tokens after lower and special charecter removal:  67993\n"
     ]
    }
   ],
   "source": [
    "token_lists = [word_tokenize(each) for each in products['review_lower']]\n",
    "tokens_after = [item for sublist in token_lists for item in sublist]\n",
    "print(\"Number of unique tokens after lower and special charecter removal: \",len(set(tokens_after)))"
   ]
  },
  {
   "cell_type": "code",
   "execution_count": 26,
   "metadata": {},
   "outputs": [
    {
     "name": "stdout",
     "output_type": "stream",
     "text": [
      "Percentage reduction in the number of unique tokens after lower and speacial charecter removal is:  59.822135555161616\n"
     ]
    }
   ],
   "source": [
    "print(\"Percentage reduction in the number of unique tokens after lower and speacial charecter removal is: \", (len(set(tokens)) - len(set(tokens_after))) / len(set(tokens)) * 100)"
   ]
  },
  {
   "cell_type": "markdown",
   "metadata": {},
   "source": [
    "# Removal of stopwords and high/low frequency words"
   ]
  },
  {
   "cell_type": "code",
   "execution_count": 27,
   "metadata": {},
   "outputs": [
    {
     "name": "stdout",
     "output_type": "stream",
     "text": [
      "['arabic', 'azerbaijani', 'danish', 'dutch', 'english', 'finnish', 'french', 'german', 'greek', 'hungarian', 'indonesian', 'italian', 'kazakh', 'nepali', 'norwegian', 'portuguese', 'romanian', 'russian', 'slovene', 'spanish', 'swedish', 'tajik', 'turkish']\n"
     ]
    },
    {
     "name": "stderr",
     "output_type": "stream",
     "text": [
      "[nltk_data] Downloading package stopwords to\n",
      "[nltk_data]     C:\\Users\\shrey\\AppData\\Roaming\\nltk_data...\n",
      "[nltk_data]   Package stopwords is already up-to-date!\n"
     ]
    }
   ],
   "source": [
    "from nltk.corpus import stopwords\n",
    "nltk.download('stopwords')\n",
    "print(stopwords.fileids())"
   ]
  },
  {
   "cell_type": "code",
   "execution_count": 28,
   "metadata": {},
   "outputs": [
    {
     "data": {
      "text/plain": [
       "['i',\n",
       " 'me',\n",
       " 'my',\n",
       " 'myself',\n",
       " 'we',\n",
       " 'our',\n",
       " 'ours',\n",
       " 'ourselves',\n",
       " 'you',\n",
       " \"you're\",\n",
       " \"you've\",\n",
       " \"you'll\",\n",
       " \"you'd\",\n",
       " 'your',\n",
       " 'yours',\n",
       " 'yourself',\n",
       " 'yourselves',\n",
       " 'he',\n",
       " 'him',\n",
       " 'his',\n",
       " 'himself',\n",
       " 'she',\n",
       " \"she's\",\n",
       " 'her',\n",
       " 'hers',\n",
       " 'herself',\n",
       " 'it',\n",
       " \"it's\",\n",
       " 'its',\n",
       " 'itself',\n",
       " 'they',\n",
       " 'them',\n",
       " 'their',\n",
       " 'theirs',\n",
       " 'themselves',\n",
       " 'what',\n",
       " 'which',\n",
       " 'who',\n",
       " 'whom',\n",
       " 'this',\n",
       " 'that',\n",
       " \"that'll\",\n",
       " 'these',\n",
       " 'those',\n",
       " 'am',\n",
       " 'is',\n",
       " 'are',\n",
       " 'was',\n",
       " 'were',\n",
       " 'be',\n",
       " 'been',\n",
       " 'being',\n",
       " 'have',\n",
       " 'has',\n",
       " 'had',\n",
       " 'having',\n",
       " 'do',\n",
       " 'does',\n",
       " 'did',\n",
       " 'doing',\n",
       " 'a',\n",
       " 'an',\n",
       " 'the',\n",
       " 'and',\n",
       " 'but',\n",
       " 'if',\n",
       " 'or',\n",
       " 'because',\n",
       " 'as',\n",
       " 'until',\n",
       " 'while',\n",
       " 'of',\n",
       " 'at',\n",
       " 'by',\n",
       " 'for',\n",
       " 'with',\n",
       " 'about',\n",
       " 'against',\n",
       " 'between',\n",
       " 'into',\n",
       " 'through',\n",
       " 'during',\n",
       " 'before',\n",
       " 'after',\n",
       " 'above',\n",
       " 'below',\n",
       " 'to',\n",
       " 'from',\n",
       " 'up',\n",
       " 'down',\n",
       " 'in',\n",
       " 'out',\n",
       " 'on',\n",
       " 'off',\n",
       " 'over',\n",
       " 'under',\n",
       " 'again',\n",
       " 'further',\n",
       " 'then',\n",
       " 'once',\n",
       " 'here',\n",
       " 'there',\n",
       " 'when',\n",
       " 'where',\n",
       " 'why',\n",
       " 'how',\n",
       " 'all',\n",
       " 'any',\n",
       " 'both',\n",
       " 'each',\n",
       " 'few',\n",
       " 'more',\n",
       " 'most',\n",
       " 'other',\n",
       " 'some',\n",
       " 'such',\n",
       " 'no',\n",
       " 'nor',\n",
       " 'not',\n",
       " 'only',\n",
       " 'own',\n",
       " 'same',\n",
       " 'so',\n",
       " 'than',\n",
       " 'too',\n",
       " 'very',\n",
       " 's',\n",
       " 't',\n",
       " 'can',\n",
       " 'will',\n",
       " 'just',\n",
       " 'don',\n",
       " \"don't\",\n",
       " 'should',\n",
       " \"should've\",\n",
       " 'now',\n",
       " 'd',\n",
       " 'll',\n",
       " 'm',\n",
       " 'o',\n",
       " 're',\n",
       " 've',\n",
       " 'y',\n",
       " 'ain',\n",
       " 'aren',\n",
       " \"aren't\",\n",
       " 'couldn',\n",
       " \"couldn't\",\n",
       " 'didn',\n",
       " \"didn't\",\n",
       " 'doesn',\n",
       " \"doesn't\",\n",
       " 'hadn',\n",
       " \"hadn't\",\n",
       " 'hasn',\n",
       " \"hasn't\",\n",
       " 'haven',\n",
       " \"haven't\",\n",
       " 'isn',\n",
       " \"isn't\",\n",
       " 'ma',\n",
       " 'mightn',\n",
       " \"mightn't\",\n",
       " 'mustn',\n",
       " \"mustn't\",\n",
       " 'needn',\n",
       " \"needn't\",\n",
       " 'shan',\n",
       " \"shan't\",\n",
       " 'shouldn',\n",
       " \"shouldn't\",\n",
       " 'wasn',\n",
       " \"wasn't\",\n",
       " 'weren',\n",
       " \"weren't\",\n",
       " 'won',\n",
       " \"won't\",\n",
       " 'wouldn',\n",
       " \"wouldn't\"]"
      ]
     },
     "execution_count": 28,
     "metadata": {},
     "output_type": "execute_result"
    }
   ],
   "source": [
    "eng_stop_words = stopwords.words('english')\n",
    "eng_stop_words"
   ]
  },
  {
   "cell_type": "code",
   "execution_count": 29,
   "metadata": {},
   "outputs": [],
   "source": [
    "stop_words = set(eng_stop_words)\n",
    "\n",
    "def stopwords_removal(stop_words, sentence):\n",
    "    return [word for word in nltk.word_tokenize(sentence) if word not in stop_words]"
   ]
  },
  {
   "cell_type": "code",
   "execution_count": 30,
   "metadata": {},
   "outputs": [],
   "source": [
    "products['review_lower'] = products['review_lower'].apply(lambda row: stopwords_removal(stop_words, row))"
   ]
  },
  {
   "cell_type": "code",
   "execution_count": 31,
   "metadata": {},
   "outputs": [
    {
     "data": {
      "text/html": [
       "<div>\n",
       "<style scoped>\n",
       "    .dataframe tbody tr th:only-of-type {\n",
       "        vertical-align: middle;\n",
       "    }\n",
       "\n",
       "    .dataframe tbody tr th {\n",
       "        vertical-align: top;\n",
       "    }\n",
       "\n",
       "    .dataframe thead th {\n",
       "        text-align: right;\n",
       "    }\n",
       "</style>\n",
       "<table border=\"1\" class=\"dataframe\">\n",
       "  <thead>\n",
       "    <tr style=\"text-align: right;\">\n",
       "      <th></th>\n",
       "      <th>name</th>\n",
       "      <th>review</th>\n",
       "      <th>rating</th>\n",
       "      <th>count</th>\n",
       "      <th>review_lower</th>\n",
       "    </tr>\n",
       "  </thead>\n",
       "  <tbody>\n",
       "    <tr>\n",
       "      <th>0</th>\n",
       "      <td>Planetwise Flannel Wipes</td>\n",
       "      <td>These flannel wipes are OK, but in my opinion ...</td>\n",
       "      <td>3</td>\n",
       "      <td>0.0</td>\n",
       "      <td>[flannel, wipes, ok, opinion, worth, keeping, ...</td>\n",
       "    </tr>\n",
       "    <tr>\n",
       "      <th>1</th>\n",
       "      <td>Planetwise Wipe Pouch</td>\n",
       "      <td>it came early and was not disappointed. i love...</td>\n",
       "      <td>5</td>\n",
       "      <td>0.0</td>\n",
       "      <td>[came, early, disappointed, love, planet, wise...</td>\n",
       "    </tr>\n",
       "    <tr>\n",
       "      <th>2</th>\n",
       "      <td>Annas Dream Full Quilt with 2 Shams</td>\n",
       "      <td>Very soft and comfortable and warmer than it l...</td>\n",
       "      <td>5</td>\n",
       "      <td>0.0</td>\n",
       "      <td>[soft, comfortable, warmer, looks, fit, full, ...</td>\n",
       "    </tr>\n",
       "    <tr>\n",
       "      <th>3</th>\n",
       "      <td>Stop Pacifier Sucking without tears with Thumb...</td>\n",
       "      <td>This is a product well worth the purchase.  I ...</td>\n",
       "      <td>5</td>\n",
       "      <td>0.0</td>\n",
       "      <td>[product, well, worth, purchase, found, anythi...</td>\n",
       "    </tr>\n",
       "    <tr>\n",
       "      <th>4</th>\n",
       "      <td>Stop Pacifier Sucking without tears with Thumb...</td>\n",
       "      <td>All of my kids have cried non-stop when I trie...</td>\n",
       "      <td>5</td>\n",
       "      <td>0.0</td>\n",
       "      <td>[kids, cried, non, stop, tried, ween, pacifier...</td>\n",
       "    </tr>\n",
       "  </tbody>\n",
       "</table>\n",
       "</div>"
      ],
      "text/plain": [
       "                                                name  \\\n",
       "0                           Planetwise Flannel Wipes   \n",
       "1                              Planetwise Wipe Pouch   \n",
       "2                Annas Dream Full Quilt with 2 Shams   \n",
       "3  Stop Pacifier Sucking without tears with Thumb...   \n",
       "4  Stop Pacifier Sucking without tears with Thumb...   \n",
       "\n",
       "                                              review  rating  count  \\\n",
       "0  These flannel wipes are OK, but in my opinion ...       3    0.0   \n",
       "1  it came early and was not disappointed. i love...       5    0.0   \n",
       "2  Very soft and comfortable and warmer than it l...       5    0.0   \n",
       "3  This is a product well worth the purchase.  I ...       5    0.0   \n",
       "4  All of my kids have cried non-stop when I trie...       5    0.0   \n",
       "\n",
       "                                        review_lower  \n",
       "0  [flannel, wipes, ok, opinion, worth, keeping, ...  \n",
       "1  [came, early, disappointed, love, planet, wise...  \n",
       "2  [soft, comfortable, warmer, looks, fit, full, ...  \n",
       "3  [product, well, worth, purchase, found, anythi...  \n",
       "4  [kids, cried, non, stop, tried, ween, pacifier...  "
      ]
     },
     "execution_count": 31,
     "metadata": {},
     "output_type": "execute_result"
    }
   ],
   "source": [
    "products.head()"
   ]
  },
  {
   "cell_type": "code",
   "execution_count": 32,
   "metadata": {},
   "outputs": [],
   "source": [
    "# Convert the column review_lower back to string\n",
    "def string_convert(input_list):\n",
    "    string = ' '.join(input_list)\n",
    "    return string"
   ]
  },
  {
   "cell_type": "code",
   "execution_count": 33,
   "metadata": {},
   "outputs": [],
   "source": [
    "products['review_lower'] = products['review_lower'].apply(lambda row: string_convert(row))"
   ]
  },
  {
   "cell_type": "code",
   "execution_count": 34,
   "metadata": {},
   "outputs": [
    {
     "data": {
      "text/plain": [
       "str"
      ]
     },
     "execution_count": 34,
     "metadata": {},
     "output_type": "execute_result"
    }
   ],
   "source": [
    "type(products.review_lower[0])"
   ]
  },
  {
   "cell_type": "code",
   "execution_count": 35,
   "metadata": {},
   "outputs": [
    {
     "data": {
      "text/html": [
       "<div>\n",
       "<style scoped>\n",
       "    .dataframe tbody tr th:only-of-type {\n",
       "        vertical-align: middle;\n",
       "    }\n",
       "\n",
       "    .dataframe tbody tr th {\n",
       "        vertical-align: top;\n",
       "    }\n",
       "\n",
       "    .dataframe thead th {\n",
       "        text-align: right;\n",
       "    }\n",
       "</style>\n",
       "<table border=\"1\" class=\"dataframe\">\n",
       "  <thead>\n",
       "    <tr style=\"text-align: right;\">\n",
       "      <th></th>\n",
       "      <th>name</th>\n",
       "      <th>review</th>\n",
       "      <th>rating</th>\n",
       "      <th>count</th>\n",
       "      <th>review_lower</th>\n",
       "    </tr>\n",
       "  </thead>\n",
       "  <tbody>\n",
       "    <tr>\n",
       "      <th>0</th>\n",
       "      <td>Planetwise Flannel Wipes</td>\n",
       "      <td>These flannel wipes are OK, but in my opinion ...</td>\n",
       "      <td>3</td>\n",
       "      <td>0.0</td>\n",
       "      <td>flannel wipes ok opinion worth keeping also or...</td>\n",
       "    </tr>\n",
       "    <tr>\n",
       "      <th>1</th>\n",
       "      <td>Planetwise Wipe Pouch</td>\n",
       "      <td>it came early and was not disappointed. i love...</td>\n",
       "      <td>5</td>\n",
       "      <td>0.0</td>\n",
       "      <td>came early disappointed love planet wise bags ...</td>\n",
       "    </tr>\n",
       "    <tr>\n",
       "      <th>2</th>\n",
       "      <td>Annas Dream Full Quilt with 2 Shams</td>\n",
       "      <td>Very soft and comfortable and warmer than it l...</td>\n",
       "      <td>5</td>\n",
       "      <td>0.0</td>\n",
       "      <td>soft comfortable warmer looks fit full size be...</td>\n",
       "    </tr>\n",
       "    <tr>\n",
       "      <th>3</th>\n",
       "      <td>Stop Pacifier Sucking without tears with Thumb...</td>\n",
       "      <td>This is a product well worth the purchase.  I ...</td>\n",
       "      <td>5</td>\n",
       "      <td>0.0</td>\n",
       "      <td>product well worth purchase found anything els...</td>\n",
       "    </tr>\n",
       "    <tr>\n",
       "      <th>4</th>\n",
       "      <td>Stop Pacifier Sucking without tears with Thumb...</td>\n",
       "      <td>All of my kids have cried non-stop when I trie...</td>\n",
       "      <td>5</td>\n",
       "      <td>0.0</td>\n",
       "      <td>kids cried non stop tried ween pacifier found ...</td>\n",
       "    </tr>\n",
       "  </tbody>\n",
       "</table>\n",
       "</div>"
      ],
      "text/plain": [
       "                                                name  \\\n",
       "0                           Planetwise Flannel Wipes   \n",
       "1                              Planetwise Wipe Pouch   \n",
       "2                Annas Dream Full Quilt with 2 Shams   \n",
       "3  Stop Pacifier Sucking without tears with Thumb...   \n",
       "4  Stop Pacifier Sucking without tears with Thumb...   \n",
       "\n",
       "                                              review  rating  count  \\\n",
       "0  These flannel wipes are OK, but in my opinion ...       3    0.0   \n",
       "1  it came early and was not disappointed. i love...       5    0.0   \n",
       "2  Very soft and comfortable and warmer than it l...       5    0.0   \n",
       "3  This is a product well worth the purchase.  I ...       5    0.0   \n",
       "4  All of my kids have cried non-stop when I trie...       5    0.0   \n",
       "\n",
       "                                        review_lower  \n",
       "0  flannel wipes ok opinion worth keeping also or...  \n",
       "1  came early disappointed love planet wise bags ...  \n",
       "2  soft comfortable warmer looks fit full size be...  \n",
       "3  product well worth purchase found anything els...  \n",
       "4  kids cried non stop tried ween pacifier found ...  "
      ]
     },
     "execution_count": 35,
     "metadata": {},
     "output_type": "execute_result"
    }
   ],
   "source": [
    "products.head()"
   ]
  },
  {
   "cell_type": "code",
   "execution_count": 36,
   "metadata": {},
   "outputs": [
    {
     "name": "stdout",
     "output_type": "stream",
     "text": [
      "Number of unique tokens after lower and special charecter and stop words removal:  67841\n"
     ]
    }
   ],
   "source": [
    "token_lists = [word_tokenize(each) for each in products['review_lower']]\n",
    "tokens_stop = [item for sublist in token_lists for item in sublist]\n",
    "print(\"Number of unique tokens after lower and special charecter and stop words removal: \",len(set(tokens_stop)))"
   ]
  },
  {
   "cell_type": "code",
   "execution_count": 37,
   "metadata": {},
   "outputs": [
    {
     "name": "stdout",
     "output_type": "stream",
     "text": [
      "Percentage reduction in the number of unique tokens after lower and speacial charecter removal is:  59.91195414524611\n"
     ]
    }
   ],
   "source": [
    "print(\"Percentage reduction in the number of unique tokens after lower and speacial charecter removal is: \", (len(set(tokens)) - len(set(tokens_stop))) / len(set(tokens)) * 100)"
   ]
  },
  {
   "cell_type": "markdown",
   "metadata": {},
   "source": [
    "# Stemming & lemmatization"
   ]
  },
  {
   "cell_type": "code",
   "execution_count": 38,
   "metadata": {},
   "outputs": [
    {
     "name": "stderr",
     "output_type": "stream",
     "text": [
      "[nltk_data] Downloading package wordnet to\n",
      "[nltk_data]     C:\\Users\\shrey\\AppData\\Roaming\\nltk_data...\n",
      "[nltk_data]   Package wordnet is already up-to-date!\n"
     ]
    }
   ],
   "source": [
    "from nltk.stem import PorterStemmer, LancasterStemmer # Common stemmers\n",
    "from nltk.stem import WordNetLemmatizer # Common Lematizer\n",
    "nltk.download('wordnet')\n",
    "from nltk.corpus import wordnet\n",
    "\n",
    "porter = PorterStemmer()\n",
    "lancaster = LancasterStemmer()\n",
    "lemmatizer = WordNetLemmatizer()"
   ]
  },
  {
   "cell_type": "code",
   "execution_count": 39,
   "metadata": {},
   "outputs": [
    {
     "name": "stdout",
     "output_type": "stream",
     "text": [
      "Lancaster Stemmer\n",
      "troubl\n",
      "troubl\n",
      "troubl\n",
      "WordNet Lemmatizer\n",
      "trouble\n",
      "trouble\n",
      "trouble\n"
     ]
    }
   ],
   "source": [
    "print(\"Lancaster Stemmer\")\n",
    "print(lancaster.stem(\"trouble\"))\n",
    "print(lancaster.stem(\"troubling\"))\n",
    "print(lancaster.stem(\"troubled\"))\n",
    "\n",
    "# Provide a word to be lemmatized\n",
    "print(\"WordNet Lemmatizer\")\n",
    "print(lemmatizer.lemmatize(\"trouble\", wordnet.NOUN))\n",
    "print(lemmatizer.lemmatize(\"troubling\", wordnet.VERB))\n",
    "print(lemmatizer.lemmatize(\"troubled\", wordnet.VERB))"
   ]
  },
  {
   "cell_type": "markdown",
   "metadata": {},
   "source": [
    "# add word counter for each reviews"
   ]
  },
  {
   "cell_type": "code",
   "execution_count": 40,
   "metadata": {},
   "outputs": [],
   "source": [
    "from collections import Counter\n",
    "products['word_count'] = products['review'].apply(lambda x: Counter(x.lower().split()) if type(x) == str else np.nan)"
   ]
  },
  {
   "cell_type": "code",
   "execution_count": 41,
   "metadata": {},
   "outputs": [
    {
     "data": {
      "text/html": [
       "<div>\n",
       "<style scoped>\n",
       "    .dataframe tbody tr th:only-of-type {\n",
       "        vertical-align: middle;\n",
       "    }\n",
       "\n",
       "    .dataframe tbody tr th {\n",
       "        vertical-align: top;\n",
       "    }\n",
       "\n",
       "    .dataframe thead th {\n",
       "        text-align: right;\n",
       "    }\n",
       "</style>\n",
       "<table border=\"1\" class=\"dataframe\">\n",
       "  <thead>\n",
       "    <tr style=\"text-align: right;\">\n",
       "      <th></th>\n",
       "      <th>name</th>\n",
       "      <th>review</th>\n",
       "      <th>rating</th>\n",
       "      <th>count</th>\n",
       "      <th>review_lower</th>\n",
       "      <th>word_count</th>\n",
       "    </tr>\n",
       "  </thead>\n",
       "  <tbody>\n",
       "    <tr>\n",
       "      <th>0</th>\n",
       "      <td>Planetwise Flannel Wipes</td>\n",
       "      <td>These flannel wipes are OK, but in my opinion ...</td>\n",
       "      <td>3</td>\n",
       "      <td>0.0</td>\n",
       "      <td>flannel wipes ok opinion worth keeping also or...</td>\n",
       "      <td>{'these': 1, 'flannel': 1, 'wipes': 2, 'are': ...</td>\n",
       "    </tr>\n",
       "    <tr>\n",
       "      <th>1</th>\n",
       "      <td>Planetwise Wipe Pouch</td>\n",
       "      <td>it came early and was not disappointed. i love...</td>\n",
       "      <td>5</td>\n",
       "      <td>0.0</td>\n",
       "      <td>came early disappointed love planet wise bags ...</td>\n",
       "      <td>{'it': 2, 'came': 1, 'early': 1, 'and': 3, 'wa...</td>\n",
       "    </tr>\n",
       "    <tr>\n",
       "      <th>2</th>\n",
       "      <td>Annas Dream Full Quilt with 2 Shams</td>\n",
       "      <td>Very soft and comfortable and warmer than it l...</td>\n",
       "      <td>5</td>\n",
       "      <td>0.0</td>\n",
       "      <td>soft comfortable warmer looks fit full size be...</td>\n",
       "      <td>{'very': 1, 'soft': 1, 'and': 2, 'comfortable'...</td>\n",
       "    </tr>\n",
       "    <tr>\n",
       "      <th>3</th>\n",
       "      <td>Stop Pacifier Sucking without tears with Thumb...</td>\n",
       "      <td>This is a product well worth the purchase.  I ...</td>\n",
       "      <td>5</td>\n",
       "      <td>0.0</td>\n",
       "      <td>product well worth purchase found anything els...</td>\n",
       "      <td>{'this': 3, 'is': 4, 'a': 2, 'product': 2, 'we...</td>\n",
       "    </tr>\n",
       "    <tr>\n",
       "      <th>4</th>\n",
       "      <td>Stop Pacifier Sucking without tears with Thumb...</td>\n",
       "      <td>All of my kids have cried non-stop when I trie...</td>\n",
       "      <td>5</td>\n",
       "      <td>0.0</td>\n",
       "      <td>kids cried non stop tried ween pacifier found ...</td>\n",
       "      <td>{'all': 2, 'of': 1, 'my': 1, 'kids': 2, 'have'...</td>\n",
       "    </tr>\n",
       "  </tbody>\n",
       "</table>\n",
       "</div>"
      ],
      "text/plain": [
       "                                                name  \\\n",
       "0                           Planetwise Flannel Wipes   \n",
       "1                              Planetwise Wipe Pouch   \n",
       "2                Annas Dream Full Quilt with 2 Shams   \n",
       "3  Stop Pacifier Sucking without tears with Thumb...   \n",
       "4  Stop Pacifier Sucking without tears with Thumb...   \n",
       "\n",
       "                                              review  rating  count  \\\n",
       "0  These flannel wipes are OK, but in my opinion ...       3    0.0   \n",
       "1  it came early and was not disappointed. i love...       5    0.0   \n",
       "2  Very soft and comfortable and warmer than it l...       5    0.0   \n",
       "3  This is a product well worth the purchase.  I ...       5    0.0   \n",
       "4  All of my kids have cried non-stop when I trie...       5    0.0   \n",
       "\n",
       "                                        review_lower  \\\n",
       "0  flannel wipes ok opinion worth keeping also or...   \n",
       "1  came early disappointed love planet wise bags ...   \n",
       "2  soft comfortable warmer looks fit full size be...   \n",
       "3  product well worth purchase found anything els...   \n",
       "4  kids cried non stop tried ween pacifier found ...   \n",
       "\n",
       "                                          word_count  \n",
       "0  {'these': 1, 'flannel': 1, 'wipes': 2, 'are': ...  \n",
       "1  {'it': 2, 'came': 1, 'early': 1, 'and': 3, 'wa...  \n",
       "2  {'very': 1, 'soft': 1, 'and': 2, 'comfortable'...  \n",
       "3  {'this': 3, 'is': 4, 'a': 2, 'product': 2, 'we...  \n",
       "4  {'all': 2, 'of': 1, 'my': 1, 'kids': 2, 'have'...  "
      ]
     },
     "execution_count": 41,
     "metadata": {},
     "output_type": "execute_result"
    }
   ],
   "source": [
    "products.head()"
   ]
  },
  {
   "cell_type": "markdown",
   "metadata": {},
   "source": [
    "# Define what is positive and negative sentiment"
   ]
  },
  {
   "cell_type": "code",
   "execution_count": 42,
   "metadata": {},
   "outputs": [],
   "source": [
    "#ignore all 3*  reviews\n",
    "products = products[products['rating']!= 3]"
   ]
  },
  {
   "cell_type": "code",
   "execution_count": 43,
   "metadata": {},
   "outputs": [],
   "source": [
    "#positive sentiment = 4-star or 5-star reviews\n",
    "products['sentiment'] = np.where(products.rating > 3,1,0)"
   ]
  },
  {
   "cell_type": "code",
   "execution_count": 44,
   "metadata": {},
   "outputs": [
    {
     "data": {
      "text/html": [
       "<div>\n",
       "<style scoped>\n",
       "    .dataframe tbody tr th:only-of-type {\n",
       "        vertical-align: middle;\n",
       "    }\n",
       "\n",
       "    .dataframe tbody tr th {\n",
       "        vertical-align: top;\n",
       "    }\n",
       "\n",
       "    .dataframe thead th {\n",
       "        text-align: right;\n",
       "    }\n",
       "</style>\n",
       "<table border=\"1\" class=\"dataframe\">\n",
       "  <thead>\n",
       "    <tr style=\"text-align: right;\">\n",
       "      <th></th>\n",
       "      <th>name</th>\n",
       "      <th>review</th>\n",
       "      <th>rating</th>\n",
       "      <th>count</th>\n",
       "      <th>review_lower</th>\n",
       "      <th>word_count</th>\n",
       "      <th>sentiment</th>\n",
       "    </tr>\n",
       "  </thead>\n",
       "  <tbody>\n",
       "    <tr>\n",
       "      <th>183526</th>\n",
       "      <td>Baby Teething Necklace for Mom Pretty Donut Sh...</td>\n",
       "      <td>Such a great idea! very handy to have and look...</td>\n",
       "      <td>5</td>\n",
       "      <td>0.0</td>\n",
       "      <td>great idea handy look really cool mention grea...</td>\n",
       "      <td>{'such': 1, 'a': 1, 'great': 2, 'idea!': 1, 'v...</td>\n",
       "      <td>1</td>\n",
       "    </tr>\n",
       "    <tr>\n",
       "      <th>183527</th>\n",
       "      <td>Baby Teething Necklace for Mom Pretty Donut Sh...</td>\n",
       "      <td>This product rocks!  It is a great blend of fu...</td>\n",
       "      <td>5</td>\n",
       "      <td>0.0</td>\n",
       "      <td>product rocks great blend function fashion asi...</td>\n",
       "      <td>{'this': 1, 'product': 2, 'rocks!': 1, 'it': 2...</td>\n",
       "      <td>1</td>\n",
       "    </tr>\n",
       "    <tr>\n",
       "      <th>183528</th>\n",
       "      <td>Abstract 2 PK Baby / Toddler Training Cup (Pink)</td>\n",
       "      <td>This item looks great and cool for my kids.......</td>\n",
       "      <td>5</td>\n",
       "      <td>0.0</td>\n",
       "      <td>item looks great cool kids know company great ...</td>\n",
       "      <td>{'this': 2, 'item': 1, 'looks': 1, 'great': 2,...</td>\n",
       "      <td>1</td>\n",
       "    </tr>\n",
       "    <tr>\n",
       "      <th>183529</th>\n",
       "      <td>Baby Food Freezer Tray - Bacteria Resistant, B...</td>\n",
       "      <td>I am extremely happy with this product. I have...</td>\n",
       "      <td>5</td>\n",
       "      <td>0.0</td>\n",
       "      <td>extremely happy product searching product like...</td>\n",
       "      <td>{'i': 9, 'am': 2, 'extremely': 1, 'happy': 1, ...</td>\n",
       "      <td>1</td>\n",
       "    </tr>\n",
       "    <tr>\n",
       "      <th>183530</th>\n",
       "      <td>Best 2 Pack Baby Car Shade for Kids - Window S...</td>\n",
       "      <td>I love this product very mush . I have bought ...</td>\n",
       "      <td>5</td>\n",
       "      <td>0.0</td>\n",
       "      <td>love product mush bought many car shades earli...</td>\n",
       "      <td>{'i': 2, 'love': 1, 'this': 1, 'product': 1, '...</td>\n",
       "      <td>1</td>\n",
       "    </tr>\n",
       "  </tbody>\n",
       "</table>\n",
       "</div>"
      ],
      "text/plain": [
       "                                                     name  \\\n",
       "183526  Baby Teething Necklace for Mom Pretty Donut Sh...   \n",
       "183527  Baby Teething Necklace for Mom Pretty Donut Sh...   \n",
       "183528   Abstract 2 PK Baby / Toddler Training Cup (Pink)   \n",
       "183529  Baby Food Freezer Tray - Bacteria Resistant, B...   \n",
       "183530  Best 2 Pack Baby Car Shade for Kids - Window S...   \n",
       "\n",
       "                                                   review  rating  count  \\\n",
       "183526  Such a great idea! very handy to have and look...       5    0.0   \n",
       "183527  This product rocks!  It is a great blend of fu...       5    0.0   \n",
       "183528  This item looks great and cool for my kids.......       5    0.0   \n",
       "183529  I am extremely happy with this product. I have...       5    0.0   \n",
       "183530  I love this product very mush . I have bought ...       5    0.0   \n",
       "\n",
       "                                             review_lower  \\\n",
       "183526  great idea handy look really cool mention grea...   \n",
       "183527  product rocks great blend function fashion asi...   \n",
       "183528  item looks great cool kids know company great ...   \n",
       "183529  extremely happy product searching product like...   \n",
       "183530  love product mush bought many car shades earli...   \n",
       "\n",
       "                                               word_count  sentiment  \n",
       "183526  {'such': 1, 'a': 1, 'great': 2, 'idea!': 1, 'v...          1  \n",
       "183527  {'this': 1, 'product': 2, 'rocks!': 1, 'it': 2...          1  \n",
       "183528  {'this': 2, 'item': 1, 'looks': 1, 'great': 2,...          1  \n",
       "183529  {'i': 9, 'am': 2, 'extremely': 1, 'happy': 1, ...          1  \n",
       "183530  {'i': 2, 'love': 1, 'this': 1, 'product': 1, '...          1  "
      ]
     },
     "execution_count": 44,
     "metadata": {},
     "output_type": "execute_result"
    }
   ],
   "source": [
    "products.tail()"
   ]
  },
  {
   "cell_type": "code",
   "execution_count": 45,
   "metadata": {},
   "outputs": [
    {
     "data": {
      "text/html": [
       "<div>\n",
       "<style scoped>\n",
       "    .dataframe tbody tr th:only-of-type {\n",
       "        vertical-align: middle;\n",
       "    }\n",
       "\n",
       "    .dataframe tbody tr th {\n",
       "        vertical-align: top;\n",
       "    }\n",
       "\n",
       "    .dataframe thead th {\n",
       "        text-align: right;\n",
       "    }\n",
       "</style>\n",
       "<table border=\"1\" class=\"dataframe\">\n",
       "  <thead>\n",
       "    <tr style=\"text-align: right;\">\n",
       "      <th></th>\n",
       "      <th>name</th>\n",
       "      <th>review</th>\n",
       "      <th>rating</th>\n",
       "      <th>count</th>\n",
       "      <th>review_lower</th>\n",
       "      <th>word_count</th>\n",
       "      <th>sentiment</th>\n",
       "    </tr>\n",
       "  </thead>\n",
       "  <tbody>\n",
       "    <tr>\n",
       "      <th>1</th>\n",
       "      <td>Planetwise Wipe Pouch</td>\n",
       "      <td>it came early and was not disappointed. i love...</td>\n",
       "      <td>5</td>\n",
       "      <td>0.0</td>\n",
       "      <td>came early disappointed love planet wise bags ...</td>\n",
       "      <td>{'it': 2, 'came': 1, 'early': 1, 'and': 3, 'wa...</td>\n",
       "      <td>1</td>\n",
       "    </tr>\n",
       "    <tr>\n",
       "      <th>2</th>\n",
       "      <td>Annas Dream Full Quilt with 2 Shams</td>\n",
       "      <td>Very soft and comfortable and warmer than it l...</td>\n",
       "      <td>5</td>\n",
       "      <td>0.0</td>\n",
       "      <td>soft comfortable warmer looks fit full size be...</td>\n",
       "      <td>{'very': 1, 'soft': 1, 'and': 2, 'comfortable'...</td>\n",
       "      <td>1</td>\n",
       "    </tr>\n",
       "    <tr>\n",
       "      <th>3</th>\n",
       "      <td>Stop Pacifier Sucking without tears with Thumb...</td>\n",
       "      <td>This is a product well worth the purchase.  I ...</td>\n",
       "      <td>5</td>\n",
       "      <td>0.0</td>\n",
       "      <td>product well worth purchase found anything els...</td>\n",
       "      <td>{'this': 3, 'is': 4, 'a': 2, 'product': 2, 'we...</td>\n",
       "      <td>1</td>\n",
       "    </tr>\n",
       "    <tr>\n",
       "      <th>4</th>\n",
       "      <td>Stop Pacifier Sucking without tears with Thumb...</td>\n",
       "      <td>All of my kids have cried non-stop when I trie...</td>\n",
       "      <td>5</td>\n",
       "      <td>0.0</td>\n",
       "      <td>kids cried non stop tried ween pacifier found ...</td>\n",
       "      <td>{'all': 2, 'of': 1, 'my': 1, 'kids': 2, 'have'...</td>\n",
       "      <td>1</td>\n",
       "    </tr>\n",
       "    <tr>\n",
       "      <th>5</th>\n",
       "      <td>Stop Pacifier Sucking without tears with Thumb...</td>\n",
       "      <td>When the Binky Fairy came to our house, we did...</td>\n",
       "      <td>5</td>\n",
       "      <td>0.0</td>\n",
       "      <td>binky fairy came house special gift book help ...</td>\n",
       "      <td>{'when': 2, 'the': 6, 'binky': 3, 'fairy': 3, ...</td>\n",
       "      <td>1</td>\n",
       "    </tr>\n",
       "    <tr>\n",
       "      <th>...</th>\n",
       "      <td>...</td>\n",
       "      <td>...</td>\n",
       "      <td>...</td>\n",
       "      <td>...</td>\n",
       "      <td>...</td>\n",
       "      <td>...</td>\n",
       "      <td>...</td>\n",
       "    </tr>\n",
       "    <tr>\n",
       "      <th>183526</th>\n",
       "      <td>Baby Teething Necklace for Mom Pretty Donut Sh...</td>\n",
       "      <td>Such a great idea! very handy to have and look...</td>\n",
       "      <td>5</td>\n",
       "      <td>0.0</td>\n",
       "      <td>great idea handy look really cool mention grea...</td>\n",
       "      <td>{'such': 1, 'a': 1, 'great': 2, 'idea!': 1, 'v...</td>\n",
       "      <td>1</td>\n",
       "    </tr>\n",
       "    <tr>\n",
       "      <th>183527</th>\n",
       "      <td>Baby Teething Necklace for Mom Pretty Donut Sh...</td>\n",
       "      <td>This product rocks!  It is a great blend of fu...</td>\n",
       "      <td>5</td>\n",
       "      <td>0.0</td>\n",
       "      <td>product rocks great blend function fashion asi...</td>\n",
       "      <td>{'this': 1, 'product': 2, 'rocks!': 1, 'it': 2...</td>\n",
       "      <td>1</td>\n",
       "    </tr>\n",
       "    <tr>\n",
       "      <th>183528</th>\n",
       "      <td>Abstract 2 PK Baby / Toddler Training Cup (Pink)</td>\n",
       "      <td>This item looks great and cool for my kids.......</td>\n",
       "      <td>5</td>\n",
       "      <td>0.0</td>\n",
       "      <td>item looks great cool kids know company great ...</td>\n",
       "      <td>{'this': 2, 'item': 1, 'looks': 1, 'great': 2,...</td>\n",
       "      <td>1</td>\n",
       "    </tr>\n",
       "    <tr>\n",
       "      <th>183529</th>\n",
       "      <td>Baby Food Freezer Tray - Bacteria Resistant, B...</td>\n",
       "      <td>I am extremely happy with this product. I have...</td>\n",
       "      <td>5</td>\n",
       "      <td>0.0</td>\n",
       "      <td>extremely happy product searching product like...</td>\n",
       "      <td>{'i': 9, 'am': 2, 'extremely': 1, 'happy': 1, ...</td>\n",
       "      <td>1</td>\n",
       "    </tr>\n",
       "    <tr>\n",
       "      <th>183530</th>\n",
       "      <td>Best 2 Pack Baby Car Shade for Kids - Window S...</td>\n",
       "      <td>I love this product very mush . I have bought ...</td>\n",
       "      <td>5</td>\n",
       "      <td>0.0</td>\n",
       "      <td>love product mush bought many car shades earli...</td>\n",
       "      <td>{'i': 2, 'love': 1, 'this': 1, 'product': 1, '...</td>\n",
       "      <td>1</td>\n",
       "    </tr>\n",
       "  </tbody>\n",
       "</table>\n",
       "<p>107054 rows × 7 columns</p>\n",
       "</div>"
      ],
      "text/plain": [
       "                                                     name  \\\n",
       "1                                   Planetwise Wipe Pouch   \n",
       "2                     Annas Dream Full Quilt with 2 Shams   \n",
       "3       Stop Pacifier Sucking without tears with Thumb...   \n",
       "4       Stop Pacifier Sucking without tears with Thumb...   \n",
       "5       Stop Pacifier Sucking without tears with Thumb...   \n",
       "...                                                   ...   \n",
       "183526  Baby Teething Necklace for Mom Pretty Donut Sh...   \n",
       "183527  Baby Teething Necklace for Mom Pretty Donut Sh...   \n",
       "183528   Abstract 2 PK Baby / Toddler Training Cup (Pink)   \n",
       "183529  Baby Food Freezer Tray - Bacteria Resistant, B...   \n",
       "183530  Best 2 Pack Baby Car Shade for Kids - Window S...   \n",
       "\n",
       "                                                   review  rating  count  \\\n",
       "1       it came early and was not disappointed. i love...       5    0.0   \n",
       "2       Very soft and comfortable and warmer than it l...       5    0.0   \n",
       "3       This is a product well worth the purchase.  I ...       5    0.0   \n",
       "4       All of my kids have cried non-stop when I trie...       5    0.0   \n",
       "5       When the Binky Fairy came to our house, we did...       5    0.0   \n",
       "...                                                   ...     ...    ...   \n",
       "183526  Such a great idea! very handy to have and look...       5    0.0   \n",
       "183527  This product rocks!  It is a great blend of fu...       5    0.0   \n",
       "183528  This item looks great and cool for my kids.......       5    0.0   \n",
       "183529  I am extremely happy with this product. I have...       5    0.0   \n",
       "183530  I love this product very mush . I have bought ...       5    0.0   \n",
       "\n",
       "                                             review_lower  \\\n",
       "1       came early disappointed love planet wise bags ...   \n",
       "2       soft comfortable warmer looks fit full size be...   \n",
       "3       product well worth purchase found anything els...   \n",
       "4       kids cried non stop tried ween pacifier found ...   \n",
       "5       binky fairy came house special gift book help ...   \n",
       "...                                                   ...   \n",
       "183526  great idea handy look really cool mention grea...   \n",
       "183527  product rocks great blend function fashion asi...   \n",
       "183528  item looks great cool kids know company great ...   \n",
       "183529  extremely happy product searching product like...   \n",
       "183530  love product mush bought many car shades earli...   \n",
       "\n",
       "                                               word_count  sentiment  \n",
       "1       {'it': 2, 'came': 1, 'early': 1, 'and': 3, 'wa...          1  \n",
       "2       {'very': 1, 'soft': 1, 'and': 2, 'comfortable'...          1  \n",
       "3       {'this': 3, 'is': 4, 'a': 2, 'product': 2, 'we...          1  \n",
       "4       {'all': 2, 'of': 1, 'my': 1, 'kids': 2, 'have'...          1  \n",
       "5       {'when': 2, 'the': 6, 'binky': 3, 'fairy': 3, ...          1  \n",
       "...                                                   ...        ...  \n",
       "183526  {'such': 1, 'a': 1, 'great': 2, 'idea!': 1, 'v...          1  \n",
       "183527  {'this': 1, 'product': 2, 'rocks!': 1, 'it': 2...          1  \n",
       "183528  {'this': 2, 'item': 1, 'looks': 1, 'great': 2,...          1  \n",
       "183529  {'i': 9, 'am': 2, 'extremely': 1, 'happy': 1, ...          1  \n",
       "183530  {'i': 2, 'love': 1, 'this': 1, 'product': 1, '...          1  \n",
       "\n",
       "[107054 rows x 7 columns]"
      ]
     },
     "execution_count": 45,
     "metadata": {},
     "output_type": "execute_result"
    }
   ],
   "source": [
    "products[(products['rating'] == 5)]      # Checking for 5 ratings and its sentiment column."
   ]
  },
  {
   "cell_type": "code",
   "execution_count": 46,
   "metadata": {},
   "outputs": [
    {
     "data": {
      "text/html": [
       "<div>\n",
       "<style scoped>\n",
       "    .dataframe tbody tr th:only-of-type {\n",
       "        vertical-align: middle;\n",
       "    }\n",
       "\n",
       "    .dataframe tbody tr th {\n",
       "        vertical-align: top;\n",
       "    }\n",
       "\n",
       "    .dataframe thead th {\n",
       "        text-align: right;\n",
       "    }\n",
       "</style>\n",
       "<table border=\"1\" class=\"dataframe\">\n",
       "  <thead>\n",
       "    <tr style=\"text-align: right;\">\n",
       "      <th></th>\n",
       "      <th>name</th>\n",
       "      <th>review</th>\n",
       "      <th>rating</th>\n",
       "      <th>count</th>\n",
       "      <th>review_lower</th>\n",
       "      <th>word_count</th>\n",
       "      <th>sentiment</th>\n",
       "    </tr>\n",
       "  </thead>\n",
       "  <tbody>\n",
       "    <tr>\n",
       "      <th>21</th>\n",
       "      <td>Nature\\'s Lullabies Second Year Sticker Calendar</td>\n",
       "      <td>I only purchased a second-year calendar for my...</td>\n",
       "      <td>2</td>\n",
       "      <td>0.0</td>\n",
       "      <td>purchased second year calendar son one daughte...</td>\n",
       "      <td>{'i': 4, 'only': 2, 'purchased': 1, 'a': 1, 's...</td>\n",
       "      <td>0</td>\n",
       "    </tr>\n",
       "    <tr>\n",
       "      <th>41</th>\n",
       "      <td>SoftPlay Giggle Jiggle Funbook, Happy Bear</td>\n",
       "      <td>This bear is absolutely adorable and I would g...</td>\n",
       "      <td>2</td>\n",
       "      <td>0.0</td>\n",
       "      <td>bear absolutely adorable would give 5 star rat...</td>\n",
       "      <td>{'this': 1, 'bear': 1, 'is': 1, 'absolutely': ...</td>\n",
       "      <td>0</td>\n",
       "    </tr>\n",
       "    <tr>\n",
       "      <th>71</th>\n",
       "      <td>Wall Decor Removable Decal Sticker - Colorful ...</td>\n",
       "      <td>Would not purchase again or recommend. The dec...</td>\n",
       "      <td>2</td>\n",
       "      <td>0.0</td>\n",
       "      <td>would purchase recommend decals thick almost p...</td>\n",
       "      <td>{'would': 2, 'not': 2, 'purchase': 1, 'again':...</td>\n",
       "      <td>0</td>\n",
       "    </tr>\n",
       "    <tr>\n",
       "      <th>78</th>\n",
       "      <td>Cloth Diaper Pins Stainless Steel Traditional ...</td>\n",
       "      <td>These were  good quality--worked fine--heavy d...</td>\n",
       "      <td>2</td>\n",
       "      <td>0.0</td>\n",
       "      <td>good quality worked fine heavy duty able used ...</td>\n",
       "      <td>{'these': 1, 'were': 1, 'good': 1, 'quality--w...</td>\n",
       "      <td>0</td>\n",
       "    </tr>\n",
       "    <tr>\n",
       "      <th>80</th>\n",
       "      <td>Cloth Diaper Pins Stainless Steel Traditional ...</td>\n",
       "      <td>While the diaper pins are attractive, the meta...</td>\n",
       "      <td>2</td>\n",
       "      <td>0.0</td>\n",
       "      <td>diaper pins attractive metal pins received fli...</td>\n",
       "      <td>{'while': 1, 'the': 4, 'diaper': 1, 'pins': 2,...</td>\n",
       "      <td>0</td>\n",
       "    </tr>\n",
       "    <tr>\n",
       "      <th>...</th>\n",
       "      <td>...</td>\n",
       "      <td>...</td>\n",
       "      <td>...</td>\n",
       "      <td>...</td>\n",
       "      <td>...</td>\n",
       "      <td>...</td>\n",
       "      <td>...</td>\n",
       "    </tr>\n",
       "    <tr>\n",
       "      <th>183293</th>\n",
       "      <td>Aqueduck Faucet Extender &amp;amp; Handle Extended...</td>\n",
       "      <td>I wish I had bought the faucet extender and ha...</td>\n",
       "      <td>2</td>\n",
       "      <td>0.0</td>\n",
       "      <td>wish bought faucet extender handle extender se...</td>\n",
       "      <td>{'i': 3, 'wish': 1, 'had': 1, 'bought': 1, 'th...</td>\n",
       "      <td>0</td>\n",
       "    </tr>\n",
       "    <tr>\n",
       "      <th>183302</th>\n",
       "      <td>Vandot 2 in1 Accessory Set 3D Leather Case Lit...</td>\n",
       "      <td>Cute but cheaply made.. The part where you put...</td>\n",
       "      <td>2</td>\n",
       "      <td>0.0</td>\n",
       "      <td>cute cheaply made part put phone cheaply glued...</td>\n",
       "      <td>{'cute': 1, 'but': 1, 'cheaply': 2, 'made..': ...</td>\n",
       "      <td>0</td>\n",
       "    </tr>\n",
       "    <tr>\n",
       "      <th>183371</th>\n",
       "      <td>Summer Infant Pop \\'n Play Portable Playard</td>\n",
       "      <td>Good idea but too dangerous. I really wanted t...</td>\n",
       "      <td>2</td>\n",
       "      <td>0.0</td>\n",
       "      <td>good idea dangerous really wanted like sadly u...</td>\n",
       "      <td>{'good': 1, 'idea': 1, 'but': 2, 'too': 1, 'da...</td>\n",
       "      <td>0</td>\n",
       "    </tr>\n",
       "    <tr>\n",
       "      <th>183472</th>\n",
       "      <td>Bouncy&amp;reg; Inflatable Real Feel Hopping Cow</td>\n",
       "      <td>When I received the item my initial thought wa...</td>\n",
       "      <td>2</td>\n",
       "      <td>0.0</td>\n",
       "      <td>received item initial thought bit smaller expe...</td>\n",
       "      <td>{'when': 2, 'i': 3, 'received': 1, 'the': 12, ...</td>\n",
       "      <td>0</td>\n",
       "    </tr>\n",
       "    <tr>\n",
       "      <th>183503</th>\n",
       "      <td>Maxboost iPhone 5S/5 Case - Protective Snap-on...</td>\n",
       "      <td>I got this case in the mail today, it came on ...</td>\n",
       "      <td>2</td>\n",
       "      <td>0.0</td>\n",
       "      <td>got case mail today came last estimated day ar...</td>\n",
       "      <td>{'i': 2, 'got': 2, 'this': 1, 'case': 3, 'in':...</td>\n",
       "      <td>0</td>\n",
       "    </tr>\n",
       "  </tbody>\n",
       "</table>\n",
       "<p>11310 rows × 7 columns</p>\n",
       "</div>"
      ],
      "text/plain": [
       "                                                     name  \\\n",
       "21       Nature\\'s Lullabies Second Year Sticker Calendar   \n",
       "41             SoftPlay Giggle Jiggle Funbook, Happy Bear   \n",
       "71      Wall Decor Removable Decal Sticker - Colorful ...   \n",
       "78      Cloth Diaper Pins Stainless Steel Traditional ...   \n",
       "80      Cloth Diaper Pins Stainless Steel Traditional ...   \n",
       "...                                                   ...   \n",
       "183293  Aqueduck Faucet Extender &amp; Handle Extended...   \n",
       "183302  Vandot 2 in1 Accessory Set 3D Leather Case Lit...   \n",
       "183371        Summer Infant Pop \\'n Play Portable Playard   \n",
       "183472       Bouncy&reg; Inflatable Real Feel Hopping Cow   \n",
       "183503  Maxboost iPhone 5S/5 Case - Protective Snap-on...   \n",
       "\n",
       "                                                   review  rating  count  \\\n",
       "21      I only purchased a second-year calendar for my...       2    0.0   \n",
       "41      This bear is absolutely adorable and I would g...       2    0.0   \n",
       "71      Would not purchase again or recommend. The dec...       2    0.0   \n",
       "78      These were  good quality--worked fine--heavy d...       2    0.0   \n",
       "80      While the diaper pins are attractive, the meta...       2    0.0   \n",
       "...                                                   ...     ...    ...   \n",
       "183293  I wish I had bought the faucet extender and ha...       2    0.0   \n",
       "183302  Cute but cheaply made.. The part where you put...       2    0.0   \n",
       "183371  Good idea but too dangerous. I really wanted t...       2    0.0   \n",
       "183472  When I received the item my initial thought wa...       2    0.0   \n",
       "183503  I got this case in the mail today, it came on ...       2    0.0   \n",
       "\n",
       "                                             review_lower  \\\n",
       "21      purchased second year calendar son one daughte...   \n",
       "41      bear absolutely adorable would give 5 star rat...   \n",
       "71      would purchase recommend decals thick almost p...   \n",
       "78      good quality worked fine heavy duty able used ...   \n",
       "80      diaper pins attractive metal pins received fli...   \n",
       "...                                                   ...   \n",
       "183293  wish bought faucet extender handle extender se...   \n",
       "183302  cute cheaply made part put phone cheaply glued...   \n",
       "183371  good idea dangerous really wanted like sadly u...   \n",
       "183472  received item initial thought bit smaller expe...   \n",
       "183503  got case mail today came last estimated day ar...   \n",
       "\n",
       "                                               word_count  sentiment  \n",
       "21      {'i': 4, 'only': 2, 'purchased': 1, 'a': 1, 's...          0  \n",
       "41      {'this': 1, 'bear': 1, 'is': 1, 'absolutely': ...          0  \n",
       "71      {'would': 2, 'not': 2, 'purchase': 1, 'again':...          0  \n",
       "78      {'these': 1, 'were': 1, 'good': 1, 'quality--w...          0  \n",
       "80      {'while': 1, 'the': 4, 'diaper': 1, 'pins': 2,...          0  \n",
       "...                                                   ...        ...  \n",
       "183293  {'i': 3, 'wish': 1, 'had': 1, 'bought': 1, 'th...          0  \n",
       "183302  {'cute': 1, 'but': 1, 'cheaply': 2, 'made..': ...          0  \n",
       "183371  {'good': 1, 'idea': 1, 'but': 2, 'too': 1, 'da...          0  \n",
       "183472  {'when': 2, 'i': 3, 'received': 1, 'the': 12, ...          0  \n",
       "183503  {'i': 2, 'got': 2, 'this': 1, 'case': 3, 'in':...          0  \n",
       "\n",
       "[11310 rows x 7 columns]"
      ]
     },
     "execution_count": 46,
     "metadata": {},
     "output_type": "execute_result"
    }
   ],
   "source": [
    "products[(products['rating'] == 2)]      # Checking for 2 ratings and its sentiment column."
   ]
  },
  {
   "cell_type": "code",
   "execution_count": 47,
   "metadata": {},
   "outputs": [
    {
     "data": {
      "text/html": [
       "<div>\n",
       "<style scoped>\n",
       "    .dataframe tbody tr th:only-of-type {\n",
       "        vertical-align: middle;\n",
       "    }\n",
       "\n",
       "    .dataframe tbody tr th {\n",
       "        vertical-align: top;\n",
       "    }\n",
       "\n",
       "    .dataframe thead th {\n",
       "        text-align: right;\n",
       "    }\n",
       "</style>\n",
       "<table border=\"1\" class=\"dataframe\">\n",
       "  <thead>\n",
       "    <tr style=\"text-align: right;\">\n",
       "      <th></th>\n",
       "      <th>name</th>\n",
       "      <th>review</th>\n",
       "      <th>rating</th>\n",
       "      <th>count</th>\n",
       "      <th>review_lower</th>\n",
       "      <th>word_count</th>\n",
       "      <th>sentiment</th>\n",
       "    </tr>\n",
       "  </thead>\n",
       "  <tbody>\n",
       "  </tbody>\n",
       "</table>\n",
       "</div>"
      ],
      "text/plain": [
       "Empty DataFrame\n",
       "Columns: [name, review, rating, count, review_lower, word_count, sentiment]\n",
       "Index: []"
      ]
     },
     "execution_count": 47,
     "metadata": {},
     "output_type": "execute_result"
    }
   ],
   "source": [
    "products[(products['rating'] == 3)]      # All rows with rating 3 have been removed to avoid confusion."
   ]
  },
  {
   "cell_type": "code",
   "execution_count": 48,
   "metadata": {},
   "outputs": [],
   "source": [
    "del products['count']       # Deleting the unwanted columns"
   ]
  },
  {
   "cell_type": "code",
   "execution_count": 49,
   "metadata": {},
   "outputs": [
    {
     "data": {
      "image/png": "[encoded data removed]",
      "text/plain": [
       "<Figure size 1008x432 with 1 Axes>"
      ]
     },
     "metadata": {},
     "output_type": "display_data"
    }
   ],
   "source": [
    "products.sentiment.value_counts().plot.bar()\n",
    "plt.show()"
   ]
  },
  {
   "cell_type": "markdown",
   "metadata": {},
   "source": [
    "# Build a model Without data cleaning"
   ]
  },
  {
   "cell_type": "markdown",
   "metadata": {},
   "source": [
    "# Build model with Bag of words(word count vectorizer)"
   ]
  },
  {
   "cell_type": "code",
   "execution_count": 50,
   "metadata": {},
   "outputs": [],
   "source": [
    "count_vect = CountVectorizer()"
   ]
  },
  {
   "cell_type": "code",
   "execution_count": 51,
   "metadata": {},
   "outputs": [],
   "source": [
    "x_BOW = products['review']\n",
    "y_BOW = products['sentiment']\n",
    "x_BOW = count_vect.fit_transform(x_BOW)"
   ]
  },
  {
   "cell_type": "code",
   "execution_count": 52,
   "metadata": {},
   "outputs": [],
   "source": [
    "# Splitting into train and test sets with respect to BOW Vectorizer\n",
    "x_train_BOW, x_test_BOW, y_train_BOW, y_test_BOW = train_test_split(x_BOW, y_BOW, test_size=0.2, shuffle=False, random_state = 0)"
   ]
  },
  {
   "cell_type": "code",
   "execution_count": 53,
   "metadata": {},
   "outputs": [],
   "source": [
    "sentiment_classifier_BOW = LogisticRegression(random_state=0, fit_intercept=True)"
   ]
  },
  {
   "cell_type": "code",
   "execution_count": 54,
   "metadata": {},
   "outputs": [
    {
     "data": {
      "text/plain": [
       "LogisticRegression(C=1.0, class_weight=None, dual=False, fit_intercept=True,\n",
       "                   intercept_scaling=1, l1_ratio=None, max_iter=100,\n",
       "                   multi_class='warn', n_jobs=None, penalty='l2',\n",
       "                   random_state=0, solver='warn', tol=0.0001, verbose=0,\n",
       "                   warm_start=False)"
      ]
     },
     "execution_count": 54,
     "metadata": {},
     "output_type": "execute_result"
    }
   ],
   "source": [
    "sentiment_classifier_BOW.fit(x_train_BOW, y_train_BOW)"
   ]
  },
  {
   "cell_type": "code",
   "execution_count": 55,
   "metadata": {},
   "outputs": [],
   "source": [
    "y_predicted_test_BOW = sentiment_classifier_BOW.predict(x_test_BOW)"
   ]
  },
  {
   "cell_type": "code",
   "execution_count": 56,
   "metadata": {},
   "outputs": [
    {
     "name": "stdout",
     "output_type": "stream",
     "text": [
      "F1 score:  0.9636499159285131\n"
     ]
    }
   ],
   "source": [
    "print(\"F1 score: \", f1_score(y_test_BOW, y_predicted_test_BOW))"
   ]
  },
  {
   "cell_type": "markdown",
   "metadata": {},
   "source": [
    "# Confusion matrix for model using all words for BOW Vectorized reviews"
   ]
  },
  {
   "cell_type": "code",
   "execution_count": 57,
   "metadata": {},
   "outputs": [],
   "source": [
    "cnf_matrix_all_words_BOW = metrics.confusion_matrix(np.squeeze(y_test_BOW), np.squeeze(y_predicted_test_BOW))"
   ]
  },
  {
   "cell_type": "code",
   "execution_count": 58,
   "metadata": {},
   "outputs": [
    {
     "data": {
      "text/plain": [
       "array([[ 3458,  1374],\n",
       "       [  723, 27796]], dtype=int64)"
      ]
     },
     "execution_count": 58,
     "metadata": {},
     "output_type": "execute_result"
    }
   ],
   "source": [
    "cnf_matrix_all_words_BOW"
   ]
  },
  {
   "cell_type": "code",
   "execution_count": 59,
   "metadata": {},
   "outputs": [
    {
     "data": {
      "image/png": "[encoded data removed]",
      "text/plain": [
       "<Figure size 1008x432 with 2 Axes>"
      ]
     },
     "metadata": {},
     "output_type": "display_data"
    }
   ],
   "source": [
    "sn.heatmap(cnf_matrix_all_words_BOW, annot=True)\n",
    "plt.show()"
   ]
  },
  {
   "cell_type": "markdown",
   "metadata": {},
   "source": [
    "# Build model with TIDIF vectorizer"
   ]
  },
  {
   "cell_type": "code",
   "execution_count": 60,
   "metadata": {},
   "outputs": [],
   "source": [
    "tfidf = TfidfVectorizer(max_features = 5000)"
   ]
  },
  {
   "cell_type": "code",
   "execution_count": 61,
   "metadata": {},
   "outputs": [],
   "source": [
    "x = products['review']\n",
    "y = products['sentiment']\n",
    "\n",
    "x = tfidf.fit_transform(x)"
   ]
  },
  {
   "cell_type": "code",
   "execution_count": 62,
   "metadata": {},
   "outputs": [],
   "source": [
    "# Splitting with respect to TIDIF vectorizer\n",
    "x_train, x_test, y_train, y_test = train_test_split(x, y, test_size=0.2, shuffle=False, random_state = 0)"
   ]
  },
  {
   "cell_type": "code",
   "execution_count": 63,
   "metadata": {},
   "outputs": [],
   "source": [
    "sentiment_classifier = LogisticRegression(random_state=0, fit_intercept=True)"
   ]
  },
  {
   "cell_type": "code",
   "execution_count": 64,
   "metadata": {},
   "outputs": [
    {
     "data": {
      "text/plain": [
       "LogisticRegression(C=1.0, class_weight=None, dual=False, fit_intercept=True,\n",
       "                   intercept_scaling=1, l1_ratio=None, max_iter=100,\n",
       "                   multi_class='warn', n_jobs=None, penalty='l2',\n",
       "                   random_state=0, solver='warn', tol=0.0001, verbose=0,\n",
       "                   warm_start=False)"
      ]
     },
     "execution_count": 64,
     "metadata": {},
     "output_type": "execute_result"
    }
   ],
   "source": [
    "sentiment_classifier.fit(x_train, y_train)"
   ]
  },
  {
   "cell_type": "code",
   "execution_count": 65,
   "metadata": {},
   "outputs": [],
   "source": [
    "products['predicted_sentiment'] = sentiment_classifier.predict(x)"
   ]
  },
  {
   "cell_type": "code",
   "execution_count": 66,
   "metadata": {},
   "outputs": [],
   "source": [
    "y_predicted_test = sentiment_classifier.predict(x_test)"
   ]
  },
  {
   "cell_type": "code",
   "execution_count": 67,
   "metadata": {},
   "outputs": [
    {
     "data": {
      "text/html": [
       "<div>\n",
       "<style scoped>\n",
       "    .dataframe tbody tr th:only-of-type {\n",
       "        vertical-align: middle;\n",
       "    }\n",
       "\n",
       "    .dataframe tbody tr th {\n",
       "        vertical-align: top;\n",
       "    }\n",
       "\n",
       "    .dataframe thead th {\n",
       "        text-align: right;\n",
       "    }\n",
       "</style>\n",
       "<table border=\"1\" class=\"dataframe\">\n",
       "  <thead>\n",
       "    <tr style=\"text-align: right;\">\n",
       "      <th></th>\n",
       "      <th>name</th>\n",
       "      <th>review</th>\n",
       "      <th>rating</th>\n",
       "      <th>review_lower</th>\n",
       "      <th>word_count</th>\n",
       "      <th>sentiment</th>\n",
       "      <th>predicted_sentiment</th>\n",
       "    </tr>\n",
       "  </thead>\n",
       "  <tbody>\n",
       "    <tr>\n",
       "      <th>1</th>\n",
       "      <td>Planetwise Wipe Pouch</td>\n",
       "      <td>it came early and was not disappointed. i love...</td>\n",
       "      <td>5</td>\n",
       "      <td>came early disappointed love planet wise bags ...</td>\n",
       "      <td>{'it': 2, 'came': 1, 'early': 1, 'and': 3, 'wa...</td>\n",
       "      <td>1</td>\n",
       "      <td>1</td>\n",
       "    </tr>\n",
       "    <tr>\n",
       "      <th>2</th>\n",
       "      <td>Annas Dream Full Quilt with 2 Shams</td>\n",
       "      <td>Very soft and comfortable and warmer than it l...</td>\n",
       "      <td>5</td>\n",
       "      <td>soft comfortable warmer looks fit full size be...</td>\n",
       "      <td>{'very': 1, 'soft': 1, 'and': 2, 'comfortable'...</td>\n",
       "      <td>1</td>\n",
       "      <td>1</td>\n",
       "    </tr>\n",
       "    <tr>\n",
       "      <th>3</th>\n",
       "      <td>Stop Pacifier Sucking without tears with Thumb...</td>\n",
       "      <td>This is a product well worth the purchase.  I ...</td>\n",
       "      <td>5</td>\n",
       "      <td>product well worth purchase found anything els...</td>\n",
       "      <td>{'this': 3, 'is': 4, 'a': 2, 'product': 2, 'we...</td>\n",
       "      <td>1</td>\n",
       "      <td>1</td>\n",
       "    </tr>\n",
       "    <tr>\n",
       "      <th>4</th>\n",
       "      <td>Stop Pacifier Sucking without tears with Thumb...</td>\n",
       "      <td>All of my kids have cried non-stop when I trie...</td>\n",
       "      <td>5</td>\n",
       "      <td>kids cried non stop tried ween pacifier found ...</td>\n",
       "      <td>{'all': 2, 'of': 1, 'my': 1, 'kids': 2, 'have'...</td>\n",
       "      <td>1</td>\n",
       "      <td>1</td>\n",
       "    </tr>\n",
       "    <tr>\n",
       "      <th>5</th>\n",
       "      <td>Stop Pacifier Sucking without tears with Thumb...</td>\n",
       "      <td>When the Binky Fairy came to our house, we did...</td>\n",
       "      <td>5</td>\n",
       "      <td>binky fairy came house special gift book help ...</td>\n",
       "      <td>{'when': 2, 'the': 6, 'binky': 3, 'fairy': 3, ...</td>\n",
       "      <td>1</td>\n",
       "      <td>1</td>\n",
       "    </tr>\n",
       "  </tbody>\n",
       "</table>\n",
       "</div>"
      ],
      "text/plain": [
       "                                                name  \\\n",
       "1                              Planetwise Wipe Pouch   \n",
       "2                Annas Dream Full Quilt with 2 Shams   \n",
       "3  Stop Pacifier Sucking without tears with Thumb...   \n",
       "4  Stop Pacifier Sucking without tears with Thumb...   \n",
       "5  Stop Pacifier Sucking without tears with Thumb...   \n",
       "\n",
       "                                              review  rating  \\\n",
       "1  it came early and was not disappointed. i love...       5   \n",
       "2  Very soft and comfortable and warmer than it l...       5   \n",
       "3  This is a product well worth the purchase.  I ...       5   \n",
       "4  All of my kids have cried non-stop when I trie...       5   \n",
       "5  When the Binky Fairy came to our house, we did...       5   \n",
       "\n",
       "                                        review_lower  \\\n",
       "1  came early disappointed love planet wise bags ...   \n",
       "2  soft comfortable warmer looks fit full size be...   \n",
       "3  product well worth purchase found anything els...   \n",
       "4  kids cried non stop tried ween pacifier found ...   \n",
       "5  binky fairy came house special gift book help ...   \n",
       "\n",
       "                                          word_count  sentiment  \\\n",
       "1  {'it': 2, 'came': 1, 'early': 1, 'and': 3, 'wa...          1   \n",
       "2  {'very': 1, 'soft': 1, 'and': 2, 'comfortable'...          1   \n",
       "3  {'this': 3, 'is': 4, 'a': 2, 'product': 2, 'we...          1   \n",
       "4  {'all': 2, 'of': 1, 'my': 1, 'kids': 2, 'have'...          1   \n",
       "5  {'when': 2, 'the': 6, 'binky': 3, 'fairy': 3, ...          1   \n",
       "\n",
       "   predicted_sentiment  \n",
       "1                    1  \n",
       "2                    1  \n",
       "3                    1  \n",
       "4                    1  \n",
       "5                    1  "
      ]
     },
     "execution_count": 67,
     "metadata": {},
     "output_type": "execute_result"
    }
   ],
   "source": [
    "products.head()"
   ]
  },
  {
   "cell_type": "code",
   "execution_count": 68,
   "metadata": {},
   "outputs": [
    {
     "name": "stdout",
     "output_type": "stream",
     "text": [
      "F1 score:  0.9647542825534562\n"
     ]
    }
   ],
   "source": [
    "print(\"F1 score: \", f1_score(y_test, y_predicted_test))"
   ]
  },
  {
   "cell_type": "markdown",
   "metadata": {},
   "source": [
    "# Confusion matrix for model using all words for TIDIF Vectorized reviews"
   ]
  },
  {
   "cell_type": "code",
   "execution_count": 69,
   "metadata": {},
   "outputs": [],
   "source": [
    "cnf_matrix_all_words = metrics.confusion_matrix(np.squeeze(y_test), np.squeeze(y_predicted_test))"
   ]
  },
  {
   "cell_type": "code",
   "execution_count": 70,
   "metadata": {},
   "outputs": [
    {
     "data": {
      "text/plain": [
       "array([[ 3406,  1426],\n",
       "       [  613, 27906]], dtype=int64)"
      ]
     },
     "execution_count": 70,
     "metadata": {},
     "output_type": "execute_result"
    }
   ],
   "source": [
    "cnf_matrix_all_words"
   ]
  },
  {
   "cell_type": "code",
   "execution_count": 71,
   "metadata": {},
   "outputs": [
    {
     "data": {
      "image/png": "[encoded data removed]",
      "text/plain": [
       "<Figure size 1008x432 with 2 Axes>"
      ]
     },
     "metadata": {},
     "output_type": "display_data"
    }
   ],
   "source": [
    "sn.heatmap(cnf_matrix_all_words, annot=True)\n",
    "plt.show()"
   ]
  },
  {
   "cell_type": "markdown",
   "metadata": {},
   "source": [
    "# Build a model With cleaned data"
   ]
  },
  {
   "cell_type": "markdown",
   "metadata": {},
   "source": [
    "# Build model with Bag of words and cleaned data(word count vectorizer)"
   ]
  },
  {
   "cell_type": "code",
   "execution_count": 72,
   "metadata": {},
   "outputs": [],
   "source": [
    "x_BOW_cln = products['review_lower']\n",
    "y_BOW_cln = products['sentiment']\n",
    "x_BOW_cln = count_vect.fit_transform(x_BOW_cln)"
   ]
  },
  {
   "cell_type": "code",
   "execution_count": 73,
   "metadata": {},
   "outputs": [],
   "source": [
    "# Splitting into train and test sets of the cleaned reviews with respect to BOW Vectorizer\n",
    "x_train_BOW_cln, x_test_BOW_cln, y_train_BOW_cln, y_test_BOW_cln = train_test_split(x_BOW_cln, y_BOW_cln, test_size=0.2, shuffle=False, random_state = 0)"
   ]
  },
  {
   "cell_type": "code",
   "execution_count": 74,
   "metadata": {},
   "outputs": [],
   "source": [
    "sentiment_classifier_BOW_cln = LogisticRegression(random_state=0, fit_intercept=True)"
   ]
  },
  {
   "cell_type": "code",
   "execution_count": 75,
   "metadata": {},
   "outputs": [
    {
     "data": {
      "text/plain": [
       "LogisticRegression(C=1.0, class_weight=None, dual=False, fit_intercept=True,\n",
       "                   intercept_scaling=1, l1_ratio=None, max_iter=100,\n",
       "                   multi_class='warn', n_jobs=None, penalty='l2',\n",
       "                   random_state=0, solver='warn', tol=0.0001, verbose=0,\n",
       "                   warm_start=False)"
      ]
     },
     "execution_count": 75,
     "metadata": {},
     "output_type": "execute_result"
    }
   ],
   "source": [
    "sentiment_classifier_BOW_cln.fit(x_train_BOW_cln, y_train_BOW_cln)"
   ]
  },
  {
   "cell_type": "code",
   "execution_count": 76,
   "metadata": {},
   "outputs": [],
   "source": [
    "y_predicted_test_BOW_cln = sentiment_classifier_BOW_cln.predict(x_test_BOW_cln)"
   ]
  },
  {
   "cell_type": "code",
   "execution_count": 77,
   "metadata": {},
   "outputs": [
    {
     "name": "stdout",
     "output_type": "stream",
     "text": [
      "F1 score:  0.959936285882475\n"
     ]
    }
   ],
   "source": [
    "print(\"F1 score: \", f1_score(y_test_BOW_cln, y_predicted_test_BOW_cln))"
   ]
  },
  {
   "cell_type": "markdown",
   "metadata": {},
   "source": [
    "# Confusion matrix for model using cleaned review column and BOW Vectorized reviews"
   ]
  },
  {
   "cell_type": "code",
   "execution_count": 78,
   "metadata": {},
   "outputs": [],
   "source": [
    "cnf_matrix_BOW_cln = metrics.confusion_matrix(np.squeeze(y_test_BOW_cln), np.squeeze(y_predicted_test_BOW_cln))"
   ]
  },
  {
   "cell_type": "code",
   "execution_count": 79,
   "metadata": {},
   "outputs": [
    {
     "data": {
      "text/plain": [
       "array([[ 3315,  1517],\n",
       "       [  797, 27722]], dtype=int64)"
      ]
     },
     "execution_count": 79,
     "metadata": {},
     "output_type": "execute_result"
    }
   ],
   "source": [
    "cnf_matrix_BOW_cln"
   ]
  },
  {
   "cell_type": "code",
   "execution_count": 80,
   "metadata": {},
   "outputs": [
    {
     "data": {
      "image/png": "[encoded data removed]",
      "text/plain": [
       "<Figure size 1008x432 with 2 Axes>"
      ]
     },
     "metadata": {},
     "output_type": "display_data"
    }
   ],
   "source": [
    "sn.heatmap(cnf_matrix_BOW_cln, annot=True)\n",
    "plt.show()"
   ]
  },
  {
   "cell_type": "markdown",
   "metadata": {},
   "source": [
    "# Build model with TIDIF and cleaned data"
   ]
  },
  {
   "cell_type": "code",
   "execution_count": 81,
   "metadata": {},
   "outputs": [],
   "source": [
    "x_cln = products['review_lower']\n",
    "y_cln = products['sentiment']\n",
    "\n",
    "x_cln = tfidf.fit_transform(x_cln)"
   ]
  },
  {
   "cell_type": "code",
   "execution_count": 82,
   "metadata": {},
   "outputs": [],
   "source": [
    "# Splitting with respect to TIDIF vectorizer\n",
    "x_train_cln, x_test_cln, y_train_cln, y_test_cln = train_test_split(x_cln, y_cln, test_size=0.2, shuffle=False, random_state = 0)"
   ]
  },
  {
   "cell_type": "code",
   "execution_count": 83,
   "metadata": {},
   "outputs": [],
   "source": [
    "sentiment_classifier_cln = LogisticRegression(random_state=0, fit_intercept=True)"
   ]
  },
  {
   "cell_type": "code",
   "execution_count": 84,
   "metadata": {},
   "outputs": [
    {
     "data": {
      "text/plain": [
       "LogisticRegression(C=1.0, class_weight=None, dual=False, fit_intercept=True,\n",
       "                   intercept_scaling=1, l1_ratio=None, max_iter=100,\n",
       "                   multi_class='warn', n_jobs=None, penalty='l2',\n",
       "                   random_state=0, solver='warn', tol=0.0001, verbose=0,\n",
       "                   warm_start=False)"
      ]
     },
     "execution_count": 84,
     "metadata": {},
     "output_type": "execute_result"
    }
   ],
   "source": [
    "sentiment_classifier_cln.fit(x_train_cln, y_train_cln)"
   ]
  },
  {
   "cell_type": "code",
   "execution_count": 85,
   "metadata": {},
   "outputs": [],
   "source": [
    "y_predicted_test_cln = sentiment_classifier_cln.predict(x_test_cln)"
   ]
  },
  {
   "cell_type": "code",
   "execution_count": 86,
   "metadata": {},
   "outputs": [
    {
     "name": "stdout",
     "output_type": "stream",
     "text": [
      "F1 score:  0.962175960261474\n"
     ]
    }
   ],
   "source": [
    "print(\"F1 score: \", f1_score(y_test_cln, y_predicted_test_cln))"
   ]
  },
  {
   "cell_type": "markdown",
   "metadata": {},
   "source": [
    "# Confusion matrix for model using cleaned review column and TIDIF Vectorized reviews"
   ]
  },
  {
   "cell_type": "code",
   "execution_count": 87,
   "metadata": {},
   "outputs": [],
   "source": [
    "cnf_matrix_TIDIF_cln = metrics.confusion_matrix(np.squeeze(y_test_cln), np.squeeze(y_predicted_test_cln))"
   ]
  },
  {
   "cell_type": "code",
   "execution_count": 88,
   "metadata": {},
   "outputs": [
    {
     "data": {
      "text/plain": [
       "array([[ 3265,  1567],\n",
       "       [  626, 27893]], dtype=int64)"
      ]
     },
     "execution_count": 88,
     "metadata": {},
     "output_type": "execute_result"
    }
   ],
   "source": [
    "cnf_matrix_TIDIF_cln"
   ]
  },
  {
   "cell_type": "code",
   "execution_count": 89,
   "metadata": {},
   "outputs": [
    {
     "data": {
      "image/png": "[encoded data removed]",
      "text/plain": [
       "<Figure size 1008x432 with 2 Axes>"
      ]
     },
     "metadata": {},
     "output_type": "display_data"
    }
   ],
   "source": [
    "sn.heatmap(cnf_matrix_TIDIF_cln, annot=True)\n",
    "plt.show()"
   ]
  },
  {
   "cell_type": "markdown",
   "metadata": {},
   "source": [
    "# ROC score of the model which took all the words into consideration"
   ]
  },
  {
   "cell_type": "code",
   "execution_count": 90,
   "metadata": {},
   "outputs": [
    {
     "name": "stdout",
     "output_type": "stream",
     "text": [
      "ROC score for BOW before cleaning reviews is :  0.9806147662741771\n"
     ]
    }
   ],
   "source": [
    "print(\"ROC score for BOW before cleaning reviews is : \", metrics.roc_auc_score(y_BOW, sentiment_classifier_BOW.decision_function(x_BOW)))"
   ]
  },
  {
   "cell_type": "code",
   "execution_count": 91,
   "metadata": {},
   "outputs": [
    {
     "name": "stdout",
     "output_type": "stream",
     "text": [
      "ROC score for BOW and cleaned reviews is :  0.9789300291034805\n"
     ]
    }
   ],
   "source": [
    "print(\"ROC score for BOW and cleaned reviews is : \", metrics.roc_auc_score(y_BOW_cln, sentiment_classifier_BOW_cln.decision_function(x_BOW_cln)))"
   ]
  },
  {
   "cell_type": "code",
   "execution_count": 92,
   "metadata": {},
   "outputs": [
    {
     "name": "stdout",
     "output_type": "stream",
     "text": [
      "ROC score for TIDIF befor cleaning reviews is :  0.9719608758361417\n"
     ]
    }
   ],
   "source": [
    "print(\"ROC score for TIDIF befor cleaning reviews is : \" , metrics.roc_auc_score(y, sentiment_classifier.decision_function(x)))"
   ]
  },
  {
   "cell_type": "code",
   "execution_count": 93,
   "metadata": {},
   "outputs": [
    {
     "name": "stdout",
     "output_type": "stream",
     "text": [
      "ROC score for TIDIF and cleaned reviews is :  0.966755027364788\n"
     ]
    }
   ],
   "source": [
    "print(\"ROC score for TIDIF and cleaned reviews is : \" , metrics.roc_auc_score(y_cln, sentiment_classifier_cln.decision_function(x_cln)))"
   ]
  },
  {
   "cell_type": "code",
   "execution_count": 94,
   "metadata": {},
   "outputs": [],
   "source": [
    "giraffe_reviews = products[products['name']== 'Vulli Sophie the Giraffe Teether']"
   ]
  },
  {
   "cell_type": "code",
   "execution_count": 95,
   "metadata": {},
   "outputs": [
    {
     "data": {
      "text/html": [
       "<div>\n",
       "<style scoped>\n",
       "    .dataframe tbody tr th:only-of-type {\n",
       "        vertical-align: middle;\n",
       "    }\n",
       "\n",
       "    .dataframe tbody tr th {\n",
       "        vertical-align: top;\n",
       "    }\n",
       "\n",
       "    .dataframe thead th {\n",
       "        text-align: right;\n",
       "    }\n",
       "</style>\n",
       "<table border=\"1\" class=\"dataframe\">\n",
       "  <thead>\n",
       "    <tr style=\"text-align: right;\">\n",
       "      <th></th>\n",
       "      <th>name</th>\n",
       "      <th>review</th>\n",
       "      <th>rating</th>\n",
       "      <th>review_lower</th>\n",
       "      <th>word_count</th>\n",
       "      <th>sentiment</th>\n",
       "      <th>predicted_sentiment</th>\n",
       "    </tr>\n",
       "  </thead>\n",
       "  <tbody>\n",
       "    <tr>\n",
       "      <th>34313</th>\n",
       "      <td>Vulli Sophie the Giraffe Teether</td>\n",
       "      <td>He likes chewing on all the parts especially t...</td>\n",
       "      <td>5</td>\n",
       "      <td>likes chewing parts especially head ears helpe...</td>\n",
       "      <td>{'he': 2, 'likes': 1, 'chewing': 1, 'on': 1, '...</td>\n",
       "      <td>1</td>\n",
       "      <td>1</td>\n",
       "    </tr>\n",
       "    <tr>\n",
       "      <th>34314</th>\n",
       "      <td>Vulli Sophie the Giraffe Teether</td>\n",
       "      <td>My son loves this toy and fits great in the di...</td>\n",
       "      <td>5</td>\n",
       "      <td>son loves toy fits great diaper bag also easy ...</td>\n",
       "      <td>{'my': 1, 'son': 1, 'loves': 1, 'this': 1, 'to...</td>\n",
       "      <td>1</td>\n",
       "      <td>1</td>\n",
       "    </tr>\n",
       "    <tr>\n",
       "      <th>34315</th>\n",
       "      <td>Vulli Sophie the Giraffe Teether</td>\n",
       "      <td>There really should be a large warning on the ...</td>\n",
       "      <td>1</td>\n",
       "      <td>really large warning box sheesh 2011 many anap...</td>\n",
       "      <td>{'there': 2, 'really': 1, 'should': 1, 'be': 1...</td>\n",
       "      <td>0</td>\n",
       "      <td>0</td>\n",
       "    </tr>\n",
       "    <tr>\n",
       "      <th>34316</th>\n",
       "      <td>Vulli Sophie the Giraffe Teether</td>\n",
       "      <td>All the moms in my moms\\' group got Sophie for...</td>\n",
       "      <td>5</td>\n",
       "      <td>moms moms group got sophie babies wondered som...</td>\n",
       "      <td>{'all': 1, 'the': 2, 'moms': 1, 'in': 1, 'my':...</td>\n",
       "      <td>1</td>\n",
       "      <td>1</td>\n",
       "    </tr>\n",
       "    <tr>\n",
       "      <th>34317</th>\n",
       "      <td>Vulli Sophie the Giraffe Teether</td>\n",
       "      <td>I was a little skeptical on whether Sophie was...</td>\n",
       "      <td>5</td>\n",
       "      <td>little skeptical whether sophie going worth mo...</td>\n",
       "      <td>{'i': 4, 'was': 2, 'a': 1, 'little': 1, 'skept...</td>\n",
       "      <td>1</td>\n",
       "      <td>0</td>\n",
       "    </tr>\n",
       "    <tr>\n",
       "      <th>...</th>\n",
       "      <td>...</td>\n",
       "      <td>...</td>\n",
       "      <td>...</td>\n",
       "      <td>...</td>\n",
       "      <td>...</td>\n",
       "      <td>...</td>\n",
       "      <td>...</td>\n",
       "    </tr>\n",
       "    <tr>\n",
       "      <th>159649</th>\n",
       "      <td>Vulli Sophie the Giraffe Teether</td>\n",
       "      <td>My baby loves her Sophie Chew Toy. She can che...</td>\n",
       "      <td>5</td>\n",
       "      <td>baby loves sophie chew toy chew sides feet squ...</td>\n",
       "      <td>{'my': 2, 'baby': 1, 'loves': 1, 'her': 1, 'so...</td>\n",
       "      <td>1</td>\n",
       "      <td>1</td>\n",
       "    </tr>\n",
       "    <tr>\n",
       "      <th>159650</th>\n",
       "      <td>Vulli Sophie the Giraffe Teether</td>\n",
       "      <td>Sophie the Giraffe was a big hit at the baby s...</td>\n",
       "      <td>5</td>\n",
       "      <td>sophie giraffe big hit baby shower daughter kn...</td>\n",
       "      <td>{'sophie': 1, 'the': 2, 'giraffe': 1, 'was': 1...</td>\n",
       "      <td>1</td>\n",
       "      <td>1</td>\n",
       "    </tr>\n",
       "    <tr>\n",
       "      <th>159651</th>\n",
       "      <td>Vulli Sophie the Giraffe Teether</td>\n",
       "      <td>quick shipping and perfect product. I would pu...</td>\n",
       "      <td>5</td>\n",
       "      <td>quick shipping perfect product would purchase ...</td>\n",
       "      <td>{'quick': 1, 'shipping': 1, 'and': 1, 'perfect...</td>\n",
       "      <td>1</td>\n",
       "      <td>1</td>\n",
       "    </tr>\n",
       "    <tr>\n",
       "      <th>159652</th>\n",
       "      <td>Vulli Sophie the Giraffe Teether</td>\n",
       "      <td>My baby who is currently teething love his Sop...</td>\n",
       "      <td>5</td>\n",
       "      <td>baby currently teething love sophie little bit...</td>\n",
       "      <td>{'my': 1, 'baby': 1, 'who': 1, 'is': 1, 'curre...</td>\n",
       "      <td>1</td>\n",
       "      <td>1</td>\n",
       "    </tr>\n",
       "    <tr>\n",
       "      <th>159653</th>\n",
       "      <td>Vulli Sophie the Giraffe Teether</td>\n",
       "      <td>I know several baits that are enjoying the sof...</td>\n",
       "      <td>5</td>\n",
       "      <td>know several baits enjoying soft flexible soph...</td>\n",
       "      <td>{'i': 1, 'know': 1, 'several': 1, 'baits': 1, ...</td>\n",
       "      <td>1</td>\n",
       "      <td>1</td>\n",
       "    </tr>\n",
       "  </tbody>\n",
       "</table>\n",
       "<p>723 rows × 7 columns</p>\n",
       "</div>"
      ],
      "text/plain": [
       "                                    name  \\\n",
       "34313   Vulli Sophie the Giraffe Teether   \n",
       "34314   Vulli Sophie the Giraffe Teether   \n",
       "34315   Vulli Sophie the Giraffe Teether   \n",
       "34316   Vulli Sophie the Giraffe Teether   \n",
       "34317   Vulli Sophie the Giraffe Teether   \n",
       "...                                  ...   \n",
       "159649  Vulli Sophie the Giraffe Teether   \n",
       "159650  Vulli Sophie the Giraffe Teether   \n",
       "159651  Vulli Sophie the Giraffe Teether   \n",
       "159652  Vulli Sophie the Giraffe Teether   \n",
       "159653  Vulli Sophie the Giraffe Teether   \n",
       "\n",
       "                                                   review  rating  \\\n",
       "34313   He likes chewing on all the parts especially t...       5   \n",
       "34314   My son loves this toy and fits great in the di...       5   \n",
       "34315   There really should be a large warning on the ...       1   \n",
       "34316   All the moms in my moms\\' group got Sophie for...       5   \n",
       "34317   I was a little skeptical on whether Sophie was...       5   \n",
       "...                                                   ...     ...   \n",
       "159649  My baby loves her Sophie Chew Toy. She can che...       5   \n",
       "159650  Sophie the Giraffe was a big hit at the baby s...       5   \n",
       "159651  quick shipping and perfect product. I would pu...       5   \n",
       "159652  My baby who is currently teething love his Sop...       5   \n",
       "159653  I know several baits that are enjoying the sof...       5   \n",
       "\n",
       "                                             review_lower  \\\n",
       "34313   likes chewing parts especially head ears helpe...   \n",
       "34314   son loves toy fits great diaper bag also easy ...   \n",
       "34315   really large warning box sheesh 2011 many anap...   \n",
       "34316   moms moms group got sophie babies wondered som...   \n",
       "34317   little skeptical whether sophie going worth mo...   \n",
       "...                                                   ...   \n",
       "159649  baby loves sophie chew toy chew sides feet squ...   \n",
       "159650  sophie giraffe big hit baby shower daughter kn...   \n",
       "159651  quick shipping perfect product would purchase ...   \n",
       "159652  baby currently teething love sophie little bit...   \n",
       "159653  know several baits enjoying soft flexible soph...   \n",
       "\n",
       "                                               word_count  sentiment  \\\n",
       "34313   {'he': 2, 'likes': 1, 'chewing': 1, 'on': 1, '...          1   \n",
       "34314   {'my': 1, 'son': 1, 'loves': 1, 'this': 1, 'to...          1   \n",
       "34315   {'there': 2, 'really': 1, 'should': 1, 'be': 1...          0   \n",
       "34316   {'all': 1, 'the': 2, 'moms': 1, 'in': 1, 'my':...          1   \n",
       "34317   {'i': 4, 'was': 2, 'a': 1, 'little': 1, 'skept...          1   \n",
       "...                                                   ...        ...   \n",
       "159649  {'my': 2, 'baby': 1, 'loves': 1, 'her': 1, 'so...          1   \n",
       "159650  {'sophie': 1, 'the': 2, 'giraffe': 1, 'was': 1...          1   \n",
       "159651  {'quick': 1, 'shipping': 1, 'and': 1, 'perfect...          1   \n",
       "159652  {'my': 1, 'baby': 1, 'who': 1, 'is': 1, 'curre...          1   \n",
       "159653  {'i': 1, 'know': 1, 'several': 1, 'baits': 1, ...          1   \n",
       "\n",
       "        predicted_sentiment  \n",
       "34313                     1  \n",
       "34314                     1  \n",
       "34315                     0  \n",
       "34316                     1  \n",
       "34317                     0  \n",
       "...                     ...  \n",
       "159649                    1  \n",
       "159650                    1  \n",
       "159651                    1  \n",
       "159652                    1  \n",
       "159653                    1  \n",
       "\n",
       "[723 rows x 7 columns]"
      ]
     },
     "execution_count": 95,
     "metadata": {},
     "output_type": "execute_result"
    }
   ],
   "source": [
    "giraffe_reviews"
   ]
  },
  {
   "cell_type": "code",
   "execution_count": 96,
   "metadata": {},
   "outputs": [],
   "source": [
    "giraffe_reviews = giraffe_reviews.sort_values('predicted_sentiment', ascending=False)"
   ]
  },
  {
   "cell_type": "code",
   "execution_count": 97,
   "metadata": {},
   "outputs": [
    {
     "data": {
      "text/html": [
       "<div>\n",
       "<style scoped>\n",
       "    .dataframe tbody tr th:only-of-type {\n",
       "        vertical-align: middle;\n",
       "    }\n",
       "\n",
       "    .dataframe tbody tr th {\n",
       "        vertical-align: top;\n",
       "    }\n",
       "\n",
       "    .dataframe thead th {\n",
       "        text-align: right;\n",
       "    }\n",
       "</style>\n",
       "<table border=\"1\" class=\"dataframe\">\n",
       "  <thead>\n",
       "    <tr style=\"text-align: right;\">\n",
       "      <th></th>\n",
       "      <th>name</th>\n",
       "      <th>review</th>\n",
       "      <th>rating</th>\n",
       "      <th>review_lower</th>\n",
       "      <th>word_count</th>\n",
       "      <th>sentiment</th>\n",
       "      <th>predicted_sentiment</th>\n",
       "    </tr>\n",
       "  </thead>\n",
       "  <tbody>\n",
       "    <tr>\n",
       "      <th>34313</th>\n",
       "      <td>Vulli Sophie the Giraffe Teether</td>\n",
       "      <td>He likes chewing on all the parts especially t...</td>\n",
       "      <td>5</td>\n",
       "      <td>likes chewing parts especially head ears helpe...</td>\n",
       "      <td>{'he': 2, 'likes': 1, 'chewing': 1, 'on': 1, '...</td>\n",
       "      <td>1</td>\n",
       "      <td>1</td>\n",
       "    </tr>\n",
       "    <tr>\n",
       "      <th>34827</th>\n",
       "      <td>Vulli Sophie the Giraffe Teether</td>\n",
       "      <td>We recently received a present of this toy. My...</td>\n",
       "      <td>1</td>\n",
       "      <td>recently received present toy 6 month old daug...</td>\n",
       "      <td>{'we': 1, 'recently': 1, 'received': 1, 'a': 1...</td>\n",
       "      <td>0</td>\n",
       "      <td>1</td>\n",
       "    </tr>\n",
       "    <tr>\n",
       "      <th>34818</th>\n",
       "      <td>Vulli Sophie the Giraffe Teether</td>\n",
       "      <td>My daughter started using this teether at 4 mo...</td>\n",
       "      <td>5</td>\n",
       "      <td>daughter started using teether 4 months six mo...</td>\n",
       "      <td>{'my': 1, 'daughter': 1, 'started': 1, 'using'...</td>\n",
       "      <td>1</td>\n",
       "      <td>1</td>\n",
       "    </tr>\n",
       "    <tr>\n",
       "      <th>34819</th>\n",
       "      <td>Vulli Sophie the Giraffe Teether</td>\n",
       "      <td>My son loves his Weedee as he calls it do much...</td>\n",
       "      <td>5</td>\n",
       "      <td>son loves weedee calls much got one gift frien...</td>\n",
       "      <td>{'my': 1, 'son': 1, 'loves': 1, 'his': 1, 'wee...</td>\n",
       "      <td>1</td>\n",
       "      <td>1</td>\n",
       "    </tr>\n",
       "    <tr>\n",
       "      <th>34820</th>\n",
       "      <td>Vulli Sophie the Giraffe Teether</td>\n",
       "      <td>When I first recevied the gift I thought it wa...</td>\n",
       "      <td>5</td>\n",
       "      <td>first recevied gift thought super cute sure ba...</td>\n",
       "      <td>{'when': 1, 'i': 5, 'first': 1, 'recevied': 1,...</td>\n",
       "      <td>1</td>\n",
       "      <td>1</td>\n",
       "    </tr>\n",
       "  </tbody>\n",
       "</table>\n",
       "</div>"
      ],
      "text/plain": [
       "                                   name  \\\n",
       "34313  Vulli Sophie the Giraffe Teether   \n",
       "34827  Vulli Sophie the Giraffe Teether   \n",
       "34818  Vulli Sophie the Giraffe Teether   \n",
       "34819  Vulli Sophie the Giraffe Teether   \n",
       "34820  Vulli Sophie the Giraffe Teether   \n",
       "\n",
       "                                                  review  rating  \\\n",
       "34313  He likes chewing on all the parts especially t...       5   \n",
       "34827  We recently received a present of this toy. My...       1   \n",
       "34818  My daughter started using this teether at 4 mo...       5   \n",
       "34819  My son loves his Weedee as he calls it do much...       5   \n",
       "34820  When I first recevied the gift I thought it wa...       5   \n",
       "\n",
       "                                            review_lower  \\\n",
       "34313  likes chewing parts especially head ears helpe...   \n",
       "34827  recently received present toy 6 month old daug...   \n",
       "34818  daughter started using teether 4 months six mo...   \n",
       "34819  son loves weedee calls much got one gift frien...   \n",
       "34820  first recevied gift thought super cute sure ba...   \n",
       "\n",
       "                                              word_count  sentiment  \\\n",
       "34313  {'he': 2, 'likes': 1, 'chewing': 1, 'on': 1, '...          1   \n",
       "34827  {'we': 1, 'recently': 1, 'received': 1, 'a': 1...          0   \n",
       "34818  {'my': 1, 'daughter': 1, 'started': 1, 'using'...          1   \n",
       "34819  {'my': 1, 'son': 1, 'loves': 1, 'his': 1, 'wee...          1   \n",
       "34820  {'when': 1, 'i': 5, 'first': 1, 'recevied': 1,...          1   \n",
       "\n",
       "       predicted_sentiment  \n",
       "34313                    1  \n",
       "34827                    1  \n",
       "34818                    1  \n",
       "34819                    1  \n",
       "34820                    1  "
      ]
     },
     "execution_count": 97,
     "metadata": {},
     "output_type": "execute_result"
    }
   ],
   "source": [
    "giraffe_reviews.head()"
   ]
  },
  {
   "cell_type": "code",
   "execution_count": 98,
   "metadata": {},
   "outputs": [
    {
     "data": {
      "text/html": [
       "<div>\n",
       "<style scoped>\n",
       "    .dataframe tbody tr th:only-of-type {\n",
       "        vertical-align: middle;\n",
       "    }\n",
       "\n",
       "    .dataframe tbody tr th {\n",
       "        vertical-align: top;\n",
       "    }\n",
       "\n",
       "    .dataframe thead th {\n",
       "        text-align: right;\n",
       "    }\n",
       "</style>\n",
       "<table border=\"1\" class=\"dataframe\">\n",
       "  <thead>\n",
       "    <tr style=\"text-align: right;\">\n",
       "      <th></th>\n",
       "      <th>name</th>\n",
       "      <th>review</th>\n",
       "      <th>rating</th>\n",
       "      <th>review_lower</th>\n",
       "      <th>word_count</th>\n",
       "      <th>sentiment</th>\n",
       "      <th>predicted_sentiment</th>\n",
       "    </tr>\n",
       "  </thead>\n",
       "  <tbody>\n",
       "    <tr>\n",
       "      <th>34732</th>\n",
       "      <td>Vulli Sophie the Giraffe Teether</td>\n",
       "      <td>Received the product and smells like cheap rub...</td>\n",
       "      <td>1</td>\n",
       "      <td>received product smells like cheap rubber bigg...</td>\n",
       "      <td>{'received': 1, 'the': 1, 'product': 1, 'and':...</td>\n",
       "      <td>0</td>\n",
       "      <td>0</td>\n",
       "    </tr>\n",
       "    <tr>\n",
       "      <th>34734</th>\n",
       "      <td>Vulli Sophie the Giraffe Teether</td>\n",
       "      <td>i know everyone loves this thing, but we took ...</td>\n",
       "      <td>1</td>\n",
       "      <td>know everyone loves thing took away son 3 mont...</td>\n",
       "      <td>{'i': 1, 'know': 1, 'everyone': 1, 'loves': 1,...</td>\n",
       "      <td>0</td>\n",
       "      <td>0</td>\n",
       "    </tr>\n",
       "    <tr>\n",
       "      <th>34566</th>\n",
       "      <td>Vulli Sophie the Giraffe Teether</td>\n",
       "      <td>I bought this for my teething 6mo old, all the...</td>\n",
       "      <td>2</td>\n",
       "      <td>bought teething 6mo old reviews great however ...</td>\n",
       "      <td>{'i': 8, 'bought': 1, 'this': 2, 'for': 2, 'my...</td>\n",
       "      <td>0</td>\n",
       "      <td>0</td>\n",
       "    </tr>\n",
       "    <tr>\n",
       "      <th>34834</th>\n",
       "      <td>Vulli Sophie the Giraffe Teether</td>\n",
       "      <td>I received this toy within the estimated time ...</td>\n",
       "      <td>5</td>\n",
       "      <td>received toy within estimated time arrival mak...</td>\n",
       "      <td>{'i': 3, 'received': 1, 'this': 3, 'toy': 1, '...</td>\n",
       "      <td>1</td>\n",
       "      <td>0</td>\n",
       "    </tr>\n",
       "    <tr>\n",
       "      <th>34586</th>\n",
       "      <td>Vulli Sophie the Giraffe Teether</td>\n",
       "      <td>I thought it was really good toy and bought it...</td>\n",
       "      <td>1</td>\n",
       "      <td>thought really good toy bought cheap tires hor...</td>\n",
       "      <td>{'i': 1, 'thought': 1, 'it': 1, 'was': 1, 'rea...</td>\n",
       "      <td>0</td>\n",
       "      <td>0</td>\n",
       "    </tr>\n",
       "  </tbody>\n",
       "</table>\n",
       "</div>"
      ],
      "text/plain": [
       "                                   name  \\\n",
       "34732  Vulli Sophie the Giraffe Teether   \n",
       "34734  Vulli Sophie the Giraffe Teether   \n",
       "34566  Vulli Sophie the Giraffe Teether   \n",
       "34834  Vulli Sophie the Giraffe Teether   \n",
       "34586  Vulli Sophie the Giraffe Teether   \n",
       "\n",
       "                                                  review  rating  \\\n",
       "34732  Received the product and smells like cheap rub...       1   \n",
       "34734  i know everyone loves this thing, but we took ...       1   \n",
       "34566  I bought this for my teething 6mo old, all the...       2   \n",
       "34834  I received this toy within the estimated time ...       5   \n",
       "34586  I thought it was really good toy and bought it...       1   \n",
       "\n",
       "                                            review_lower  \\\n",
       "34732  received product smells like cheap rubber bigg...   \n",
       "34734  know everyone loves thing took away son 3 mont...   \n",
       "34566  bought teething 6mo old reviews great however ...   \n",
       "34834  received toy within estimated time arrival mak...   \n",
       "34586  thought really good toy bought cheap tires hor...   \n",
       "\n",
       "                                              word_count  sentiment  \\\n",
       "34732  {'received': 1, 'the': 1, 'product': 1, 'and':...          0   \n",
       "34734  {'i': 1, 'know': 1, 'everyone': 1, 'loves': 1,...          0   \n",
       "34566  {'i': 8, 'bought': 1, 'this': 2, 'for': 2, 'my...          0   \n",
       "34834  {'i': 3, 'received': 1, 'this': 3, 'toy': 1, '...          1   \n",
       "34586  {'i': 1, 'thought': 1, 'it': 1, 'was': 1, 'rea...          0   \n",
       "\n",
       "       predicted_sentiment  \n",
       "34732                    0  \n",
       "34734                    0  \n",
       "34566                    0  \n",
       "34834                    0  \n",
       "34586                    0  "
      ]
     },
     "execution_count": 98,
     "metadata": {},
     "output_type": "execute_result"
    }
   ],
   "source": [
    "giraffe_reviews.tail()"
   ]
  },
  {
   "cell_type": "markdown",
   "metadata": {},
   "source": [
    "# Exploring the top weighted words in the TIDIF word vector"
   ]
  },
  {
   "cell_type": "code",
   "execution_count": 99,
   "metadata": {},
   "outputs": [
    {
     "data": {
      "text/html": [
       "<div>\n",
       "<style scoped>\n",
       "    .dataframe tbody tr th:only-of-type {\n",
       "        vertical-align: middle;\n",
       "    }\n",
       "\n",
       "    .dataframe tbody tr th {\n",
       "        vertical-align: top;\n",
       "    }\n",
       "\n",
       "    .dataframe thead th {\n",
       "        text-align: right;\n",
       "    }\n",
       "</style>\n",
       "<table border=\"1\" class=\"dataframe\">\n",
       "  <thead>\n",
       "    <tr style=\"text-align: right;\">\n",
       "      <th></th>\n",
       "      <th>words</th>\n",
       "      <th>weights</th>\n",
       "    </tr>\n",
       "  </thead>\n",
       "  <tbody>\n",
       "    <tr>\n",
       "      <th>2509</th>\n",
       "      <td>love</td>\n",
       "      <td>12.951464</td>\n",
       "    </tr>\n",
       "    <tr>\n",
       "      <th>1911</th>\n",
       "      <td>great</td>\n",
       "      <td>11.090043</td>\n",
       "    </tr>\n",
       "    <tr>\n",
       "      <th>2512</th>\n",
       "      <td>loves</td>\n",
       "      <td>10.411803</td>\n",
       "    </tr>\n",
       "    <tr>\n",
       "      <th>1407</th>\n",
       "      <td>easy</td>\n",
       "      <td>10.320516</td>\n",
       "    </tr>\n",
       "    <tr>\n",
       "      <th>3084</th>\n",
       "      <td>perfect</td>\n",
       "      <td>9.958919</td>\n",
       "    </tr>\n",
       "    <tr>\n",
       "      <th>2049</th>\n",
       "      <td>highly</td>\n",
       "      <td>7.783108</td>\n",
       "    </tr>\n",
       "    <tr>\n",
       "      <th>3085</th>\n",
       "      <td>perfectly</td>\n",
       "      <td>7.511767</td>\n",
       "    </tr>\n",
       "    <tr>\n",
       "      <th>453</th>\n",
       "      <td>best</td>\n",
       "      <td>6.990400</td>\n",
       "    </tr>\n",
       "    <tr>\n",
       "      <th>1982</th>\n",
       "      <td>happy</td>\n",
       "      <td>6.284963</td>\n",
       "    </tr>\n",
       "    <tr>\n",
       "      <th>1524</th>\n",
       "      <td>excellent</td>\n",
       "      <td>6.027442</td>\n",
       "    </tr>\n",
       "    <tr>\n",
       "      <th>1857</th>\n",
       "      <td>glad</td>\n",
       "      <td>5.977446</td>\n",
       "    </tr>\n",
       "    <tr>\n",
       "      <th>327</th>\n",
       "      <td>awesome</td>\n",
       "      <td>5.885490</td>\n",
       "    </tr>\n",
       "    <tr>\n",
       "      <th>3171</th>\n",
       "      <td>pleased</td>\n",
       "      <td>5.741921</td>\n",
       "    </tr>\n",
       "    <tr>\n",
       "      <th>1521</th>\n",
       "      <td>exactly</td>\n",
       "      <td>5.484012</td>\n",
       "    </tr>\n",
       "    <tr>\n",
       "      <th>2466</th>\n",
       "      <td>little</td>\n",
       "      <td>5.414393</td>\n",
       "    </tr>\n",
       "  </tbody>\n",
       "</table>\n",
       "</div>"
      ],
      "text/plain": [
       "          words    weights\n",
       "2509       love  12.951464\n",
       "1911      great  11.090043\n",
       "2512      loves  10.411803\n",
       "1407       easy  10.320516\n",
       "3084    perfect   9.958919\n",
       "2049     highly   7.783108\n",
       "3085  perfectly   7.511767\n",
       "453        best   6.990400\n",
       "1982      happy   6.284963\n",
       "1524  excellent   6.027442\n",
       "1857       glad   5.977446\n",
       "327     awesome   5.885490\n",
       "3171    pleased   5.741921\n",
       "1521    exactly   5.484012\n",
       "2466     little   5.414393"
      ]
     },
     "execution_count": 99,
     "metadata": {},
     "output_type": "execute_result"
    }
   ],
   "source": [
    "word_weights = pd.DataFrame(list(zip(tfidf.get_feature_names(), # get all the n-gram feature names\n",
    "                                   sentiment_classifier_cln.coef_[0])), # get the logistic regression coefficients\n",
    "                          columns= ['words','weights']) # defining the colunm names\n",
    "\n",
    "word_weights.sort_values(['weights'], ascending = False)[:15] # top-15 more important features for positive reviews"
   ]
  },
  {
   "cell_type": "code",
   "execution_count": 100,
   "metadata": {},
   "outputs": [
    {
     "data": {
      "text/html": [
       "<div>\n",
       "<style scoped>\n",
       "    .dataframe tbody tr th:only-of-type {\n",
       "        vertical-align: middle;\n",
       "    }\n",
       "\n",
       "    .dataframe tbody tr th {\n",
       "        vertical-align: top;\n",
       "    }\n",
       "\n",
       "    .dataframe thead th {\n",
       "        text-align: right;\n",
       "    }\n",
       "</style>\n",
       "<table border=\"1\" class=\"dataframe\">\n",
       "  <thead>\n",
       "    <tr style=\"text-align: right;\">\n",
       "      <th></th>\n",
       "      <th>words</th>\n",
       "      <th>weights</th>\n",
       "    </tr>\n",
       "  </thead>\n",
       "  <tbody>\n",
       "    <tr>\n",
       "      <th>946</th>\n",
       "      <td>concept</td>\n",
       "      <td>-5.688980</td>\n",
       "    </tr>\n",
       "    <tr>\n",
       "      <th>592</th>\n",
       "      <td>broke</td>\n",
       "      <td>-5.747172</td>\n",
       "    </tr>\n",
       "    <tr>\n",
       "      <th>3199</th>\n",
       "      <td>poorly</td>\n",
       "      <td>-5.785103</td>\n",
       "    </tr>\n",
       "    <tr>\n",
       "      <th>2086</th>\n",
       "      <td>horrible</td>\n",
       "      <td>-5.798640</td>\n",
       "    </tr>\n",
       "    <tr>\n",
       "      <th>2121</th>\n",
       "      <td>idea</td>\n",
       "      <td>-5.922231</td>\n",
       "    </tr>\n",
       "    <tr>\n",
       "      <th>4425</th>\n",
       "      <td>terrible</td>\n",
       "      <td>-5.965010</td>\n",
       "    </tr>\n",
       "    <tr>\n",
       "      <th>3573</th>\n",
       "      <td>return</td>\n",
       "      <td>-6.924292</td>\n",
       "    </tr>\n",
       "    <tr>\n",
       "      <th>1279</th>\n",
       "      <td>disappointing</td>\n",
       "      <td>-6.946829</td>\n",
       "    </tr>\n",
       "    <tr>\n",
       "      <th>4716</th>\n",
       "      <td>useless</td>\n",
       "      <td>-7.064777</td>\n",
       "    </tr>\n",
       "    <tr>\n",
       "      <th>4947</th>\n",
       "      <td>worst</td>\n",
       "      <td>-7.295879</td>\n",
       "    </tr>\n",
       "    <tr>\n",
       "      <th>3198</th>\n",
       "      <td>poor</td>\n",
       "      <td>-7.373162</td>\n",
       "    </tr>\n",
       "    <tr>\n",
       "      <th>3575</th>\n",
       "      <td>returning</td>\n",
       "      <td>-7.423996</td>\n",
       "    </tr>\n",
       "    <tr>\n",
       "      <th>4824</th>\n",
       "      <td>waste</td>\n",
       "      <td>-7.885413</td>\n",
       "    </tr>\n",
       "    <tr>\n",
       "      <th>3574</th>\n",
       "      <td>returned</td>\n",
       "      <td>-7.900347</td>\n",
       "    </tr>\n",
       "    <tr>\n",
       "      <th>1278</th>\n",
       "      <td>disappointed</td>\n",
       "      <td>-9.100353</td>\n",
       "    </tr>\n",
       "  </tbody>\n",
       "</table>\n",
       "</div>"
      ],
      "text/plain": [
       "              words   weights\n",
       "946         concept -5.688980\n",
       "592           broke -5.747172\n",
       "3199         poorly -5.785103\n",
       "2086       horrible -5.798640\n",
       "2121           idea -5.922231\n",
       "4425       terrible -5.965010\n",
       "3573         return -6.924292\n",
       "1279  disappointing -6.946829\n",
       "4716        useless -7.064777\n",
       "4947          worst -7.295879\n",
       "3198           poor -7.373162\n",
       "3575      returning -7.423996\n",
       "4824          waste -7.885413\n",
       "3574       returned -7.900347\n",
       "1278   disappointed -9.100353"
      ]
     },
     "execution_count": 100,
     "metadata": {},
     "output_type": "execute_result"
    }
   ],
   "source": [
    "word_weights.sort_values(['weights'], ascending = False)[-15:] # top-15 more important features for negative reviews"
   ]
  },
  {
   "cell_type": "markdown",
   "metadata": {},
   "source": [
    "# Training a model with only selected words  (TIDIF only as less mis-classifications)"
   ]
  },
  {
   "cell_type": "code",
   "execution_count": 101,
   "metadata": {},
   "outputs": [],
   "source": [
    "selected_words = ['love', 'great', 'loves', 'easy', 'perfect', 'highly', 'perfectly', 'happy', 'excellent', 'glad', 'pleased', 'disappointed', 'returned', 'waste', 'poor', 'worst', 'useless', 'terrible', 'horrible', 'idea', 'broke', 'concept']"
   ]
  },
  {
   "cell_type": "code",
   "execution_count": 102,
   "metadata": {},
   "outputs": [],
   "source": [
    "import re\n",
    "def retain_selected(x):\n",
    "    resultwords  = [word for word in re.split(\"\\W+\",x) if word.lower() in selected_words]\n",
    "    result = ' '.join(resultwords)\n",
    "    return(result)"
   ]
  },
  {
   "cell_type": "code",
   "execution_count": 103,
   "metadata": {},
   "outputs": [],
   "source": [
    "products['review_selected'] = products['review_lower'].apply(lambda x: retain_selected(x))"
   ]
  },
  {
   "cell_type": "code",
   "execution_count": 104,
   "metadata": {},
   "outputs": [],
   "source": [
    "x_selected = products['review_selected']\n",
    "y_selected = products['sentiment']\n",
    "\n",
    "x_selected = tfidf.fit_transform(x_selected)"
   ]
  },
  {
   "cell_type": "code",
   "execution_count": 105,
   "metadata": {},
   "outputs": [],
   "source": [
    "x_sel_train, x_sel_test, y_sel_train, y_sel_test = train_test_split(x_selected, y_selected, test_size=0.2, shuffle=False, random_state = 0)"
   ]
  },
  {
   "cell_type": "code",
   "execution_count": 106,
   "metadata": {},
   "outputs": [],
   "source": [
    "selected_words_classifier = LogisticRegression(random_state=0, fit_intercept=True)"
   ]
  },
  {
   "cell_type": "code",
   "execution_count": 107,
   "metadata": {},
   "outputs": [
    {
     "data": {
      "text/plain": [
       "LogisticRegression(C=1.0, class_weight=None, dual=False, fit_intercept=True,\n",
       "                   intercept_scaling=1, l1_ratio=None, max_iter=100,\n",
       "                   multi_class='warn', n_jobs=None, penalty='l2',\n",
       "                   random_state=0, solver='warn', tol=0.0001, verbose=0,\n",
       "                   warm_start=False)"
      ]
     },
     "execution_count": 107,
     "metadata": {},
     "output_type": "execute_result"
    }
   ],
   "source": [
    "selected_words_classifier.fit(x_sel_train, y_sel_train)"
   ]
  },
  {
   "cell_type": "code",
   "execution_count": 108,
   "metadata": {},
   "outputs": [],
   "source": [
    "y_predicted_test_sel = selected_words_classifier.predict(x_sel_test)"
   ]
  },
  {
   "cell_type": "code",
   "execution_count": 109,
   "metadata": {},
   "outputs": [
    {
     "name": "stdout",
     "output_type": "stream",
     "text": [
      "F1 score:  0.9358615169101461\n"
     ]
    }
   ],
   "source": [
    "print(\"F1 score: \", f1_score(y_sel_test, y_predicted_test_sel))"
   ]
  },
  {
   "cell_type": "markdown",
   "metadata": {},
   "source": [
    "# Confusion matrix for model using selected words"
   ]
  },
  {
   "cell_type": "code",
   "execution_count": 110,
   "metadata": {},
   "outputs": [],
   "source": [
    "y_predicted_test_selected = selected_words_classifier.predict(x_sel_test)"
   ]
  },
  {
   "cell_type": "code",
   "execution_count": 111,
   "metadata": {},
   "outputs": [],
   "source": [
    "cnf_matrix_selected_words = metrics.confusion_matrix(np.squeeze(y_sel_test), np.squeeze(y_predicted_test_sel))"
   ]
  },
  {
   "cell_type": "code",
   "execution_count": 112,
   "metadata": {},
   "outputs": [
    {
     "data": {
      "text/plain": [
       "array([[ 1446,  3386],\n",
       "       [  460, 28059]], dtype=int64)"
      ]
     },
     "execution_count": 112,
     "metadata": {},
     "output_type": "execute_result"
    }
   ],
   "source": [
    "cnf_matrix_selected_words"
   ]
  },
  {
   "cell_type": "code",
   "execution_count": 113,
   "metadata": {},
   "outputs": [
    {
     "data": {
      "image/png": "[encoded data removed]",
      "text/plain": [
       "<Figure size 1008x432 with 2 Axes>"
      ]
     },
     "metadata": {},
     "output_type": "display_data"
    }
   ],
   "source": [
    "import seaborn as sn\n",
    "sn.heatmap(cnf_matrix_selected_words, annot=True)\n",
    "plt.show()"
   ]
  },
  {
   "cell_type": "markdown",
   "metadata": {},
   "source": [
    "# ROC score of the model which took only the selected words into consideration"
   ]
  },
  {
   "cell_type": "code",
   "execution_count": 114,
   "metadata": {},
   "outputs": [
    {
     "data": {
      "text/plain": [
       "0.8315026606766127"
      ]
     },
     "execution_count": 114,
     "metadata": {},
     "output_type": "execute_result"
    }
   ],
   "source": [
    "metrics.roc_auc_score(y_selected, selected_words_classifier.decision_function(x_selected))"
   ]
  },
  {
   "cell_type": "code",
   "execution_count": null,
   "metadata": {},
   "outputs": [],
   "source": []
  }
 ],
 "metadata": {
  "kernelspec": {
   "display_name": "Python 3",
   "language": "python",
   "name": "python3"
  },
  "language_info": {
   "codemirror_mode": {
    "name": "ipython",
    "version": 3
   },
   "file_extension": ".py",
   "mimetype": "text/x-python",
   "name": "python",
   "nbconvert_exporter": "python",
   "pygments_lexer": "ipython3",
   "version": "3.7.9"
  }
 },
 "nbformat": 4,
 "nbformat_minor": 2
}
